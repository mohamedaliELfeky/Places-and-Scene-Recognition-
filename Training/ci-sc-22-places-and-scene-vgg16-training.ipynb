{
 "cells": [
  {
   "cell_type": "markdown",
   "id": "0d4670c2",
   "metadata": {
    "papermill": {
     "duration": 0.02853,
     "end_time": "2021-12-26T11:26:02.481824",
     "exception": false,
     "start_time": "2021-12-26T11:26:02.453294",
     "status": "completed"
    },
    "tags": []
   },
   "source": [
    "# **Import Modules**"
   ]
  },
  {
   "cell_type": "code",
   "execution_count": 1,
   "id": "7ff97048",
   "metadata": {
    "execution": {
     "iopub.execute_input": "2021-12-26T11:26:02.544910Z",
     "iopub.status.busy": "2021-12-26T11:26:02.544261Z",
     "iopub.status.idle": "2021-12-26T11:26:02.547271Z",
     "shell.execute_reply": "2021-12-26T11:26:02.547723Z",
     "shell.execute_reply.started": "2021-12-26T11:03:04.697823Z"
    },
    "papermill": {
     "duration": 0.040733,
     "end_time": "2021-12-26T11:26:02.548098",
     "exception": false,
     "start_time": "2021-12-26T11:26:02.507365",
     "status": "completed"
    },
    "tags": []
   },
   "outputs": [],
   "source": [
    "import sys\n",
    "\n",
    "import os\n",
    "\n",
    "import random as pyrand\n",
    "\n",
    "os.environ['TF_CPP_MIN_LOG_LEVEL'] = '3'\n",
    "\n",
    "sys.path.insert(0, '../input/deeplearning-utils')"
   ]
  },
  {
   "cell_type": "code",
   "execution_count": 2,
   "id": "fae768bf",
   "metadata": {
    "execution": {
     "iopub.execute_input": "2021-12-26T11:26:02.603118Z",
     "iopub.status.busy": "2021-12-26T11:26:02.602356Z",
     "iopub.status.idle": "2021-12-26T11:26:09.777324Z",
     "shell.execute_reply": "2021-12-26T11:26:09.776668Z",
     "shell.execute_reply.started": "2021-12-26T11:03:05.202594Z"
    },
    "papermill": {
     "duration": 7.204942,
     "end_time": "2021-12-26T11:26:09.777522",
     "exception": false,
     "start_time": "2021-12-26T11:26:02.572580",
     "status": "completed"
    },
    "tags": []
   },
   "outputs": [],
   "source": [
    "from utils.ops import plot\n",
    "\n",
    "from utils.tf.ops import io, eval as tf_eval"
   ]
  },
  {
   "cell_type": "code",
   "execution_count": 3,
   "id": "7e081cad",
   "metadata": {
    "execution": {
     "iopub.execute_input": "2021-12-26T11:26:09.835348Z",
     "iopub.status.busy": "2021-12-26T11:26:09.834225Z",
     "iopub.status.idle": "2021-12-26T11:26:10.045637Z",
     "shell.execute_reply": "2021-12-26T11:26:10.044892Z",
     "shell.execute_reply.started": "2021-12-26T11:03:12.532116Z"
    },
    "papermill": {
     "duration": 0.240967,
     "end_time": "2021-12-26T11:26:10.045835",
     "exception": false,
     "start_time": "2021-12-26T11:26:09.804868",
     "status": "completed"
    },
    "tags": []
   },
   "outputs": [],
   "source": [
    "# This Python 3 environment comes with many helpful analytics libraries installed\n",
    "# It is defined by the kaggle/python Docker image: https://github.com/kaggle/docker-python\n",
    "# For example, here's several helpful packages to load\n",
    "\n",
    "import numpy as np # linear algebra\n",
    "import pandas as pd # data processing, CSV file I/O (e.g. pd.read_csv)\n",
    "\n",
    "# Input data files are available in the read-only \"../input/\" directory\n",
    "# For example, running this (by clicking run or pressing Shift+Enter) will list all files under the input directory\n",
    "\n",
    "import os\n",
    "\n",
    "import matplotlib.pyplot as plt\n",
    "import seaborn as sns\n",
    "\n",
    "from sklearn.model_selection import KFold\n",
    "\n",
    "from tqdm import tqdm"
   ]
  },
  {
   "cell_type": "code",
   "execution_count": 4,
   "id": "ee8ec039",
   "metadata": {
    "execution": {
     "iopub.execute_input": "2021-12-26T11:26:10.103934Z",
     "iopub.status.busy": "2021-12-26T11:26:10.102896Z",
     "iopub.status.idle": "2021-12-26T11:26:10.108317Z",
     "shell.execute_reply": "2021-12-26T11:26:10.108850Z",
     "shell.execute_reply.started": "2021-12-26T11:03:12.729356Z"
    },
    "papermill": {
     "duration": 0.03771,
     "end_time": "2021-12-26T11:26:10.109117",
     "exception": false,
     "start_time": "2021-12-26T11:26:10.071407",
     "status": "completed"
    },
    "tags": []
   },
   "outputs": [],
   "source": [
    "from kaggle_secrets import UserSecretsClient\n",
    "from kaggle_datasets import KaggleDatasets"
   ]
  },
  {
   "cell_type": "code",
   "execution_count": 5,
   "id": "afe3de57",
   "metadata": {
    "execution": {
     "iopub.execute_input": "2021-12-26T11:26:10.168869Z",
     "iopub.status.busy": "2021-12-26T11:26:10.168049Z",
     "iopub.status.idle": "2021-12-26T11:26:10.303475Z",
     "shell.execute_reply": "2021-12-26T11:26:10.301957Z",
     "shell.execute_reply.started": "2021-12-26T11:03:12.738921Z"
    },
    "papermill": {
     "duration": 0.167314,
     "end_time": "2021-12-26T11:26:10.303672",
     "exception": false,
     "start_time": "2021-12-26T11:26:10.136358",
     "status": "completed"
    },
    "tags": []
   },
   "outputs": [],
   "source": [
    "import tensorflow as tf\n",
    "\n",
    "from tensorflow.keras import backend, optimizers, regularizers\n",
    "\n",
    "from tensorflow.keras.layers import *\n",
    "\n",
    "from tensorflow.keras.models import Sequential, Model\n",
    "\n",
    "from tensorflow.keras.callbacks import LearningRateScheduler\n",
    "\n",
    "# from tensorflow.keras.applications import *\n",
    "\n",
    "from tensorflow.keras.layers.experimental import preprocessing\n",
    "\n",
    "import tensorflow_addons as tfa"
   ]
  },
  {
   "cell_type": "markdown",
   "id": "75359e5e",
   "metadata": {
    "papermill": {
     "duration": 0.025865,
     "end_time": "2021-12-26T11:26:10.356641",
     "exception": false,
     "start_time": "2021-12-26T11:26:10.330776",
     "status": "completed"
    },
    "tags": []
   },
   "source": [
    "# **Config**"
   ]
  },
  {
   "cell_type": "code",
   "execution_count": 6,
   "id": "60e90d2c",
   "metadata": {
    "execution": {
     "iopub.execute_input": "2021-12-26T11:26:10.412175Z",
     "iopub.status.busy": "2021-12-26T11:26:10.411412Z",
     "iopub.status.idle": "2021-12-26T11:26:10.416663Z",
     "shell.execute_reply": "2021-12-26T11:26:10.417210Z",
     "shell.execute_reply.started": "2021-12-26T11:03:12.863820Z"
    },
    "papermill": {
     "duration": 0.03546,
     "end_time": "2021-12-26T11:26:10.417424",
     "exception": false,
     "start_time": "2021-12-26T11:26:10.381964",
     "status": "completed"
    },
    "tags": []
   },
   "outputs": [],
   "source": [
    "def set_seed(tf_seed=0, np_seed=0, py_rand=0, py_hash=0):\n",
    "\n",
    "    os.environ['PYTHONHASHSEED'] = str(py_hash)\n",
    "    pyrand.seed(py_rand)\n",
    "\n",
    "    tf.random.set_seed(tf_seed)\n",
    "    np.random.seed(np_seed)"
   ]
  },
  {
   "cell_type": "code",
   "execution_count": 7,
   "id": "86fe0241",
   "metadata": {
    "execution": {
     "iopub.execute_input": "2021-12-26T11:26:10.473160Z",
     "iopub.status.busy": "2021-12-26T11:26:10.470991Z",
     "iopub.status.idle": "2021-12-26T11:26:10.475770Z",
     "shell.execute_reply": "2021-12-26T11:26:10.475181Z",
     "shell.execute_reply.started": "2021-12-26T11:03:12.870751Z"
    },
    "papermill": {
     "duration": 0.032671,
     "end_time": "2021-12-26T11:26:10.475939",
     "exception": false,
     "start_time": "2021-12-26T11:26:10.443268",
     "status": "completed"
    },
    "tags": []
   },
   "outputs": [],
   "source": [
    "PATH = {'224': 'cisc22placesandscene224x224'}"
   ]
  },
  {
   "cell_type": "code",
   "execution_count": 8,
   "id": "8858df2f",
   "metadata": {
    "execution": {
     "iopub.execute_input": "2021-12-26T11:26:10.533613Z",
     "iopub.status.busy": "2021-12-26T11:26:10.532910Z",
     "iopub.status.idle": "2021-12-26T11:26:10.535249Z",
     "shell.execute_reply": "2021-12-26T11:26:10.535753Z",
     "shell.execute_reply.started": "2021-12-26T11:03:12.884399Z"
    },
    "papermill": {
     "duration": 0.033175,
     "end_time": "2021-12-26T11:26:10.535951",
     "exception": false,
     "start_time": "2021-12-26T11:26:10.502776",
     "status": "completed"
    },
    "tags": []
   },
   "outputs": [],
   "source": [
    "class Config:\n",
    "    \n",
    "    SEED = 2053\n",
    "    \n",
    "    IMAGE_SIZE = (224, 224)\n",
    "\n",
    "    TRAIN_BATCH_SIZE = 32\n",
    "    VAL_BATCH_SIZE = 32\n",
    "        \n",
    "    SPLIT =10\n",
    "        \n",
    "    EPOCHS = 150\n",
    "    \n",
    "    TRAINING = True"
   ]
  },
  {
   "cell_type": "code",
   "execution_count": 9,
   "id": "b02a53d3",
   "metadata": {
    "execution": {
     "iopub.execute_input": "2021-12-26T11:26:10.590447Z",
     "iopub.status.busy": "2021-12-26T11:26:10.588660Z",
     "iopub.status.idle": "2021-12-26T11:26:10.593305Z",
     "shell.execute_reply": "2021-12-26T11:26:10.592743Z",
     "shell.execute_reply.started": "2021-12-26T11:03:12.898326Z"
    },
    "papermill": {
     "duration": 0.032535,
     "end_time": "2021-12-26T11:26:10.593470",
     "exception": false,
     "start_time": "2021-12-26T11:26:10.560935",
     "status": "completed"
    },
    "tags": []
   },
   "outputs": [],
   "source": [
    "set_seed(Config.SEED)"
   ]
  },
  {
   "cell_type": "code",
   "execution_count": 10,
   "id": "b5ae9e44",
   "metadata": {
    "execution": {
     "iopub.execute_input": "2021-12-26T11:26:10.646539Z",
     "iopub.status.busy": "2021-12-26T11:26:10.645785Z",
     "iopub.status.idle": "2021-12-26T11:26:17.036920Z",
     "shell.execute_reply": "2021-12-26T11:26:17.036182Z",
     "shell.execute_reply.started": "2021-12-26T11:03:12.913288Z"
    },
    "papermill": {
     "duration": 6.418742,
     "end_time": "2021-12-26T11:26:17.037101",
     "exception": false,
     "start_time": "2021-12-26T11:26:10.618359",
     "status": "completed"
    },
    "tags": []
   },
   "outputs": [
    {
     "name": "stdout",
     "output_type": "stream",
     "text": [
      "Running on TPU  grpc://10.0.0.2:8470\n",
      "REPLICAS:  8\n"
     ]
    }
   ],
   "source": [
    "try:\n",
    "    \n",
    "    tpu = tf.distribute.cluster_resolver.TPUClusterResolver()\n",
    "    \n",
    "    print('Running on TPU ', tpu.master())\n",
    "    \n",
    "except ValueError:\n",
    "  \n",
    "    tpu = None\n",
    "\n",
    "if tpu is not None:\n",
    "    \n",
    "    tf.config.experimental_connect_to_cluster(tpu)\n",
    "    tf.tpu.experimental.initialize_tpu_system(tpu)\n",
    "\n",
    "    strategy = tf.distribute.experimental.TPUStrategy(tpu)\n",
    "\n",
    "else:\n",
    "    \n",
    "    strategy = tf.distribute.get_strategy()\n",
    "\n",
    "\n",
    "print(\"REPLICAS: \", strategy.num_replicas_in_sync)"
   ]
  },
  {
   "cell_type": "code",
   "execution_count": 11,
   "id": "92e779e2",
   "metadata": {
    "execution": {
     "iopub.execute_input": "2021-12-26T11:26:17.092392Z",
     "iopub.status.busy": "2021-12-26T11:26:17.091746Z",
     "iopub.status.idle": "2021-12-26T11:26:18.053939Z",
     "shell.execute_reply": "2021-12-26T11:26:18.053364Z",
     "shell.execute_reply.started": "2021-12-26T11:03:18.905422Z"
    },
    "papermill": {
     "duration": 0.991566,
     "end_time": "2021-12-26T11:26:18.054117",
     "exception": false,
     "start_time": "2021-12-26T11:26:17.062551",
     "status": "completed"
    },
    "tags": []
   },
   "outputs": [],
   "source": [
    "user_secrets = UserSecretsClient()\n",
    "user_credential = user_secrets.get_gcloud_credential()\n",
    "\n",
    "user_secrets.set_tensorflow_credential(user_credential)\n",
    "\n",
    "GCS_DS_PATH = KaggleDatasets().get_gcs_path(PATH['224'])"
   ]
  },
  {
   "cell_type": "code",
   "execution_count": 12,
   "id": "3991fbfb",
   "metadata": {
    "execution": {
     "iopub.execute_input": "2021-12-26T11:26:18.110375Z",
     "iopub.status.busy": "2021-12-26T11:26:18.109741Z",
     "iopub.status.idle": "2021-12-26T11:26:18.414617Z",
     "shell.execute_reply": "2021-12-26T11:26:18.414024Z",
     "shell.execute_reply.started": "2021-12-26T11:03:19.754580Z"
    },
    "papermill": {
     "duration": 0.335729,
     "end_time": "2021-12-26T11:26:18.414766",
     "exception": false,
     "start_time": "2021-12-26T11:26:18.079037",
     "status": "completed"
    },
    "tags": []
   },
   "outputs": [],
   "source": [
    "augmentations = []\n",
    "\n",
    "augmentations.append(preprocessing.RandomFlip(mode='horizontal'))\n",
    "augmentations.append(preprocessing.RandomContrast(factor=0.8))\n",
    "augmentations.append(preprocessing.RandomRotation(factor=0.1, dtype=tf.float32))\n",
    "\n",
    "augmentations = Sequential(augmentations)"
   ]
  },
  {
   "cell_type": "markdown",
   "id": "5fb2434f",
   "metadata": {
    "papermill": {
     "duration": 0.024718,
     "end_time": "2021-12-26T11:26:18.464913",
     "exception": false,
     "start_time": "2021-12-26T11:26:18.440195",
     "status": "completed"
    },
    "tags": []
   },
   "source": [
    "# **Load Data**"
   ]
  },
  {
   "cell_type": "code",
   "execution_count": 13,
   "id": "56c81ade",
   "metadata": {
    "execution": {
     "iopub.execute_input": "2021-12-26T11:26:18.521311Z",
     "iopub.status.busy": "2021-12-26T11:26:18.520437Z",
     "iopub.status.idle": "2021-12-26T11:26:18.523517Z",
     "shell.execute_reply": "2021-12-26T11:26:18.523997Z",
     "shell.execute_reply.started": "2021-12-26T11:03:20.256440Z"
    },
    "papermill": {
     "duration": 0.033949,
     "end_time": "2021-12-26T11:26:18.524174",
     "exception": false,
     "start_time": "2021-12-26T11:26:18.490225",
     "status": "completed"
    },
    "tags": []
   },
   "outputs": [],
   "source": [
    "AUTOTUNE = tf.data.experimental.AUTOTUNE\n",
    "\n",
    "ignore_order = tf.data.Options()\n",
    "ignore_order.experimental_deterministic = False"
   ]
  },
  {
   "cell_type": "code",
   "execution_count": 14,
   "id": "663d2adf",
   "metadata": {
    "execution": {
     "iopub.execute_input": "2021-12-26T11:26:18.579315Z",
     "iopub.status.busy": "2021-12-26T11:26:18.578660Z",
     "iopub.status.idle": "2021-12-26T11:26:19.736573Z",
     "shell.execute_reply": "2021-12-26T11:26:19.735865Z",
     "shell.execute_reply.started": "2021-12-26T11:03:28.650579Z"
    },
    "papermill": {
     "duration": 1.187348,
     "end_time": "2021-12-26T11:26:19.736724",
     "exception": false,
     "start_time": "2021-12-26T11:26:18.549376",
     "status": "completed"
    },
    "tags": []
   },
   "outputs": [
    {
     "name": "stdout",
     "output_type": "stream",
     "text": [
      "50\n"
     ]
    }
   ],
   "source": [
    "train_rec = tf.io.gfile.glob(GCS_DS_PATH + '/train/train/*')\n",
    "\n",
    "train_rec = np.array(train_rec)\n",
    "\n",
    "print(len(train_rec))"
   ]
  },
  {
   "cell_type": "code",
   "execution_count": 15,
   "id": "83efdfcb",
   "metadata": {
    "execution": {
     "iopub.execute_input": "2021-12-26T11:26:19.794008Z",
     "iopub.status.busy": "2021-12-26T11:26:19.793323Z",
     "iopub.status.idle": "2021-12-26T11:26:19.795916Z",
     "shell.execute_reply": "2021-12-26T11:26:19.795301Z",
     "shell.execute_reply.started": "2021-12-26T11:03:40.750806Z"
    },
    "papermill": {
     "duration": 0.033729,
     "end_time": "2021-12-26T11:26:19.796078",
     "exception": false,
     "start_time": "2021-12-26T11:26:19.762349",
     "status": "completed"
    },
    "tags": []
   },
   "outputs": [],
   "source": [
    "def train_processing(x, y):\n",
    "        \n",
    "    x = tf.cast(x, dtype=tf.float32)\n",
    "    x /= 255.0\n",
    "        \n",
    "    y = tf.one_hot(y, depth=6)\n",
    "    \n",
    "    return augmentations(x, training=Config.TRAINING), y"
   ]
  },
  {
   "cell_type": "code",
   "execution_count": 16,
   "id": "44ed338d",
   "metadata": {
    "execution": {
     "iopub.execute_input": "2021-12-26T11:26:19.859462Z",
     "iopub.status.busy": "2021-12-26T11:26:19.858717Z",
     "iopub.status.idle": "2021-12-26T11:26:19.862414Z",
     "shell.execute_reply": "2021-12-26T11:26:19.861749Z",
     "shell.execute_reply.started": "2021-12-26T11:03:41.627586Z"
    },
    "papermill": {
     "duration": 0.041172,
     "end_time": "2021-12-26T11:26:19.862576",
     "exception": false,
     "start_time": "2021-12-26T11:26:19.821404",
     "status": "completed"
    },
    "tags": []
   },
   "outputs": [],
   "source": [
    "def split_generator(train_idx, val_idx):\n",
    "    \n",
    "    dtype = {'image': 'bytes', 'label': 'int64'}\n",
    "    \n",
    "    reader = io.TfRecordReader(features_dtype=dtype,  image_key='image', \n",
    "                               tfrecord_shape=[*Config.IMAGE_SIZE, 3],  \n",
    "                               shape=None, channels=3,  func=None)\n",
    "    \n",
    "    train_data = tf.data.TFRecordDataset(train_rec[train_idx], num_parallel_reads=AUTOTUNE)\n",
    "    train_data = train_data.with_options(ignore_order)\n",
    "\n",
    "    train_data = train_data.map(reader.read_tfrecord, num_parallel_calls=AUTOTUNE)\n",
    "    train_data = train_data.shuffle(512, reshuffle_each_iteration=True)\n",
    "    train_data = train_data.batch(Config.TRAIN_BATCH_SIZE)\n",
    "    train_data = train_data.prefetch(AUTOTUNE)\n",
    "    train_data = train_data.map(train_processing)\n",
    "    \n",
    "    val_data = tf.data.TFRecordDataset(train_rec[val_idx], num_parallel_reads=AUTOTUNE)\n",
    "    val_data = val_data.with_options(ignore_order)\n",
    "\n",
    "    val_data = val_data.map(reader.read_tfrecord, num_parallel_calls=AUTOTUNE)\n",
    "    val_data = val_data.batch(Config.VAL_BATCH_SIZE)\n",
    "    val_data = val_data.prefetch(AUTOTUNE)\n",
    "    val_data = val_data.map(train_processing)\n",
    "    \n",
    "    return train_data, val_data"
   ]
  },
  {
   "cell_type": "code",
   "execution_count": 17,
   "id": "ffbb36aa",
   "metadata": {
    "execution": {
     "iopub.execute_input": "2021-12-26T11:26:19.925776Z",
     "iopub.status.busy": "2021-12-26T11:26:19.925029Z",
     "iopub.status.idle": "2021-12-26T11:26:22.160093Z",
     "shell.execute_reply": "2021-12-26T11:26:22.160695Z",
     "shell.execute_reply.started": "2021-12-26T11:03:42.438395Z"
    },
    "papermill": {
     "duration": 2.27177,
     "end_time": "2021-12-26T11:26:22.160923",
     "exception": false,
     "start_time": "2021-12-26T11:26:19.889153",
     "status": "completed"
    },
    "tags": []
   },
   "outputs": [
    {
     "data": {
      "image/png": "[encoded data removed]",
      "text/plain": [
       "<Figure size 432x288 with 1 Axes>"
      ]
     },
     "metadata": {
      "needs_background": "light"
     },
     "output_type": "display_data"
    }
   ],
   "source": [
    "sample_x, sample_y = split_generator(0, 1)[0].unbatch().as_numpy_iterator().next()\n",
    "\n",
    "plt.imshow(sample_x)\n",
    "plt.title(f'label = {int(sample_y.argmax())}')\n",
    "plt.axis('off')\n",
    "plt.show()"
   ]
  },
  {
   "cell_type": "markdown",
   "id": "02cd3f9a",
   "metadata": {
    "papermill": {
     "duration": 0.029811,
     "end_time": "2021-12-26T11:26:22.220476",
     "exception": false,
     "start_time": "2021-12-26T11:26:22.190665",
     "status": "completed"
    },
    "tags": []
   },
   "source": [
    "# **Build Model**"
   ]
  },
  {
   "cell_type": "code",
   "execution_count": 18,
   "id": "cf03c55a",
   "metadata": {
    "execution": {
     "iopub.execute_input": "2021-12-26T11:26:22.282686Z",
     "iopub.status.busy": "2021-12-26T11:26:22.281922Z",
     "iopub.status.idle": "2021-12-26T11:26:22.286246Z",
     "shell.execute_reply": "2021-12-26T11:26:22.286796Z",
     "shell.execute_reply.started": "2021-12-26T11:03:49.335028Z"
    },
    "papermill": {
     "duration": 0.037586,
     "end_time": "2021-12-26T11:26:22.287013",
     "exception": false,
     "start_time": "2021-12-26T11:26:22.249427",
     "status": "completed"
    },
    "tags": []
   },
   "outputs": [],
   "source": [
    "input_shape = (*Config.IMAGE_SIZE, 3)"
   ]
  },
  {
   "cell_type": "code",
   "execution_count": 19,
   "id": "04ccb688",
   "metadata": {
    "execution": {
     "iopub.execute_input": "2021-12-26T11:26:22.350062Z",
     "iopub.status.busy": "2021-12-26T11:26:22.349371Z",
     "iopub.status.idle": "2021-12-26T11:26:26.007450Z",
     "shell.execute_reply": "2021-12-26T11:26:26.007931Z",
     "shell.execute_reply.started": "2021-12-26T11:03:50.340246Z"
    },
    "papermill": {
     "duration": 3.691237,
     "end_time": "2021-12-26T11:26:26.008151",
     "exception": false,
     "start_time": "2021-12-26T11:26:22.316914",
     "status": "completed"
    },
    "tags": []
   },
   "outputs": [],
   "source": [
    "with strategy.scope():\n",
    "    \n",
    "    vgg16 =  tf.keras.models.load_model('../input/cisc22buildvgg16/vgg16_places365_no_top.h5', compile=False)\n",
    "        \n",
    "    outputs = []\n",
    "    \n",
    "    outputs.append(vgg16.get_layer('block2_pool').output)\n",
    "    outputs.append(vgg16.get_layer('block3_pool').output)\n",
    "    outputs.append(vgg16.get_layer('block4_pool').output)\n",
    "    outputs.append(vgg16.get_layer('block5_pool').output)\n",
    "    \n",
    "    backbone = Model(vgg16.inputs, outputs)"
   ]
  },
  {
   "cell_type": "code",
   "execution_count": 20,
   "id": "783f5eb0",
   "metadata": {
    "execution": {
     "iopub.execute_input": "2021-12-26T11:26:26.084224Z",
     "iopub.status.busy": "2021-12-26T11:26:26.083326Z",
     "iopub.status.idle": "2021-12-26T11:26:26.085787Z",
     "shell.execute_reply": "2021-12-26T11:26:26.085288Z",
     "shell.execute_reply.started": "2021-12-26T11:03:54.454649Z"
    },
    "papermill": {
     "duration": 0.045245,
     "end_time": "2021-12-26T11:26:26.085927",
     "exception": false,
     "start_time": "2021-12-26T11:26:26.040682",
     "status": "completed"
    },
    "tags": []
   },
   "outputs": [],
   "source": [
    "def build_model():\n",
    "    \n",
    "    backbone.trainable = False\n",
    "    \n",
    "    # ===================================================================================\n",
    "    \n",
    "    inputs = Input(shape=input_shape)\n",
    "    \n",
    "    inception = backbone(inputs)\n",
    "    \n",
    "    features = []\n",
    "    \n",
    "    activation = ['linear', 'relu', 'relu', 'relu']\n",
    "    \n",
    "    dropout_rate = [None, None, None, None]\n",
    "    \n",
    "    for i in range(len(inception)):\n",
    "                    \n",
    "        fi = Conv2D(1024, (1, 1), activation=activation[i])(inception[i])\n",
    "        fi = Conv2D(1024, (1, 1), activation=activation[i])(fi)\n",
    "        \n",
    "        if dropout_rate[i] is not None:\n",
    "            \n",
    "            fi = Dropout(dropout_rate[i])(fi)\n",
    "            \n",
    "        fi = GlobalAveragePooling2D()(fi)\n",
    "        \n",
    "        features.append(fi)\n",
    "    \n",
    "    features = Concatenate(axis=-1)(features)\n",
    "    \n",
    "    # ===================================================================================\n",
    "\n",
    "    y_logits = Dense(6, name='y_logits')(features)\n",
    "    y_proba = Activation('softmax', name='y_proba')(y_logits)\n",
    "    \n",
    "    # ===================================================================================\n",
    "\n",
    "    model = Model(inputs, y_proba)\n",
    "    \n",
    "    # ===================================================================================\n",
    "    \n",
    "    optimizer = optimizers.Adam(learning_rate=1e-3, beta_1=0.9, beta_2=0.999)\n",
    "    \n",
    "    loss = tf.losses.CategoricalCrossentropy(label_smoothing=0.25, name='categorical_crossentropy')\n",
    "    metrics = tf.metrics.CategoricalAccuracy(name='accuracy_score')\n",
    "    \n",
    "    model.compile(optimizer=optimizer, loss=loss, metrics=metrics)\n",
    "    \n",
    "    # ===================================================================================\n",
    "\n",
    "    return model"
   ]
  },
  {
   "cell_type": "code",
   "execution_count": 21,
   "id": "e8e19fc8",
   "metadata": {
    "execution": {
     "iopub.execute_input": "2021-12-26T11:26:26.150797Z",
     "iopub.status.busy": "2021-12-26T11:26:26.150029Z",
     "iopub.status.idle": "2021-12-26T11:26:26.379582Z",
     "shell.execute_reply": "2021-12-26T11:26:26.378632Z",
     "shell.execute_reply.started": "2021-12-26T11:03:54.471189Z"
    },
    "papermill": {
     "duration": 0.264856,
     "end_time": "2021-12-26T11:26:26.379780",
     "exception": false,
     "start_time": "2021-12-26T11:26:26.114924",
     "status": "completed"
    },
    "tags": []
   },
   "outputs": [
    {
     "name": "stdout",
     "output_type": "stream",
     "text": [
      "Model: \"model_1\"\n",
      "__________________________________________________________________________________________________\n",
      "Layer (type)                    Output Shape         Param #     Connected to                     \n",
      "==================================================================================================\n",
      "input_1 (InputLayer)            [(None, 224, 224, 3) 0                                            \n",
      "__________________________________________________________________________________________________\n",
      "model (Functional)              [(None, 56, 56, 128) 14714688    input_1[0][0]                    \n",
      "__________________________________________________________________________________________________\n",
      "conv2d (Conv2D)                 (None, 56, 56, 1024) 132096      model[0][0]                      \n",
      "__________________________________________________________________________________________________\n",
      "conv2d_2 (Conv2D)               (None, 28, 28, 1024) 263168      model[0][1]                      \n",
      "__________________________________________________________________________________________________\n",
      "conv2d_4 (Conv2D)               (None, 14, 14, 1024) 525312      model[0][2]                      \n",
      "__________________________________________________________________________________________________\n",
      "conv2d_6 (Conv2D)               (None, 7, 7, 1024)   525312      model[0][3]                      \n",
      "__________________________________________________________________________________________________\n",
      "conv2d_1 (Conv2D)               (None, 56, 56, 1024) 1049600     conv2d[0][0]                     \n",
      "__________________________________________________________________________________________________\n",
      "conv2d_3 (Conv2D)               (None, 28, 28, 1024) 1049600     conv2d_2[0][0]                   \n",
      "__________________________________________________________________________________________________\n",
      "conv2d_5 (Conv2D)               (None, 14, 14, 1024) 1049600     conv2d_4[0][0]                   \n",
      "__________________________________________________________________________________________________\n",
      "conv2d_7 (Conv2D)               (None, 7, 7, 1024)   1049600     conv2d_6[0][0]                   \n",
      "__________________________________________________________________________________________________\n",
      "global_average_pooling2d (Globa (None, 1024)         0           conv2d_1[0][0]                   \n",
      "__________________________________________________________________________________________________\n",
      "global_average_pooling2d_1 (Glo (None, 1024)         0           conv2d_3[0][0]                   \n",
      "__________________________________________________________________________________________________\n",
      "global_average_pooling2d_2 (Glo (None, 1024)         0           conv2d_5[0][0]                   \n",
      "__________________________________________________________________________________________________\n",
      "global_average_pooling2d_3 (Glo (None, 1024)         0           conv2d_7[0][0]                   \n",
      "__________________________________________________________________________________________________\n",
      "concatenate (Concatenate)       (None, 4096)         0           global_average_pooling2d[0][0]   \n",
      "                                                                 global_average_pooling2d_1[0][0] \n",
      "                                                                 global_average_pooling2d_2[0][0] \n",
      "                                                                 global_average_pooling2d_3[0][0] \n",
      "__________________________________________________________________________________________________\n",
      "y_logits (Dense)                (None, 6)            24582       concatenate[0][0]                \n",
      "__________________________________________________________________________________________________\n",
      "y_proba (Activation)            (None, 6)            0           y_logits[0][0]                   \n",
      "==================================================================================================\n",
      "Total params: 20,383,558\n",
      "Trainable params: 5,668,870\n",
      "Non-trainable params: 14,714,688\n",
      "__________________________________________________________________________________________________\n"
     ]
    }
   ],
   "source": [
    "build_model().summary()"
   ]
  },
  {
   "cell_type": "markdown",
   "id": "75a6f3f5",
   "metadata": {
    "papermill": {
     "duration": 0.02973,
     "end_time": "2021-12-26T11:26:26.440429",
     "exception": false,
     "start_time": "2021-12-26T11:26:26.410699",
     "status": "completed"
    },
    "tags": []
   },
   "source": [
    "# **Train Model**"
   ]
  },
  {
   "cell_type": "code",
   "execution_count": 22,
   "id": "ecc493a3",
   "metadata": {
    "execution": {
     "iopub.execute_input": "2021-12-26T11:26:26.504852Z",
     "iopub.status.busy": "2021-12-26T11:26:26.504232Z",
     "iopub.status.idle": "2021-12-26T11:26:26.507103Z",
     "shell.execute_reply": "2021-12-26T11:26:26.506453Z",
     "shell.execute_reply.started": "2021-12-26T11:04:00.293958Z"
    },
    "papermill": {
     "duration": 0.036801,
     "end_time": "2021-12-26T11:26:26.507251",
     "exception": false,
     "start_time": "2021-12-26T11:26:26.470450",
     "status": "completed"
    },
    "tags": []
   },
   "outputs": [],
   "source": [
    "# weights_path = tf.io.gfile.glob('../input/cisc22placesandscenevgg16weights/weights-*.h5')\n",
    "\n",
    "# print(len(weights_path))"
   ]
  },
  {
   "cell_type": "code",
   "execution_count": 23,
   "id": "7ac6edc8",
   "metadata": {
    "execution": {
     "iopub.execute_input": "2021-12-26T11:26:26.573367Z",
     "iopub.status.busy": "2021-12-26T11:26:26.572415Z",
     "iopub.status.idle": "2021-12-26T11:26:26.575068Z",
     "shell.execute_reply": "2021-12-26T11:26:26.575557Z",
     "shell.execute_reply.started": "2021-12-26T11:04:00.570262Z"
    },
    "papermill": {
     "duration": 0.038795,
     "end_time": "2021-12-26T11:26:26.575726",
     "exception": false,
     "start_time": "2021-12-26T11:26:26.536931",
     "status": "completed"
    },
    "tags": []
   },
   "outputs": [],
   "source": [
    "def scheduler(step):\n",
    "    \n",
    "    def _scheduler(epoch, lr):\n",
    "        \n",
    "        if epoch > 0 and epoch % step == 0:\n",
    "            \n",
    "            return max(1e-6, lr * tf.math.exp(-0.75))\n",
    "        \n",
    "        else:\n",
    "            \n",
    "            return max(1e-6, lr)\n",
    "    \n",
    "    return _scheduler"
   ]
  },
  {
   "cell_type": "code",
   "execution_count": 24,
   "id": "13dc7e57",
   "metadata": {
    "execution": {
     "iopub.execute_input": "2021-12-26T11:26:26.645334Z",
     "iopub.status.busy": "2021-12-26T11:26:26.644619Z",
     "iopub.status.idle": "2021-12-26T14:35:18.265611Z",
     "shell.execute_reply": "2021-12-26T14:35:18.264767Z",
     "shell.execute_reply.started": "2021-12-26T11:04:00.801202Z"
    },
    "papermill": {
     "duration": 11331.660338,
     "end_time": "2021-12-26T14:35:18.265769",
     "exception": false,
     "start_time": "2021-12-26T11:26:26.605431",
     "status": "completed"
    },
    "tags": []
   },
   "outputs": [
    {
     "name": "stdout",
     "output_type": "stream",
     "text": [
      "fold 0 - ====================================================================================================\n",
      "Epoch 1/150\n",
      "\n",
      "Epoch 00001: LearningRateScheduler reducing learning rate to 0.0010000000474974513.\n",
      "384/384 [==============================] - 107s 247ms/step - loss: 4.0617 - accuracy_score: 0.5135 - val_loss: 1.2645 - val_accuracy_score: 0.7136\n",
      "Epoch 2/150\n",
      "\n",
      "Epoch 00002: LearningRateScheduler reducing learning rate to 0.0010000000474974513.\n",
      "384/384 [==============================] - 75s 192ms/step - loss: 1.2070 - accuracy_score: 0.7775 - val_loss: 1.1553 - val_accuracy_score: 0.8117\n",
      "Epoch 3/150\n",
      "\n",
      "Epoch 00003: LearningRateScheduler reducing learning rate to 0.0010000000474974513.\n",
      "384/384 [==============================] - 75s 192ms/step - loss: 1.1505 - accuracy_score: 0.8174 - val_loss: 1.0998 - val_accuracy_score: 0.8557\n",
      "Epoch 4/150\n",
      "\n",
      "Epoch 00004: LearningRateScheduler reducing learning rate to 0.0010000000474974513.\n",
      "384/384 [==============================] - 75s 193ms/step - loss: 1.1202 - accuracy_score: 0.8354 - val_loss: 1.1266 - val_accuracy_score: 0.8278\n",
      "Epoch 5/150\n",
      "\n",
      "Epoch 00005: LearningRateScheduler reducing learning rate to 0.0010000000474974513.\n",
      "384/384 [==============================] - 75s 192ms/step - loss: 1.1043 - accuracy_score: 0.8508 - val_loss: 1.0896 - val_accuracy_score: 0.8623\n",
      "Epoch 6/150\n",
      "\n",
      "Epoch 00006: LearningRateScheduler reducing learning rate to 0.0010000000474974513.\n",
      "384/384 [==============================] - 75s 191ms/step - loss: 1.0905 - accuracy_score: 0.8633 - val_loss: 1.0711 - val_accuracy_score: 0.8711\n",
      "Epoch 7/150\n",
      "\n",
      "Epoch 00007: LearningRateScheduler reducing learning rate to 0.0010000000474974513.\n",
      "384/384 [==============================] - 75s 191ms/step - loss: 1.0800 - accuracy_score: 0.8691 - val_loss: 1.0795 - val_accuracy_score: 0.8615\n",
      "Epoch 8/150\n",
      "\n",
      "Epoch 00008: LearningRateScheduler reducing learning rate to 0.0010000000474974513.\n",
      "384/384 [==============================] - 75s 192ms/step - loss: 1.0716 - accuracy_score: 0.8758 - val_loss: 1.0582 - val_accuracy_score: 0.8747\n",
      "Epoch 9/150\n",
      "\n",
      "Epoch 00009: LearningRateScheduler reducing learning rate to 0.0010000000474974513.\n",
      "384/384 [==============================] - 75s 192ms/step - loss: 1.0615 - accuracy_score: 0.8825 - val_loss: 1.0728 - val_accuracy_score: 0.8711\n",
      "Epoch 10/150\n",
      "\n",
      "Epoch 00010: LearningRateScheduler reducing learning rate to 0.0010000000474974513.\n",
      "384/384 [==============================] - 75s 191ms/step - loss: 1.0576 - accuracy_score: 0.8841 - val_loss: 1.0660 - val_accuracy_score: 0.8747\n",
      "Epoch 11/150\n",
      "\n",
      "Epoch 00011: LearningRateScheduler reducing learning rate to tf.Tensor(0.00047236658, shape=(), dtype=float32).\n",
      "384/384 [==============================] - 75s 192ms/step - loss: 1.0321 - accuracy_score: 0.9013 - val_loss: 1.0533 - val_accuracy_score: 0.8806\n",
      "Epoch 12/150\n",
      "\n",
      "Epoch 00012: LearningRateScheduler reducing learning rate to 0.00047236657701432705.\n",
      "384/384 [==============================] - 75s 194ms/step - loss: 1.0286 - accuracy_score: 0.9041 - val_loss: 1.0385 - val_accuracy_score: 0.8945\n",
      "Epoch 13/150\n",
      "\n",
      "Epoch 00013: LearningRateScheduler reducing learning rate to 0.00047236657701432705.\n",
      "384/384 [==============================] - 75s 192ms/step - loss: 1.0254 - accuracy_score: 0.9030 - val_loss: 1.0495 - val_accuracy_score: 0.8813\n",
      "Epoch 14/150\n",
      "\n",
      "Epoch 00014: LearningRateScheduler reducing learning rate to 0.00047236657701432705.\n",
      "384/384 [==============================] - 75s 192ms/step - loss: 1.0233 - accuracy_score: 0.9068 - val_loss: 1.0405 - val_accuracy_score: 0.8923\n",
      "Epoch 15/150\n",
      "\n",
      "Epoch 00015: LearningRateScheduler reducing learning rate to 0.00047236657701432705.\n",
      "384/384 [==============================] - 75s 192ms/step - loss: 1.0222 - accuracy_score: 0.9119 - val_loss: 1.0441 - val_accuracy_score: 0.8857\n",
      "Epoch 16/150\n",
      "\n",
      "Epoch 00016: LearningRateScheduler reducing learning rate to 0.00047236657701432705.\n",
      "384/384 [==============================] - 75s 192ms/step - loss: 1.0196 - accuracy_score: 0.9060 - val_loss: 1.0576 - val_accuracy_score: 0.8835\n",
      "Epoch 17/150\n",
      "\n",
      "Epoch 00017: LearningRateScheduler reducing learning rate to 0.00047236657701432705.\n",
      "384/384 [==============================] - 75s 192ms/step - loss: 1.0164 - accuracy_score: 0.9122 - val_loss: 1.0370 - val_accuracy_score: 0.8952\n",
      "Epoch 18/150\n",
      "\n",
      "Epoch 00018: LearningRateScheduler reducing learning rate to 0.00047236657701432705.\n",
      "384/384 [==============================] - 75s 192ms/step - loss: 1.0092 - accuracy_score: 0.9168 - val_loss: 1.0445 - val_accuracy_score: 0.8864\n",
      "Epoch 19/150\n",
      "\n",
      "Epoch 00019: LearningRateScheduler reducing learning rate to 0.00047236657701432705.\n",
      "384/384 [==============================] - 75s 192ms/step - loss: 1.0122 - accuracy_score: 0.9156 - val_loss: 1.0451 - val_accuracy_score: 0.8835\n",
      "Epoch 20/150\n",
      "\n",
      "Epoch 00020: LearningRateScheduler reducing learning rate to 0.00047236657701432705.\n",
      "384/384 [==============================] - 75s 192ms/step - loss: 1.0097 - accuracy_score: 0.9214 - val_loss: 1.0469 - val_accuracy_score: 0.8864\n",
      "Epoch 21/150\n",
      "\n",
      "Epoch 00021: LearningRateScheduler reducing learning rate to tf.Tensor(0.00022313016, shape=(), dtype=float32).\n",
      "384/384 [==============================] - 75s 191ms/step - loss: 0.9966 - accuracy_score: 0.9238 - val_loss: 1.0308 - val_accuracy_score: 0.8960\n",
      "Epoch 22/150\n",
      "\n",
      "Epoch 00022: LearningRateScheduler reducing learning rate to 0.00022313016233965755.\n",
      "384/384 [==============================] - 75s 192ms/step - loss: 0.9923 - accuracy_score: 0.9294 - val_loss: 1.0283 - val_accuracy_score: 0.9026\n",
      "Epoch 23/150\n",
      "\n",
      "Epoch 00023: LearningRateScheduler reducing learning rate to 0.00022313016233965755.\n",
      "384/384 [==============================] - 75s 191ms/step - loss: 0.9864 - accuracy_score: 0.9332 - val_loss: 1.0323 - val_accuracy_score: 0.8989\n",
      "Epoch 24/150\n",
      "\n",
      "Epoch 00024: LearningRateScheduler reducing learning rate to 0.00022313016233965755.\n",
      "384/384 [==============================] - 75s 192ms/step - loss: 0.9879 - accuracy_score: 0.9322 - val_loss: 1.0235 - val_accuracy_score: 0.9033\n",
      "Epoch 25/150\n",
      "\n",
      "Epoch 00025: LearningRateScheduler reducing learning rate to 0.00022313016233965755.\n",
      "384/384 [==============================] - 75s 192ms/step - loss: 0.9857 - accuracy_score: 0.9334 - val_loss: 1.0296 - val_accuracy_score: 0.8996\n",
      "Epoch 26/150\n",
      "\n",
      "Epoch 00026: LearningRateScheduler reducing learning rate to 0.00022313016233965755.\n",
      "384/384 [==============================] - 75s 191ms/step - loss: 0.9850 - accuracy_score: 0.9362 - val_loss: 1.0216 - val_accuracy_score: 0.9070\n",
      "Epoch 27/150\n",
      "\n",
      "Epoch 00027: LearningRateScheduler reducing learning rate to 0.00022313016233965755.\n",
      "384/384 [==============================] - 75s 192ms/step - loss: 0.9839 - accuracy_score: 0.9365 - val_loss: 1.0209 - val_accuracy_score: 0.9055\n",
      "Epoch 28/150\n",
      "\n",
      "Epoch 00028: LearningRateScheduler reducing learning rate to 0.00022313016233965755.\n",
      "384/384 [==============================] - 75s 192ms/step - loss: 0.9814 - accuracy_score: 0.9397 - val_loss: 1.0258 - val_accuracy_score: 0.9033\n",
      "Epoch 29/150\n",
      "\n",
      "Epoch 00029: LearningRateScheduler reducing learning rate to 0.00022313016233965755.\n",
      "384/384 [==============================] - 77s 193ms/step - loss: 0.9766 - accuracy_score: 0.9398 - val_loss: 1.0296 - val_accuracy_score: 0.9106\n",
      "Epoch 30/150\n",
      "\n",
      "Epoch 00030: LearningRateScheduler reducing learning rate to 0.00022313016233965755.\n",
      "384/384 [==============================] - 75s 193ms/step - loss: 0.9785 - accuracy_score: 0.9377 - val_loss: 1.0230 - val_accuracy_score: 0.9077\n",
      "Epoch 31/150\n",
      "\n",
      "Epoch 00031: LearningRateScheduler reducing learning rate to tf.Tensor(0.000105399224, shape=(), dtype=float32).\n",
      "384/384 [==============================] - 75s 192ms/step - loss: 0.9714 - accuracy_score: 0.9421 - val_loss: 1.0181 - val_accuracy_score: 0.9077\n",
      "Epoch 32/150\n",
      "\n",
      "Epoch 00032: LearningRateScheduler reducing learning rate to 0.00010539922368479893.\n",
      "384/384 [==============================] - 75s 191ms/step - loss: 0.9679 - accuracy_score: 0.9471 - val_loss: 1.0201 - val_accuracy_score: 0.9121\n",
      "Epoch 33/150\n",
      "\n",
      "Epoch 00033: LearningRateScheduler reducing learning rate to 0.00010539922368479893.\n",
      "384/384 [==============================] - 75s 191ms/step - loss: 0.9677 - accuracy_score: 0.9469 - val_loss: 1.0213 - val_accuracy_score: 0.9062\n",
      "Epoch 34/150\n",
      "\n",
      "Epoch 00034: LearningRateScheduler reducing learning rate to 0.00010539922368479893.\n",
      "384/384 [==============================] - 75s 191ms/step - loss: 0.9653 - accuracy_score: 0.9501 - val_loss: 1.0225 - val_accuracy_score: 0.9070\n",
      "Epoch 35/150\n",
      "\n",
      "Epoch 00035: LearningRateScheduler reducing learning rate to 0.00010539922368479893.\n",
      "384/384 [==============================] - 75s 192ms/step - loss: 0.9686 - accuracy_score: 0.9431 - val_loss: 1.0234 - val_accuracy_score: 0.9026\n",
      "Epoch 36/150\n",
      "\n",
      "Epoch 00036: LearningRateScheduler reducing learning rate to 0.00010539922368479893.\n",
      "384/384 [==============================] - 75s 192ms/step - loss: 0.9660 - accuracy_score: 0.9489 - val_loss: 1.0206 - val_accuracy_score: 0.9018\n",
      "Epoch 37/150\n",
      "\n",
      "Epoch 00037: LearningRateScheduler reducing learning rate to 0.00010539922368479893.\n",
      "384/384 [==============================] - 75s 193ms/step - loss: 0.9633 - accuracy_score: 0.9512 - val_loss: 1.0186 - val_accuracy_score: 0.9121\n",
      "Epoch 38/150\n",
      "\n",
      "Epoch 00038: LearningRateScheduler reducing learning rate to 0.00010539922368479893.\n",
      "384/384 [==============================] - 75s 191ms/step - loss: 0.9607 - accuracy_score: 0.9523 - val_loss: 1.0215 - val_accuracy_score: 0.9106\n",
      "Epoch 39/150\n",
      "\n",
      "Epoch 00039: LearningRateScheduler reducing learning rate to 0.00010539922368479893.\n",
      "384/384 [==============================] - 75s 192ms/step - loss: 0.9591 - accuracy_score: 0.9526 - val_loss: 1.0190 - val_accuracy_score: 0.9099\n",
      "Epoch 40/150\n",
      "\n",
      "Epoch 00040: LearningRateScheduler reducing learning rate to 0.00010539922368479893.\n",
      "384/384 [==============================] - 75s 192ms/step - loss: 0.9624 - accuracy_score: 0.9518 - val_loss: 1.0224 - val_accuracy_score: 0.9026\n",
      "Epoch 41/150\n",
      "\n",
      "Epoch 00041: LearningRateScheduler reducing learning rate to tf.Tensor(4.9787068e-05, shape=(), dtype=float32).\n",
      "384/384 [==============================] - 75s 192ms/step - loss: 0.9603 - accuracy_score: 0.9519 - val_loss: 1.0200 - val_accuracy_score: 0.9099\n",
      "Epoch 42/150\n",
      "\n",
      "Epoch 00042: LearningRateScheduler reducing learning rate to 4.978706783731468e-05.\n",
      "384/384 [==============================] - 75s 191ms/step - loss: 0.9558 - accuracy_score: 0.9570 - val_loss: 1.0186 - val_accuracy_score: 0.9033\n",
      "Epoch 43/150\n",
      "\n",
      "Epoch 00043: LearningRateScheduler reducing learning rate to 4.978706783731468e-05.\n",
      "384/384 [==============================] - 75s 192ms/step - loss: 0.9563 - accuracy_score: 0.9565 - val_loss: 1.0136 - val_accuracy_score: 0.9106\n",
      "Epoch 44/150\n",
      "\n",
      "Epoch 00044: LearningRateScheduler reducing learning rate to 4.978706783731468e-05.\n",
      "384/384 [==============================] - 75s 192ms/step - loss: 0.9546 - accuracy_score: 0.9544 - val_loss: 1.0157 - val_accuracy_score: 0.9150\n",
      "Epoch 45/150\n",
      "\n",
      "Epoch 00045: LearningRateScheduler reducing learning rate to 4.978706783731468e-05.\n",
      "384/384 [==============================] - 75s 192ms/step - loss: 0.9550 - accuracy_score: 0.9555 - val_loss: 1.0137 - val_accuracy_score: 0.9128\n",
      "Epoch 46/150\n",
      "\n",
      "Epoch 00046: LearningRateScheduler reducing learning rate to 4.978706783731468e-05.\n",
      "384/384 [==============================] - 75s 192ms/step - loss: 0.9562 - accuracy_score: 0.9566 - val_loss: 1.0145 - val_accuracy_score: 0.9106\n",
      "Epoch 47/150\n",
      "\n",
      "Epoch 00047: LearningRateScheduler reducing learning rate to 4.978706783731468e-05.\n",
      "384/384 [==============================] - 75s 193ms/step - loss: 0.9552 - accuracy_score: 0.9558 - val_loss: 1.0187 - val_accuracy_score: 0.9106\n",
      "Epoch 48/150\n",
      "\n",
      "Epoch 00048: LearningRateScheduler reducing learning rate to 4.978706783731468e-05.\n",
      "384/384 [==============================] - 75s 192ms/step - loss: 0.9509 - accuracy_score: 0.9582 - val_loss: 1.0085 - val_accuracy_score: 0.9165\n",
      "Epoch 49/150\n",
      "\n",
      "Epoch 00049: LearningRateScheduler reducing learning rate to 4.978706783731468e-05.\n",
      "384/384 [==============================] - 75s 192ms/step - loss: 0.9493 - accuracy_score: 0.9600 - val_loss: 1.0181 - val_accuracy_score: 0.9048\n",
      "Epoch 50/150\n",
      "\n",
      "Epoch 00050: LearningRateScheduler reducing learning rate to 4.978706783731468e-05.\n",
      "384/384 [==============================] - 75s 192ms/step - loss: 0.9528 - accuracy_score: 0.9563 - val_loss: 1.0166 - val_accuracy_score: 0.9055\n",
      "Epoch 51/150\n",
      "\n",
      "Epoch 00051: LearningRateScheduler reducing learning rate to tf.Tensor(2.3517745e-05, shape=(), dtype=float32).\n",
      "384/384 [==============================] - 75s 192ms/step - loss: 0.9498 - accuracy_score: 0.9620 - val_loss: 1.0149 - val_accuracy_score: 0.9158\n",
      "Epoch 52/150\n",
      "\n",
      "Epoch 00052: LearningRateScheduler reducing learning rate to 2.351774492126424e-05.\n",
      "384/384 [==============================] - 75s 192ms/step - loss: 0.9514 - accuracy_score: 0.9558 - val_loss: 1.0151 - val_accuracy_score: 0.9055\n",
      "Epoch 53/150\n",
      "\n",
      "Epoch 00053: LearningRateScheduler reducing learning rate to 2.351774492126424e-05.\n",
      "384/384 [==============================] - 75s 192ms/step - loss: 0.9486 - accuracy_score: 0.9610 - val_loss: 1.0128 - val_accuracy_score: 0.9092\n",
      "Epoch 54/150\n",
      "\n",
      "Epoch 00054: LearningRateScheduler reducing learning rate to 2.351774492126424e-05.\n",
      "384/384 [==============================] - 75s 193ms/step - loss: 0.9491 - accuracy_score: 0.9602 - val_loss: 1.0132 - val_accuracy_score: 0.9165\n",
      "Epoch 55/150\n",
      "\n",
      "Epoch 00055: LearningRateScheduler reducing learning rate to 2.351774492126424e-05.\n",
      "384/384 [==============================] - 75s 192ms/step - loss: 0.9507 - accuracy_score: 0.9563 - val_loss: 1.0168 - val_accuracy_score: 0.9121\n",
      "Epoch 56/150\n",
      "\n",
      "Epoch 00056: LearningRateScheduler reducing learning rate to 2.351774492126424e-05.\n",
      "384/384 [==============================] - 75s 192ms/step - loss: 0.9476 - accuracy_score: 0.9610 - val_loss: 1.0158 - val_accuracy_score: 0.9084\n",
      "Epoch 57/150\n",
      "\n",
      "Epoch 00057: LearningRateScheduler reducing learning rate to 2.351774492126424e-05.\n",
      "384/384 [==============================] - 75s 192ms/step - loss: 0.9502 - accuracy_score: 0.9619 - val_loss: 1.0124 - val_accuracy_score: 0.9128\n",
      "Epoch 58/150\n",
      "\n",
      "Epoch 00058: LearningRateScheduler reducing learning rate to 2.351774492126424e-05.\n",
      "384/384 [==============================] - 75s 192ms/step - loss: 0.9441 - accuracy_score: 0.9656 - val_loss: 1.0151 - val_accuracy_score: 0.9099\n",
      "Epoch 59/150\n",
      "\n",
      "Epoch 00059: LearningRateScheduler reducing learning rate to 2.351774492126424e-05.\n",
      "384/384 [==============================] - 75s 192ms/step - loss: 0.9489 - accuracy_score: 0.9623 - val_loss: 1.0161 - val_accuracy_score: 0.9062\n",
      "Epoch 60/150\n",
      "\n",
      "Epoch 00060: LearningRateScheduler reducing learning rate to 2.351774492126424e-05.\n",
      "384/384 [==============================] - 75s 192ms/step - loss: 0.9466 - accuracy_score: 0.9621 - val_loss: 1.0117 - val_accuracy_score: 0.9143\n",
      "Epoch 61/150\n",
      "\n",
      "Epoch 00061: LearningRateScheduler reducing learning rate to tf.Tensor(1.1108996e-05, shape=(), dtype=float32).\n",
      "384/384 [==============================] - 75s 192ms/step - loss: 0.9455 - accuracy_score: 0.9620 - val_loss: 1.0144 - val_accuracy_score: 0.9099\n",
      "Epoch 62/150\n",
      "\n",
      "Epoch 00062: LearningRateScheduler reducing learning rate to 1.1108995749964379e-05.\n",
      "384/384 [==============================] - 75s 193ms/step - loss: 0.9465 - accuracy_score: 0.9641 - val_loss: 1.0116 - val_accuracy_score: 0.9121\n",
      "Epoch 63/150\n",
      "\n",
      "Epoch 00063: LearningRateScheduler reducing learning rate to 1.1108995749964379e-05.\n",
      "384/384 [==============================] - 75s 192ms/step - loss: 0.9471 - accuracy_score: 0.9622 - val_loss: 1.0143 - val_accuracy_score: 0.9011\n",
      "Epoch 64/150\n",
      "\n",
      "Epoch 00064: LearningRateScheduler reducing learning rate to 1.1108995749964379e-05.\n",
      "384/384 [==============================] - 75s 191ms/step - loss: 0.9472 - accuracy_score: 0.9641 - val_loss: 1.0116 - val_accuracy_score: 0.9121\n",
      "Epoch 65/150\n",
      "\n",
      "Epoch 00065: LearningRateScheduler reducing learning rate to 1.1108995749964379e-05.\n",
      "384/384 [==============================] - 75s 191ms/step - loss: 0.9449 - accuracy_score: 0.9625 - val_loss: 1.0129 - val_accuracy_score: 0.9114\n",
      "Epoch 66/150\n",
      "\n",
      "Epoch 00066: LearningRateScheduler reducing learning rate to 1.1108995749964379e-05.\n",
      "384/384 [==============================] - 75s 192ms/step - loss: 0.9449 - accuracy_score: 0.9626 - val_loss: 1.0138 - val_accuracy_score: 0.9070\n",
      "Epoch 67/150\n",
      "\n",
      "Epoch 00067: LearningRateScheduler reducing learning rate to 1.1108995749964379e-05.\n",
      "384/384 [==============================] - 75s 192ms/step - loss: 0.9502 - accuracy_score: 0.9577 - val_loss: 1.0133 - val_accuracy_score: 0.9084\n",
      "Epoch 68/150\n",
      "\n",
      "Epoch 00068: LearningRateScheduler reducing learning rate to 1.1108995749964379e-05.\n",
      "384/384 [==============================] - 75s 192ms/step - loss: 0.9441 - accuracy_score: 0.9637 - val_loss: 1.0151 - val_accuracy_score: 0.9077\n",
      "Epoch 69/150\n",
      "\n",
      "Epoch 00069: LearningRateScheduler reducing learning rate to 1.1108995749964379e-05.\n",
      "384/384 [==============================] - 75s 192ms/step - loss: 0.9459 - accuracy_score: 0.9618 - val_loss: 1.0119 - val_accuracy_score: 0.9114\n",
      "Epoch 70/150\n",
      "\n",
      "Epoch 00070: LearningRateScheduler reducing learning rate to 1.1108995749964379e-05.\n",
      "384/384 [==============================] - 75s 192ms/step - loss: 0.9485 - accuracy_score: 0.9600 - val_loss: 1.0165 - val_accuracy_score: 0.9136\n",
      "Epoch 71/150\n",
      "\n",
      "Epoch 00071: LearningRateScheduler reducing learning rate to tf.Tensor(5.247518e-06, shape=(), dtype=float32).\n",
      "384/384 [==============================] - 75s 192ms/step - loss: 0.9448 - accuracy_score: 0.9615 - val_loss: 1.0189 - val_accuracy_score: 0.9033\n",
      "Epoch 72/150\n",
      "\n",
      "Epoch 00072: LearningRateScheduler reducing learning rate to 5.2475179472821765e-06.\n",
      "384/384 [==============================] - 75s 191ms/step - loss: 0.9469 - accuracy_score: 0.9627 - val_loss: 1.0063 - val_accuracy_score: 0.9179\n",
      "Epoch 73/150\n",
      "\n",
      "Epoch 00073: LearningRateScheduler reducing learning rate to 5.2475179472821765e-06.\n",
      "384/384 [==============================] - 75s 193ms/step - loss: 0.9436 - accuracy_score: 0.9639 - val_loss: 1.0123 - val_accuracy_score: 0.9143\n",
      "Epoch 74/150\n",
      "\n",
      "Epoch 00074: LearningRateScheduler reducing learning rate to 5.2475179472821765e-06.\n",
      "384/384 [==============================] - 75s 192ms/step - loss: 0.9458 - accuracy_score: 0.9608 - val_loss: 1.0129 - val_accuracy_score: 0.9092\n",
      "Epoch 75/150\n",
      "\n",
      "Epoch 00075: LearningRateScheduler reducing learning rate to 5.2475179472821765e-06.\n",
      "384/384 [==============================] - 75s 191ms/step - loss: 0.9446 - accuracy_score: 0.9616 - val_loss: 1.0139 - val_accuracy_score: 0.9114\n",
      "Epoch 76/150\n",
      "\n",
      "Epoch 00076: LearningRateScheduler reducing learning rate to 5.2475179472821765e-06.\n",
      "384/384 [==============================] - 75s 192ms/step - loss: 0.9456 - accuracy_score: 0.9617 - val_loss: 1.0162 - val_accuracy_score: 0.9092\n",
      "Epoch 77/150\n",
      "\n",
      "Epoch 00077: LearningRateScheduler reducing learning rate to 5.2475179472821765e-06.\n",
      "384/384 [==============================] - 75s 192ms/step - loss: 0.9468 - accuracy_score: 0.9613 - val_loss: 1.0098 - val_accuracy_score: 0.9201\n",
      "Epoch 78/150\n",
      "\n",
      "Epoch 00078: LearningRateScheduler reducing learning rate to 5.2475179472821765e-06.\n",
      "384/384 [==============================] - 75s 192ms/step - loss: 0.9427 - accuracy_score: 0.9641 - val_loss: 1.0142 - val_accuracy_score: 0.9062\n",
      "Epoch 79/150\n",
      "\n",
      "Epoch 00079: LearningRateScheduler reducing learning rate to 5.2475179472821765e-06.\n",
      "384/384 [==============================] - 75s 193ms/step - loss: 0.9436 - accuracy_score: 0.9632 - val_loss: 1.0146 - val_accuracy_score: 0.9062\n",
      "Epoch 80/150\n",
      "\n",
      "Epoch 00080: LearningRateScheduler reducing learning rate to 5.2475179472821765e-06.\n",
      "384/384 [==============================] - 75s 192ms/step - loss: 0.9456 - accuracy_score: 0.9641 - val_loss: 1.0099 - val_accuracy_score: 0.9121\n",
      "Epoch 81/150\n",
      "\n",
      "Epoch 00081: LearningRateScheduler reducing learning rate to tf.Tensor(2.4787519e-06, shape=(), dtype=float32).\n",
      "384/384 [==============================] - 75s 191ms/step - loss: 0.9428 - accuracy_score: 0.9667 - val_loss: 1.0129 - val_accuracy_score: 0.9077\n",
      "Epoch 82/150\n",
      "\n",
      "Epoch 00082: LearningRateScheduler reducing learning rate to 2.478751866874518e-06.\n",
      "384/384 [==============================] - 75s 192ms/step - loss: 0.9444 - accuracy_score: 0.9639 - val_loss: 1.0151 - val_accuracy_score: 0.9092\n",
      "Epoch 83/150\n",
      "\n",
      "Epoch 00083: LearningRateScheduler reducing learning rate to 2.478751866874518e-06.\n",
      "384/384 [==============================] - 75s 192ms/step - loss: 0.9422 - accuracy_score: 0.9638 - val_loss: 1.0130 - val_accuracy_score: 0.9070\n",
      "Epoch 84/150\n",
      "\n",
      "Epoch 00084: LearningRateScheduler reducing learning rate to 2.478751866874518e-06.\n",
      "384/384 [==============================] - 75s 192ms/step - loss: 0.9451 - accuracy_score: 0.9632 - val_loss: 1.0104 - val_accuracy_score: 0.9070\n",
      "Epoch 85/150\n",
      "\n",
      "Epoch 00085: LearningRateScheduler reducing learning rate to 2.478751866874518e-06.\n",
      "384/384 [==============================] - 75s 193ms/step - loss: 0.9450 - accuracy_score: 0.9629 - val_loss: 1.0129 - val_accuracy_score: 0.9128\n",
      "Epoch 86/150\n",
      "\n",
      "Epoch 00086: LearningRateScheduler reducing learning rate to 2.478751866874518e-06.\n",
      "384/384 [==============================] - 75s 192ms/step - loss: 0.9439 - accuracy_score: 0.9644 - val_loss: 1.0132 - val_accuracy_score: 0.9114\n",
      "Epoch 87/150\n",
      "\n",
      "Epoch 00087: LearningRateScheduler reducing learning rate to 2.478751866874518e-06.\n",
      "384/384 [==============================] - 75s 193ms/step - loss: 0.9457 - accuracy_score: 0.9642 - val_loss: 1.0117 - val_accuracy_score: 0.9121\n",
      "Epoch 88/150\n",
      "\n",
      "Epoch 00088: LearningRateScheduler reducing learning rate to 2.478751866874518e-06.\n",
      "384/384 [==============================] - 75s 192ms/step - loss: 0.9434 - accuracy_score: 0.9624 - val_loss: 1.0108 - val_accuracy_score: 0.9179\n",
      "Epoch 89/150\n",
      "\n",
      "Epoch 00089: LearningRateScheduler reducing learning rate to 2.478751866874518e-06.\n",
      "384/384 [==============================] - 75s 192ms/step - loss: 0.9446 - accuracy_score: 0.9645 - val_loss: 1.0120 - val_accuracy_score: 0.9143\n",
      "Epoch 90/150\n",
      "\n",
      "Epoch 00090: LearningRateScheduler reducing learning rate to 2.478751866874518e-06.\n",
      "384/384 [==============================] - 75s 192ms/step - loss: 0.9438 - accuracy_score: 0.9641 - val_loss: 1.0102 - val_accuracy_score: 0.9187\n",
      "Epoch 91/150\n",
      "\n",
      "Epoch 00091: LearningRateScheduler reducing learning rate to tf.Tensor(1.1708795e-06, shape=(), dtype=float32).\n",
      "384/384 [==============================] - 75s 191ms/step - loss: 0.9438 - accuracy_score: 0.9615 - val_loss: 1.0122 - val_accuracy_score: 0.9114\n",
      "Epoch 92/150\n",
      "\n",
      "Epoch 00092: LearningRateScheduler reducing learning rate to 1.1708795000231476e-06.\n",
      "384/384 [==============================] - 75s 193ms/step - loss: 0.9415 - accuracy_score: 0.9677 - val_loss: 1.0039 - val_accuracy_score: 0.9209\n",
      "Epoch 93/150\n",
      "\n",
      "Epoch 00093: LearningRateScheduler reducing learning rate to 1.1708795000231476e-06.\n",
      "384/384 [==============================] - 75s 192ms/step - loss: 0.9432 - accuracy_score: 0.9653 - val_loss: 1.0139 - val_accuracy_score: 0.9106\n",
      "Epoch 94/150\n",
      "\n",
      "Epoch 00094: LearningRateScheduler reducing learning rate to 1.1708795000231476e-06.\n",
      "384/384 [==============================] - 75s 192ms/step - loss: 0.9452 - accuracy_score: 0.9631 - val_loss: 1.0116 - val_accuracy_score: 0.9143\n",
      "Epoch 95/150\n",
      "\n",
      "Epoch 00095: LearningRateScheduler reducing learning rate to 1.1708795000231476e-06.\n",
      "384/384 [==============================] - 75s 192ms/step - loss: 0.9445 - accuracy_score: 0.9635 - val_loss: 1.0112 - val_accuracy_score: 0.9136\n",
      "Epoch 96/150\n",
      "\n",
      "Epoch 00096: LearningRateScheduler reducing learning rate to 1.1708795000231476e-06.\n",
      "384/384 [==============================] - 75s 192ms/step - loss: 0.9442 - accuracy_score: 0.9682 - val_loss: 1.0166 - val_accuracy_score: 0.9121\n",
      "Epoch 97/150\n",
      "\n",
      "Epoch 00097: LearningRateScheduler reducing learning rate to 1.1708795000231476e-06.\n",
      "384/384 [==============================] - 75s 192ms/step - loss: 0.9416 - accuracy_score: 0.9664 - val_loss: 1.0114 - val_accuracy_score: 0.9150\n",
      "Epoch 98/150\n",
      "\n",
      "Epoch 00098: LearningRateScheduler reducing learning rate to 1.1708795000231476e-06.\n",
      "384/384 [==============================] - 74s 191ms/step - loss: 0.9431 - accuracy_score: 0.9654 - val_loss: 1.0128 - val_accuracy_score: 0.9143\n",
      "Epoch 99/150\n",
      "\n",
      "Epoch 00099: LearningRateScheduler reducing learning rate to 1.1708795000231476e-06.\n",
      "384/384 [==============================] - 75s 191ms/step - loss: 0.9438 - accuracy_score: 0.9621 - val_loss: 1.0145 - val_accuracy_score: 0.9055\n",
      "Epoch 100/150\n",
      "\n",
      "Epoch 00100: LearningRateScheduler reducing learning rate to 1.1708795000231476e-06.\n",
      "384/384 [==============================] - 75s 192ms/step - loss: 0.9446 - accuracy_score: 0.9648 - val_loss: 1.0091 - val_accuracy_score: 0.9084\n",
      "Epoch 101/150\n",
      "\n",
      "Epoch 00101: LearningRateScheduler reducing learning rate to 1e-06.\n",
      "384/384 [==============================] - 75s 192ms/step - loss: 0.9425 - accuracy_score: 0.9624 - val_loss: 1.0110 - val_accuracy_score: 0.9194\n",
      "Epoch 102/150\n",
      "\n",
      "Epoch 00102: LearningRateScheduler reducing learning rate to 1e-06.\n",
      "384/384 [==============================] - 75s 191ms/step - loss: 0.9440 - accuracy_score: 0.9657 - val_loss: 1.0060 - val_accuracy_score: 0.9187\n",
      "Epoch 103/150\n",
      "\n",
      "Epoch 00103: LearningRateScheduler reducing learning rate to 1e-06.\n",
      "384/384 [==============================] - 75s 192ms/step - loss: 0.9440 - accuracy_score: 0.9634 - val_loss: 1.0159 - val_accuracy_score: 0.9106\n",
      "Epoch 104/150\n",
      "\n",
      "Epoch 00104: LearningRateScheduler reducing learning rate to 1e-06.\n",
      "384/384 [==============================] - 76s 193ms/step - loss: 0.9452 - accuracy_score: 0.9614 - val_loss: 1.0089 - val_accuracy_score: 0.9172\n",
      "Epoch 105/150\n",
      "\n",
      "Epoch 00105: LearningRateScheduler reducing learning rate to 1e-06.\n",
      "384/384 [==============================] - 75s 192ms/step - loss: 0.9436 - accuracy_score: 0.9637 - val_loss: 1.0095 - val_accuracy_score: 0.9077\n",
      "Epoch 106/150\n",
      "\n",
      "Epoch 00106: LearningRateScheduler reducing learning rate to 1e-06.\n",
      "384/384 [==============================] - 75s 191ms/step - loss: 0.9428 - accuracy_score: 0.9633 - val_loss: 1.0117 - val_accuracy_score: 0.9136\n",
      "Epoch 107/150\n",
      "\n",
      "Epoch 00107: LearningRateScheduler reducing learning rate to 1e-06.\n",
      "384/384 [==============================] - 75s 192ms/step - loss: 0.9436 - accuracy_score: 0.9650 - val_loss: 1.0128 - val_accuracy_score: 0.9150\n",
      "Epoch 108/150\n",
      "\n",
      "Epoch 00108: LearningRateScheduler reducing learning rate to 1e-06.\n",
      "384/384 [==============================] - 75s 192ms/step - loss: 0.9418 - accuracy_score: 0.9659 - val_loss: 1.0123 - val_accuracy_score: 0.9114\n",
      "Epoch 109/150\n",
      "\n",
      "Epoch 00109: LearningRateScheduler reducing learning rate to 1e-06.\n",
      "384/384 [==============================] - 74s 191ms/step - loss: 0.9434 - accuracy_score: 0.9656 - val_loss: 1.0111 - val_accuracy_score: 0.9121\n",
      "Epoch 110/150\n",
      "\n",
      "Epoch 00110: LearningRateScheduler reducing learning rate to 1e-06.\n",
      "384/384 [==============================] - 74s 191ms/step - loss: 0.9457 - accuracy_score: 0.9607 - val_loss: 1.0172 - val_accuracy_score: 0.9026\n",
      "Epoch 111/150\n",
      "\n",
      "Epoch 00111: LearningRateScheduler reducing learning rate to 1e-06.\n",
      "384/384 [==============================] - 75s 192ms/step - loss: 0.9437 - accuracy_score: 0.9637 - val_loss: 1.0107 - val_accuracy_score: 0.9099\n",
      "Epoch 112/150\n",
      "\n",
      "Epoch 00112: LearningRateScheduler reducing learning rate to 1e-06.\n",
      "384/384 [==============================] - 75s 193ms/step - loss: 0.9439 - accuracy_score: 0.9660 - val_loss: 1.0092 - val_accuracy_score: 0.9121\n",
      "Epoch 113/150\n",
      "\n",
      "Epoch 00113: LearningRateScheduler reducing learning rate to 1e-06.\n",
      "384/384 [==============================] - 76s 192ms/step - loss: 0.9431 - accuracy_score: 0.9619 - val_loss: 1.0157 - val_accuracy_score: 0.9033\n",
      "Epoch 114/150\n",
      "\n",
      "Epoch 00114: LearningRateScheduler reducing learning rate to 1e-06.\n",
      "384/384 [==============================] - 74s 191ms/step - loss: 0.9424 - accuracy_score: 0.9647 - val_loss: 1.0134 - val_accuracy_score: 0.9114\n",
      "Epoch 115/150\n",
      "\n",
      "Epoch 00115: LearningRateScheduler reducing learning rate to 1e-06.\n",
      "384/384 [==============================] - 75s 192ms/step - loss: 0.9419 - accuracy_score: 0.9642 - val_loss: 1.0115 - val_accuracy_score: 0.9099\n",
      "Epoch 116/150\n",
      "\n",
      "Epoch 00116: LearningRateScheduler reducing learning rate to 1e-06.\n",
      "384/384 [==============================] - 75s 192ms/step - loss: 0.9431 - accuracy_score: 0.9659 - val_loss: 1.0154 - val_accuracy_score: 0.9114\n",
      "Epoch 117/150\n",
      "\n",
      "Epoch 00117: LearningRateScheduler reducing learning rate to 1e-06.\n",
      "384/384 [==============================] - 75s 191ms/step - loss: 0.9429 - accuracy_score: 0.9643 - val_loss: 1.0126 - val_accuracy_score: 0.9062\n",
      "Epoch 118/150\n",
      "\n",
      "Epoch 00118: LearningRateScheduler reducing learning rate to 1e-06.\n",
      "384/384 [==============================] - 75s 191ms/step - loss: 0.9400 - accuracy_score: 0.9657 - val_loss: 1.0100 - val_accuracy_score: 0.9136\n",
      "Epoch 119/150\n",
      "\n",
      "Epoch 00119: LearningRateScheduler reducing learning rate to 1e-06.\n",
      "384/384 [==============================] - 75s 192ms/step - loss: 0.9436 - accuracy_score: 0.9643 - val_loss: 1.0114 - val_accuracy_score: 0.9121\n",
      "Epoch 120/150\n",
      "\n",
      "Epoch 00120: LearningRateScheduler reducing learning rate to 1e-06.\n",
      "384/384 [==============================] - 75s 192ms/step - loss: 0.9434 - accuracy_score: 0.9651 - val_loss: 1.0085 - val_accuracy_score: 0.9106\n",
      "Epoch 121/150\n",
      "\n",
      "Epoch 00121: LearningRateScheduler reducing learning rate to 1e-06.\n",
      "384/384 [==============================] - 75s 192ms/step - loss: 0.9442 - accuracy_score: 0.9629 - val_loss: 1.0162 - val_accuracy_score: 0.9033\n",
      "Epoch 122/150\n",
      "\n",
      "Epoch 00122: LearningRateScheduler reducing learning rate to 1e-06.\n",
      "384/384 [==============================] - 75s 193ms/step - loss: 0.9426 - accuracy_score: 0.9644 - val_loss: 1.0120 - val_accuracy_score: 0.9084\n",
      "Epoch 123/150\n",
      "\n",
      "Epoch 00123: LearningRateScheduler reducing learning rate to 1e-06.\n",
      "384/384 [==============================] - 75s 192ms/step - loss: 0.9438 - accuracy_score: 0.9641 - val_loss: 1.0140 - val_accuracy_score: 0.9070\n",
      "Epoch 124/150\n",
      "\n",
      "Epoch 00124: LearningRateScheduler reducing learning rate to 1e-06.\n",
      "384/384 [==============================] - 75s 192ms/step - loss: 0.9444 - accuracy_score: 0.9619 - val_loss: 1.0147 - val_accuracy_score: 0.9099\n",
      "Epoch 125/150\n",
      "\n",
      "Epoch 00125: LearningRateScheduler reducing learning rate to 1e-06.\n",
      "384/384 [==============================] - 75s 191ms/step - loss: 0.9421 - accuracy_score: 0.9649 - val_loss: 1.0095 - val_accuracy_score: 0.9201\n",
      "Epoch 126/150\n",
      "\n",
      "Epoch 00126: LearningRateScheduler reducing learning rate to 1e-06.\n",
      "384/384 [==============================] - 75s 191ms/step - loss: 0.9425 - accuracy_score: 0.9638 - val_loss: 1.0218 - val_accuracy_score: 0.9018\n",
      "Epoch 127/150\n",
      "\n",
      "Epoch 00127: LearningRateScheduler reducing learning rate to 1e-06.\n",
      "384/384 [==============================] - 75s 191ms/step - loss: 0.9454 - accuracy_score: 0.9618 - val_loss: 1.0113 - val_accuracy_score: 0.9092\n",
      "Epoch 128/150\n",
      "\n",
      "Epoch 00128: LearningRateScheduler reducing learning rate to 1e-06.\n",
      "384/384 [==============================] - 75s 192ms/step - loss: 0.9428 - accuracy_score: 0.9643 - val_loss: 1.0144 - val_accuracy_score: 0.9084\n",
      "Epoch 129/150\n",
      "\n",
      "Epoch 00129: LearningRateScheduler reducing learning rate to 1e-06.\n",
      "384/384 [==============================] - 76s 195ms/step - loss: 0.9458 - accuracy_score: 0.9624 - val_loss: 1.0095 - val_accuracy_score: 0.9158\n",
      "Epoch 130/150\n",
      "\n",
      "Epoch 00130: LearningRateScheduler reducing learning rate to 1e-06.\n",
      "384/384 [==============================] - 75s 192ms/step - loss: 0.9442 - accuracy_score: 0.9661 - val_loss: 1.0163 - val_accuracy_score: 0.9099\n",
      "Epoch 131/150\n",
      "\n",
      "Epoch 00131: LearningRateScheduler reducing learning rate to 1e-06.\n",
      "384/384 [==============================] - 75s 191ms/step - loss: 0.9435 - accuracy_score: 0.9652 - val_loss: 1.0102 - val_accuracy_score: 0.9128\n",
      "Epoch 132/150\n",
      "\n",
      "Epoch 00132: LearningRateScheduler reducing learning rate to 1e-06.\n",
      "384/384 [==============================] - 75s 192ms/step - loss: 0.9408 - accuracy_score: 0.9653 - val_loss: 1.0084 - val_accuracy_score: 0.9121\n",
      "Epoch 133/150\n",
      "\n",
      "Epoch 00133: LearningRateScheduler reducing learning rate to 1e-06.\n",
      "384/384 [==============================] - 75s 194ms/step - loss: 0.9402 - accuracy_score: 0.9647 - val_loss: 1.0129 - val_accuracy_score: 0.9114\n",
      "Epoch 134/150\n",
      "\n",
      "Epoch 00134: LearningRateScheduler reducing learning rate to 1e-06.\n",
      "384/384 [==============================] - 75s 192ms/step - loss: 0.9432 - accuracy_score: 0.9647 - val_loss: 1.0090 - val_accuracy_score: 0.9179\n",
      "Epoch 135/150\n",
      "\n",
      "Epoch 00135: LearningRateScheduler reducing learning rate to 1e-06.\n",
      "384/384 [==============================] - 75s 192ms/step - loss: 0.9419 - accuracy_score: 0.9650 - val_loss: 1.0084 - val_accuracy_score: 0.9165\n",
      "Epoch 136/150\n",
      "\n",
      "Epoch 00136: LearningRateScheduler reducing learning rate to 1e-06.\n",
      "384/384 [==============================] - 75s 192ms/step - loss: 0.9426 - accuracy_score: 0.9635 - val_loss: 1.0093 - val_accuracy_score: 0.9128\n",
      "Epoch 137/150\n",
      "\n",
      "Epoch 00137: LearningRateScheduler reducing learning rate to 1e-06.\n",
      "384/384 [==============================] - 75s 193ms/step - loss: 0.9437 - accuracy_score: 0.9635 - val_loss: 1.0098 - val_accuracy_score: 0.9187\n",
      "Epoch 138/150\n",
      "\n",
      "Epoch 00138: LearningRateScheduler reducing learning rate to 1e-06.\n",
      "384/384 [==============================] - 75s 191ms/step - loss: 0.9433 - accuracy_score: 0.9648 - val_loss: 1.0117 - val_accuracy_score: 0.9099\n",
      "Epoch 139/150\n",
      "\n",
      "Epoch 00139: LearningRateScheduler reducing learning rate to 1e-06.\n",
      "384/384 [==============================] - 75s 192ms/step - loss: 0.9424 - accuracy_score: 0.9654 - val_loss: 1.0164 - val_accuracy_score: 0.9062\n",
      "Epoch 140/150\n",
      "\n",
      "Epoch 00140: LearningRateScheduler reducing learning rate to 1e-06.\n",
      "384/384 [==============================] - 75s 192ms/step - loss: 0.9430 - accuracy_score: 0.9642 - val_loss: 1.0169 - val_accuracy_score: 0.8967\n",
      "Epoch 141/150\n",
      "\n",
      "Epoch 00141: LearningRateScheduler reducing learning rate to 1e-06.\n",
      "384/384 [==============================] - 75s 193ms/step - loss: 0.9403 - accuracy_score: 0.9645 - val_loss: 1.0076 - val_accuracy_score: 0.9136\n",
      "Epoch 142/150\n",
      "\n",
      "Epoch 00142: LearningRateScheduler reducing learning rate to 1e-06.\n",
      "384/384 [==============================] - 75s 192ms/step - loss: 0.9441 - accuracy_score: 0.9641 - val_loss: 1.0132 - val_accuracy_score: 0.9158\n",
      "Epoch 143/150\n",
      "\n",
      "Epoch 00143: LearningRateScheduler reducing learning rate to 1e-06.\n",
      "384/384 [==============================] - 75s 192ms/step - loss: 0.9420 - accuracy_score: 0.9637 - val_loss: 1.0146 - val_accuracy_score: 0.9040\n",
      "Epoch 144/150\n",
      "\n",
      "Epoch 00144: LearningRateScheduler reducing learning rate to 1e-06.\n",
      "384/384 [==============================] - 75s 192ms/step - loss: 0.9439 - accuracy_score: 0.9633 - val_loss: 1.0089 - val_accuracy_score: 0.9077\n",
      "Epoch 145/150\n",
      "\n",
      "Epoch 00145: LearningRateScheduler reducing learning rate to 1e-06.\n",
      "384/384 [==============================] - 75s 191ms/step - loss: 0.9406 - accuracy_score: 0.9679 - val_loss: 1.0121 - val_accuracy_score: 0.9099\n",
      "Epoch 146/150\n",
      "\n",
      "Epoch 00146: LearningRateScheduler reducing learning rate to 1e-06.\n",
      "384/384 [==============================] - 75s 192ms/step - loss: 0.9432 - accuracy_score: 0.9645 - val_loss: 1.0099 - val_accuracy_score: 0.9121\n",
      "Epoch 147/150\n",
      "\n",
      "Epoch 00147: LearningRateScheduler reducing learning rate to 1e-06.\n",
      "384/384 [==============================] - 75s 192ms/step - loss: 0.9436 - accuracy_score: 0.9647 - val_loss: 1.0083 - val_accuracy_score: 0.9158\n",
      "Epoch 148/150\n",
      "\n",
      "Epoch 00148: LearningRateScheduler reducing learning rate to 1e-06.\n",
      "384/384 [==============================] - 75s 192ms/step - loss: 0.9423 - accuracy_score: 0.9640 - val_loss: 1.0129 - val_accuracy_score: 0.9062\n",
      "Epoch 149/150\n",
      "\n",
      "Epoch 00149: LearningRateScheduler reducing learning rate to 1e-06.\n",
      "384/384 [==============================] - 75s 192ms/step - loss: 0.9423 - accuracy_score: 0.9654 - val_loss: 1.0172 - val_accuracy_score: 0.9040\n",
      "Epoch 150/150\n",
      "\n",
      "Epoch 00150: LearningRateScheduler reducing learning rate to 1e-06.\n",
      "384/384 [==============================] - 75s 192ms/step - loss: 0.9470 - accuracy_score: 0.9607 - val_loss: 1.0124 - val_accuracy_score: 0.9106\n"
     ]
    }
   ],
   "source": [
    "kfold = KFold(n_splits=Config.SPLIT, shuffle=False)\n",
    "\n",
    "for i, (train_idx, val_idx) in enumerate(kfold.split(train_rec)):\n",
    "    \n",
    "    train_data, val_data = split_generator(train_idx, val_idx)\n",
    "    \n",
    "    print(f'fold {i} - {\"=\" * 100}')\n",
    "    \n",
    "    with strategy.scope():\n",
    "        \n",
    "        model = build_model()\n",
    "    \n",
    "#     if i < len(weights_path):\n",
    "        \n",
    "#         model.load_weights(weights_path[i])\n",
    "    \n",
    "    callbacks = []\n",
    "    \n",
    "    callbacks.append(LearningRateScheduler(schedule=scheduler(step=10), verbose=1))\n",
    "    \n",
    "    model.fit(train_data, epochs=Config.EPOCHS, validation_data=val_data, callbacks=callbacks)\n",
    "    \n",
    "    model.save_weights(f'weights-{i}.h5')\n",
    "    \n",
    "    backend.clear_session()\n",
    "    \n",
    "    # stop cv\n",
    "    if i == 0:\n",
    "        \n",
    "        break"
   ]
  },
  {
   "cell_type": "code",
   "execution_count": null,
   "id": "78729ac5",
   "metadata": {
    "papermill": {
     "duration": 17.953767,
     "end_time": "2021-12-26T14:35:54.239200",
     "exception": false,
     "start_time": "2021-12-26T14:35:36.285433",
     "status": "completed"
    },
    "tags": []
   },
   "outputs": [],
   "source": []
  },
  {
   "cell_type": "code",
   "execution_count": null,
   "id": "7646231b",
   "metadata": {
    "papermill": {
     "duration": 17.824023,
     "end_time": "2021-12-26T14:36:29.813296",
     "exception": false,
     "start_time": "2021-12-26T14:36:11.989273",
     "status": "completed"
    },
    "tags": []
   },
   "outputs": [],
   "source": []
  },
  {
   "cell_type": "code",
   "execution_count": null,
   "id": "07473d77",
   "metadata": {
    "papermill": {
     "duration": 17.810803,
     "end_time": "2021-12-26T14:37:05.651481",
     "exception": false,
     "start_time": "2021-12-26T14:36:47.840678",
     "status": "completed"
    },
    "tags": []
   },
   "outputs": [],
   "source": []
  }
 ],
 "metadata": {
  "kernelspec": {
   "display_name": "Python 3",
   "language": "python",
   "name": "python3"
  },
  "language_info": {
   "codemirror_mode": {
    "name": "ipython",
    "version": 3
   },
   "file_extension": ".py",
   "mimetype": "text/x-python",
   "name": "python",
   "nbconvert_exporter": "python",
   "pygments_lexer": "ipython3",
   "version": "3.7.10"
  },
  "papermill": {
   "default_parameters": {},
   "duration": 11493.003909,
   "end_time": "2021-12-26T14:37:26.386238",
   "environment_variables": {},
   "exception": null,
   "input_path": "__notebook__.ipynb",
   "output_path": "__notebook__.ipynb",
   "parameters": {},
   "start_time": "2021-12-26T11:25:53.382329",
   "version": "2.3.3"
  }
 },
 "nbformat": 4,
 "nbformat_minor": 5
}
