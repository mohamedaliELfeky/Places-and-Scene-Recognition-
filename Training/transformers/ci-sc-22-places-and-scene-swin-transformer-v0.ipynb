{
 "cells": [
  {
   "cell_type": "markdown",
   "id": "8fb60530",
   "metadata": {
    "papermill": {
     "duration": 0.021818,
     "end_time": "2021-12-27T00:28:31.347239",
     "exception": false,
     "start_time": "2021-12-27T00:28:31.325421",
     "status": "completed"
    },
    "tags": []
   },
   "source": [
    "# **Import Modules**"
   ]
  },
  {
   "cell_type": "code",
   "execution_count": 1,
   "id": "3499d873",
   "metadata": {
    "execution": {
     "iopub.execute_input": "2021-12-27T00:28:31.392322Z",
     "iopub.status.busy": "2021-12-27T00:28:31.390830Z",
     "iopub.status.idle": "2021-12-27T00:28:31.478374Z",
     "shell.execute_reply": "2021-12-27T00:28:31.477727Z",
     "shell.execute_reply.started": "2021-12-27T00:27:03.746536Z"
    },
    "papermill": {
     "duration": 0.111051,
     "end_time": "2021-12-27T00:28:31.478529",
     "exception": false,
     "start_time": "2021-12-27T00:28:31.367478",
     "status": "completed"
    },
    "tags": []
   },
   "outputs": [],
   "source": [
    "import sys\n",
    "\n",
    "import os\n",
    "\n",
    "import random as pyrand\n",
    "\n",
    "os.environ['TF_CPP_MIN_LOG_LEVEL'] = '3'\n",
    "\n",
    "sys.path.insert(0, '../input/deeplearning-utils')\n",
    "sys.path.insert(0, '../input/swintransformertf')"
   ]
  },
  {
   "cell_type": "code",
   "execution_count": 2,
   "id": "88c0fc8c",
   "metadata": {
    "execution": {
     "iopub.execute_input": "2021-12-27T00:28:31.521845Z",
     "iopub.status.busy": "2021-12-27T00:28:31.521230Z",
     "iopub.status.idle": "2021-12-27T00:28:36.920308Z",
     "shell.execute_reply": "2021-12-27T00:28:36.920764Z",
     "shell.execute_reply.started": "2021-12-27T00:27:03.847917Z"
    },
    "papermill": {
     "duration": 5.422678,
     "end_time": "2021-12-27T00:28:36.920916",
     "exception": false,
     "start_time": "2021-12-27T00:28:31.498238",
     "status": "completed"
    },
    "tags": []
   },
   "outputs": [],
   "source": [
    "from utils.ops import plot\n",
    "\n",
    "from utils.tf.ops import io, eval as tf_eval"
   ]
  },
  {
   "cell_type": "code",
   "execution_count": 3,
   "id": "e2eaa561",
   "metadata": {
    "execution": {
     "iopub.execute_input": "2021-12-27T00:28:36.965264Z",
     "iopub.status.busy": "2021-12-27T00:28:36.964563Z",
     "iopub.status.idle": "2021-12-27T00:28:36.983964Z",
     "shell.execute_reply": "2021-12-27T00:28:36.983501Z",
     "shell.execute_reply.started": "2021-12-27T00:27:09.121840Z"
    },
    "papermill": {
     "duration": 0.043355,
     "end_time": "2021-12-27T00:28:36.984083",
     "exception": false,
     "start_time": "2021-12-27T00:28:36.940728",
     "status": "completed"
    },
    "tags": []
   },
   "outputs": [],
   "source": [
    "from swintransformer import SwinTransformer"
   ]
  },
  {
   "cell_type": "code",
   "execution_count": 4,
   "id": "29186593",
   "metadata": {
    "execution": {
     "iopub.execute_input": "2021-12-27T00:28:37.030224Z",
     "iopub.status.busy": "2021-12-27T00:28:37.029534Z",
     "iopub.status.idle": "2021-12-27T00:28:37.166498Z",
     "shell.execute_reply": "2021-12-27T00:28:37.165976Z",
     "shell.execute_reply.started": "2021-12-27T00:27:09.148670Z"
    },
    "papermill": {
     "duration": 0.161664,
     "end_time": "2021-12-27T00:28:37.166642",
     "exception": false,
     "start_time": "2021-12-27T00:28:37.004978",
     "status": "completed"
    },
    "tags": []
   },
   "outputs": [],
   "source": [
    "# This Python 3 environment comes with many helpful analytics libraries installed\n",
    "# It is defined by the kaggle/python Docker image: https://github.com/kaggle/docker-python\n",
    "# For example, here's several helpful packages to load\n",
    "\n",
    "import numpy as np # linear algebra\n",
    "import pandas as pd # data processing, CSV file I/O (e.g. pd.read_csv)\n",
    "\n",
    "# Input data files are available in the read-only \"../input/\" directory\n",
    "# For example, running this (by clicking run or pressing Shift+Enter) will list all files under the input directory\n",
    "\n",
    "import os\n",
    "\n",
    "import matplotlib.pyplot as plt\n",
    "import seaborn as sns\n",
    "\n",
    "from sklearn.model_selection import KFold\n",
    "\n",
    "from tqdm import tqdm"
   ]
  },
  {
   "cell_type": "code",
   "execution_count": 5,
   "id": "b4f261c5",
   "metadata": {
    "execution": {
     "iopub.execute_input": "2021-12-27T00:28:37.207901Z",
     "iopub.status.busy": "2021-12-27T00:28:37.207055Z",
     "iopub.status.idle": "2021-12-27T00:28:37.212783Z",
     "shell.execute_reply": "2021-12-27T00:28:37.212376Z",
     "shell.execute_reply.started": "2021-12-27T00:27:09.292746Z"
    },
    "papermill": {
     "duration": 0.027262,
     "end_time": "2021-12-27T00:28:37.212892",
     "exception": false,
     "start_time": "2021-12-27T00:28:37.185630",
     "status": "completed"
    },
    "tags": []
   },
   "outputs": [],
   "source": [
    "from kaggle_secrets import UserSecretsClient\n",
    "from kaggle_datasets import KaggleDatasets"
   ]
  },
  {
   "cell_type": "code",
   "execution_count": 6,
   "id": "3217d03e",
   "metadata": {
    "execution": {
     "iopub.execute_input": "2021-12-27T00:28:37.255416Z",
     "iopub.status.busy": "2021-12-27T00:28:37.254810Z",
     "iopub.status.idle": "2021-12-27T00:28:37.359784Z",
     "shell.execute_reply": "2021-12-27T00:28:37.359327Z",
     "shell.execute_reply.started": "2021-12-27T00:27:09.301254Z"
    },
    "papermill": {
     "duration": 0.128182,
     "end_time": "2021-12-27T00:28:37.359910",
     "exception": false,
     "start_time": "2021-12-27T00:28:37.231728",
     "status": "completed"
    },
    "tags": []
   },
   "outputs": [],
   "source": [
    "import tensorflow as tf\n",
    "\n",
    "from tensorflow.keras import backend, optimizers, regularizers\n",
    "\n",
    "from tensorflow.keras.layers import *\n",
    "\n",
    "from tensorflow.keras.models import Sequential, Model\n",
    "\n",
    "from tensorflow.keras.callbacks import LearningRateScheduler\n",
    "\n",
    "from tensorflow.keras.layers.experimental import preprocessing\n",
    "\n",
    "import tensorflow_addons as tfa"
   ]
  },
  {
   "cell_type": "markdown",
   "id": "2cfea6ff",
   "metadata": {
    "papermill": {
     "duration": 0.018922,
     "end_time": "2021-12-27T00:28:37.398352",
     "exception": false,
     "start_time": "2021-12-27T00:28:37.379430",
     "status": "completed"
    },
    "tags": []
   },
   "source": [
    "# **Config**"
   ]
  },
  {
   "cell_type": "code",
   "execution_count": 7,
   "id": "13879ea4",
   "metadata": {
    "execution": {
     "iopub.execute_input": "2021-12-27T00:28:37.441683Z",
     "iopub.status.busy": "2021-12-27T00:28:37.440848Z",
     "iopub.status.idle": "2021-12-27T00:28:37.443245Z",
     "shell.execute_reply": "2021-12-27T00:28:37.442725Z",
     "shell.execute_reply.started": "2021-12-27T00:27:09.410524Z"
    },
    "papermill": {
     "duration": 0.025992,
     "end_time": "2021-12-27T00:28:37.443358",
     "exception": false,
     "start_time": "2021-12-27T00:28:37.417366",
     "status": "completed"
    },
    "tags": []
   },
   "outputs": [],
   "source": [
    "def set_seed(tf_seed=0, np_seed=0, py_rand=0, py_hash=0):\n",
    "\n",
    "    os.environ['PYTHONHASHSEED'] = str(py_hash)\n",
    "    pyrand.seed(py_rand)\n",
    "\n",
    "    tf.random.set_seed(tf_seed)\n",
    "    np.random.seed(np_seed)"
   ]
  },
  {
   "cell_type": "code",
   "execution_count": 8,
   "id": "e7e85a1d",
   "metadata": {
    "execution": {
     "iopub.execute_input": "2021-12-27T00:28:37.486396Z",
     "iopub.status.busy": "2021-12-27T00:28:37.485615Z",
     "iopub.status.idle": "2021-12-27T00:28:37.488012Z",
     "shell.execute_reply": "2021-12-27T00:28:37.487586Z",
     "shell.execute_reply.started": "2021-12-27T00:27:09.419748Z"
    },
    "papermill": {
     "duration": 0.024835,
     "end_time": "2021-12-27T00:28:37.488134",
     "exception": false,
     "start_time": "2021-12-27T00:28:37.463299",
     "status": "completed"
    },
    "tags": []
   },
   "outputs": [],
   "source": [
    "PATH = {'224': 'cisc22placesandscene224x224'}"
   ]
  },
  {
   "cell_type": "code",
   "execution_count": 9,
   "id": "b8b8ec2c",
   "metadata": {
    "execution": {
     "iopub.execute_input": "2021-12-27T00:28:37.529138Z",
     "iopub.status.busy": "2021-12-27T00:28:37.528292Z",
     "iopub.status.idle": "2021-12-27T00:28:37.533199Z",
     "shell.execute_reply": "2021-12-27T00:28:37.532756Z",
     "shell.execute_reply.started": "2021-12-27T00:27:09.429301Z"
    },
    "papermill": {
     "duration": 0.026648,
     "end_time": "2021-12-27T00:28:37.533319",
     "exception": false,
     "start_time": "2021-12-27T00:28:37.506671",
     "status": "completed"
    },
    "tags": []
   },
   "outputs": [],
   "source": [
    "class Config:\n",
    "    \n",
    "    SEED = 2053\n",
    "    \n",
    "    IMAGE_SIZE = (224, 224)\n",
    "\n",
    "    TRAIN_BATCH_SIZE = 32\n",
    "    VAL_BATCH_SIZE = 32\n",
    "        \n",
    "    SPLIT =10\n",
    "        \n",
    "    EPOCHS = 50\n",
    "    \n",
    "    TRAINING = True"
   ]
  },
  {
   "cell_type": "code",
   "execution_count": 10,
   "id": "c28b5057",
   "metadata": {
    "execution": {
     "iopub.execute_input": "2021-12-27T00:28:37.576070Z",
     "iopub.status.busy": "2021-12-27T00:28:37.575201Z",
     "iopub.status.idle": "2021-12-27T00:28:37.577023Z",
     "shell.execute_reply": "2021-12-27T00:28:37.577515Z",
     "shell.execute_reply.started": "2021-12-27T00:27:09.436475Z"
    },
    "papermill": {
     "duration": 0.025411,
     "end_time": "2021-12-27T00:28:37.577657",
     "exception": false,
     "start_time": "2021-12-27T00:28:37.552246",
     "status": "completed"
    },
    "tags": []
   },
   "outputs": [],
   "source": [
    "set_seed(Config.SEED)"
   ]
  },
  {
   "cell_type": "code",
   "execution_count": 11,
   "id": "96227cf2",
   "metadata": {
    "execution": {
     "iopub.execute_input": "2021-12-27T00:28:37.621545Z",
     "iopub.status.busy": "2021-12-27T00:28:37.620968Z",
     "iopub.status.idle": "2021-12-27T00:28:37.629667Z",
     "shell.execute_reply": "2021-12-27T00:28:37.630338Z",
     "shell.execute_reply.started": "2021-12-27T00:27:09.445277Z"
    },
    "papermill": {
     "duration": 0.033985,
     "end_time": "2021-12-27T00:28:37.630516",
     "exception": false,
     "start_time": "2021-12-27T00:28:37.596531",
     "status": "completed"
    },
    "tags": []
   },
   "outputs": [
    {
     "name": "stdout",
     "output_type": "stream",
     "text": [
      "REPLICAS:  1\n"
     ]
    }
   ],
   "source": [
    "try:\n",
    "    \n",
    "    tpu = tf.distribute.cluster_resolver.TPUClusterResolver()\n",
    "    \n",
    "    print('Running on TPU ', tpu.master())\n",
    "    \n",
    "except ValueError:\n",
    "  \n",
    "    tpu = None\n",
    "\n",
    "if tpu is not None:\n",
    "    \n",
    "    tf.config.experimental_connect_to_cluster(tpu)\n",
    "    tf.tpu.experimental.initialize_tpu_system(tpu)\n",
    "\n",
    "    strategy = tf.distribute.experimental.TPUStrategy(tpu)\n",
    "\n",
    "else:\n",
    "    \n",
    "    strategy = tf.distribute.get_strategy()\n",
    "\n",
    "\n",
    "print(\"REPLICAS: \", strategy.num_replicas_in_sync)"
   ]
  },
  {
   "cell_type": "code",
   "execution_count": 12,
   "id": "ff6f0e70",
   "metadata": {
    "execution": {
     "iopub.execute_input": "2021-12-27T00:28:37.681577Z",
     "iopub.status.busy": "2021-12-27T00:28:37.680963Z",
     "iopub.status.idle": "2021-12-27T00:28:41.135220Z",
     "shell.execute_reply": "2021-12-27T00:28:41.134687Z",
     "shell.execute_reply.started": "2021-12-27T00:27:09.463238Z"
    },
    "papermill": {
     "duration": 3.484263,
     "end_time": "2021-12-27T00:28:41.135347",
     "exception": false,
     "start_time": "2021-12-27T00:28:37.651084",
     "status": "completed"
    },
    "tags": []
   },
   "outputs": [],
   "source": [
    "user_secrets = UserSecretsClient()\n",
    "user_credential = user_secrets.get_gcloud_credential()\n",
    "\n",
    "user_secrets.set_tensorflow_credential(user_credential)\n",
    "\n",
    "GCS_DS_PATH = KaggleDatasets().get_gcs_path(PATH['224'])"
   ]
  },
  {
   "cell_type": "code",
   "execution_count": 13,
   "id": "c01dc45d",
   "metadata": {
    "execution": {
     "iopub.execute_input": "2021-12-27T00:28:41.177562Z",
     "iopub.status.busy": "2021-12-27T00:28:41.176764Z",
     "iopub.status.idle": "2021-12-27T00:28:41.482689Z",
     "shell.execute_reply": "2021-12-27T00:28:41.483086Z",
     "shell.execute_reply.started": "2021-12-27T00:27:13.383952Z"
    },
    "papermill": {
     "duration": 0.328506,
     "end_time": "2021-12-27T00:28:41.483283",
     "exception": false,
     "start_time": "2021-12-27T00:28:41.154777",
     "status": "completed"
    },
    "tags": []
   },
   "outputs": [],
   "source": [
    "augmentations = []\n",
    "\n",
    "augmentations.append(preprocessing.RandomFlip(mode='horizontal'))\n",
    "augmentations.append(preprocessing.RandomContrast(factor=0.8))\n",
    "augmentations.append(preprocessing.RandomRotation(factor=0.1, dtype=tf.float32))\n",
    "\n",
    "augmentations = Sequential(augmentations)"
   ]
  },
  {
   "cell_type": "markdown",
   "id": "a5adc101",
   "metadata": {
    "papermill": {
     "duration": 0.019341,
     "end_time": "2021-12-27T00:28:41.522229",
     "exception": false,
     "start_time": "2021-12-27T00:28:41.502888",
     "status": "completed"
    },
    "tags": []
   },
   "source": [
    "# **Load Data**"
   ]
  },
  {
   "cell_type": "code",
   "execution_count": 14,
   "id": "8cb5b3cf",
   "metadata": {
    "execution": {
     "iopub.execute_input": "2021-12-27T00:28:41.565607Z",
     "iopub.status.busy": "2021-12-27T00:28:41.564858Z",
     "iopub.status.idle": "2021-12-27T00:28:41.567371Z",
     "shell.execute_reply": "2021-12-27T00:28:41.566958Z",
     "shell.execute_reply.started": "2021-12-27T00:27:13.691191Z"
    },
    "papermill": {
     "duration": 0.025955,
     "end_time": "2021-12-27T00:28:41.567481",
     "exception": false,
     "start_time": "2021-12-27T00:28:41.541526",
     "status": "completed"
    },
    "tags": []
   },
   "outputs": [],
   "source": [
    "AUTOTUNE = tf.data.experimental.AUTOTUNE\n",
    "\n",
    "ignore_order = tf.data.Options()\n",
    "ignore_order.experimental_deterministic = False"
   ]
  },
  {
   "cell_type": "code",
   "execution_count": 15,
   "id": "8cdc223a",
   "metadata": {
    "execution": {
     "iopub.execute_input": "2021-12-27T00:28:41.610896Z",
     "iopub.status.busy": "2021-12-27T00:28:41.609912Z",
     "iopub.status.idle": "2021-12-27T00:28:41.683079Z",
     "shell.execute_reply": "2021-12-27T00:28:41.683537Z",
     "shell.execute_reply.started": "2021-12-27T00:27:13.699856Z"
    },
    "papermill": {
     "duration": 0.096826,
     "end_time": "2021-12-27T00:28:41.683690",
     "exception": false,
     "start_time": "2021-12-27T00:28:41.586864",
     "status": "completed"
    },
    "tags": []
   },
   "outputs": [
    {
     "name": "stdout",
     "output_type": "stream",
     "text": [
      "50\n"
     ]
    }
   ],
   "source": [
    "train_rec = tf.io.gfile.glob(GCS_DS_PATH + '/train/train/*')\n",
    "\n",
    "train_rec = np.array(train_rec)\n",
    "\n",
    "print(len(train_rec))"
   ]
  },
  {
   "cell_type": "code",
   "execution_count": 16,
   "id": "78e8c395",
   "metadata": {
    "execution": {
     "iopub.execute_input": "2021-12-27T00:28:41.730458Z",
     "iopub.status.busy": "2021-12-27T00:28:41.729648Z",
     "iopub.status.idle": "2021-12-27T00:28:41.731691Z",
     "shell.execute_reply": "2021-12-27T00:28:41.732075Z",
     "shell.execute_reply.started": "2021-12-27T00:27:13.950287Z"
    },
    "papermill": {
     "duration": 0.028081,
     "end_time": "2021-12-27T00:28:41.732250",
     "exception": false,
     "start_time": "2021-12-27T00:28:41.704169",
     "status": "completed"
    },
    "tags": []
   },
   "outputs": [],
   "source": [
    "def train_processing(x, y):\n",
    "        \n",
    "    x = tf.cast(x, dtype=tf.float32)\n",
    "    x /= 255.0\n",
    "        \n",
    "    y = tf.one_hot(y, depth=6)\n",
    "    \n",
    "    return augmentations(x, training=Config.TRAINING), y"
   ]
  },
  {
   "cell_type": "code",
   "execution_count": 17,
   "id": "a36d25cc",
   "metadata": {
    "execution": {
     "iopub.execute_input": "2021-12-27T00:28:41.783210Z",
     "iopub.status.busy": "2021-12-27T00:28:41.782289Z",
     "iopub.status.idle": "2021-12-27T00:28:41.784088Z",
     "shell.execute_reply": "2021-12-27T00:28:41.784656Z",
     "shell.execute_reply.started": "2021-12-27T00:27:13.956671Z"
    },
    "papermill": {
     "duration": 0.032238,
     "end_time": "2021-12-27T00:28:41.784802",
     "exception": false,
     "start_time": "2021-12-27T00:28:41.752564",
     "status": "completed"
    },
    "tags": []
   },
   "outputs": [],
   "source": [
    "def split_generator(train_idx, val_idx):\n",
    "    \n",
    "    dtype = {'image': 'bytes', 'label': 'int64'}\n",
    "    \n",
    "    reader = io.TfRecordReader(features_dtype=dtype,  image_key='image', \n",
    "                               tfrecord_shape=[*Config.IMAGE_SIZE, 3],  \n",
    "                               shape=None, channels=3,  func=None)\n",
    "    \n",
    "    train_data = tf.data.TFRecordDataset(train_rec[train_idx], num_parallel_reads=AUTOTUNE)\n",
    "    train_data = train_data.with_options(ignore_order)\n",
    "\n",
    "    train_data = train_data.map(reader.read_tfrecord, num_parallel_calls=AUTOTUNE)\n",
    "    train_data = train_data.shuffle(512, reshuffle_each_iteration=True)\n",
    "    train_data = train_data.batch(Config.TRAIN_BATCH_SIZE)\n",
    "    train_data = train_data.prefetch(AUTOTUNE)\n",
    "    train_data = train_data.map(train_processing)\n",
    "    \n",
    "    val_data = tf.data.TFRecordDataset(train_rec[val_idx], num_parallel_reads=AUTOTUNE)\n",
    "    val_data = val_data.with_options(ignore_order)\n",
    "\n",
    "    val_data = val_data.map(reader.read_tfrecord, num_parallel_calls=AUTOTUNE)\n",
    "    val_data = val_data.batch(Config.VAL_BATCH_SIZE)\n",
    "    val_data = val_data.prefetch(AUTOTUNE)\n",
    "    val_data = val_data.map(train_processing)\n",
    "    \n",
    "    return train_data, val_data"
   ]
  },
  {
   "cell_type": "code",
   "execution_count": 18,
   "id": "13accb06",
   "metadata": {
    "execution": {
     "iopub.execute_input": "2021-12-27T00:28:41.830170Z",
     "iopub.status.busy": "2021-12-27T00:28:41.829655Z",
     "iopub.status.idle": "2021-12-27T00:28:44.031888Z",
     "shell.execute_reply": "2021-12-27T00:28:44.031410Z",
     "shell.execute_reply.started": "2021-12-27T00:27:13.970023Z"
    },
    "papermill": {
     "duration": 2.226673,
     "end_time": "2021-12-27T00:28:44.032015",
     "exception": false,
     "start_time": "2021-12-27T00:28:41.805342",
     "status": "completed"
    },
    "tags": []
   },
   "outputs": [
    {
     "data": {
      "image/png": "[encoded data removed]",
      "text/plain": [
       "<Figure size 432x288 with 1 Axes>"
      ]
     },
     "metadata": {
      "needs_background": "light"
     },
     "output_type": "display_data"
    }
   ],
   "source": [
    "sample_x, sample_y = split_generator(0, 1)[0].unbatch().as_numpy_iterator().next()\n",
    "\n",
    "plt.imshow(sample_x)\n",
    "plt.title(f'label = {int(sample_y.argmax())}')\n",
    "plt.axis('off')\n",
    "plt.show()"
   ]
  },
  {
   "cell_type": "markdown",
   "id": "e733a2c9",
   "metadata": {
    "papermill": {
     "duration": 0.022035,
     "end_time": "2021-12-27T00:28:44.076465",
     "exception": false,
     "start_time": "2021-12-27T00:28:44.054430",
     "status": "completed"
    },
    "tags": []
   },
   "source": [
    "# **Build Model**"
   ]
  },
  {
   "cell_type": "code",
   "execution_count": 19,
   "id": "89586213",
   "metadata": {
    "execution": {
     "iopub.execute_input": "2021-12-27T00:28:44.125660Z",
     "iopub.status.busy": "2021-12-27T00:28:44.124627Z",
     "iopub.status.idle": "2021-12-27T00:28:44.126583Z",
     "shell.execute_reply": "2021-12-27T00:28:44.127016Z",
     "shell.execute_reply.started": "2021-12-27T00:27:16.817056Z"
    },
    "papermill": {
     "duration": 0.028724,
     "end_time": "2021-12-27T00:28:44.127176",
     "exception": false,
     "start_time": "2021-12-27T00:28:44.098452",
     "status": "completed"
    },
    "tags": []
   },
   "outputs": [],
   "source": [
    "input_shape = (*Config.IMAGE_SIZE, 3)"
   ]
  },
  {
   "cell_type": "code",
   "execution_count": 20,
   "id": "97703c83",
   "metadata": {
    "execution": {
     "iopub.execute_input": "2021-12-27T00:28:44.178746Z",
     "iopub.status.busy": "2021-12-27T00:28:44.177914Z",
     "iopub.status.idle": "2021-12-27T00:28:53.728948Z",
     "shell.execute_reply": "2021-12-27T00:28:53.728485Z",
     "shell.execute_reply.started": "2021-12-27T00:27:16.823256Z"
    },
    "papermill": {
     "duration": 9.578621,
     "end_time": "2021-12-27T00:28:53.729106",
     "exception": false,
     "start_time": "2021-12-27T00:28:44.150485",
     "status": "completed"
    },
    "tags": []
   },
   "outputs": [
    {
     "name": "stdout",
     "output_type": "stream",
     "text": [
      "Downloading data from https://github.com/rishigami/Swin-Transformer-TF/releases/download/v0.1-tf-swin-weights/swin_tiny_224.tgz\n",
      "102039552/102036641 [==============================] - 2s 0us/step\n"
     ]
    }
   ],
   "source": [
    "with strategy.scope():\n",
    "    \n",
    "    backbone = SwinTransformer('swin_tiny_224', include_top=False, pretrained=True, use_tpu=True)"
   ]
  },
  {
   "cell_type": "code",
   "execution_count": 21,
   "id": "3868cb72",
   "metadata": {
    "execution": {
     "iopub.execute_input": "2021-12-27T00:28:53.799587Z",
     "iopub.status.busy": "2021-12-27T00:28:53.798728Z",
     "iopub.status.idle": "2021-12-27T00:28:53.801140Z",
     "shell.execute_reply": "2021-12-27T00:28:53.800720Z",
     "shell.execute_reply.started": "2021-12-27T00:27:27.745800Z"
    },
    "papermill": {
     "duration": 0.040611,
     "end_time": "2021-12-27T00:28:53.801255",
     "exception": false,
     "start_time": "2021-12-27T00:28:53.760644",
     "status": "completed"
    },
    "tags": []
   },
   "outputs": [],
   "source": [
    "def build_model():\n",
    "    \n",
    "    backbone.trainable = False\n",
    "    \n",
    "    # ===================================================================================\n",
    "    \n",
    "    inputs =  Input(shape=input_shape)\n",
    "\n",
    "    features = backbone(inputs)\n",
    "    \n",
    "    # ===================================================================================\n",
    "\n",
    "    y_logits = Dense(6, name='y_logits')(features)\n",
    "    y_proba = Activation('softmax', name='y_proba')(y_logits)\n",
    "    \n",
    "    # ===================================================================================\n",
    "\n",
    "    model = Model(inputs, y_proba)\n",
    "    \n",
    "    # ===================================================================================\n",
    "    \n",
    "    optimizer = optimizers.Adam(learning_rate=1e-3, beta_1=0.9, beta_2=0.999)\n",
    "    \n",
    "    loss = tf.losses.CategoricalCrossentropy(label_smoothing=0.25, name='categorical_crossentropy')\n",
    "    metrics = tf.metrics.CategoricalAccuracy(name='accuracy_score')\n",
    "    \n",
    "    model.compile(optimizer=optimizer, loss=loss, metrics=metrics)\n",
    "    \n",
    "    # ===================================================================================\n",
    "\n",
    "    return model"
   ]
  },
  {
   "cell_type": "code",
   "execution_count": 22,
   "id": "efadbbcf",
   "metadata": {
    "execution": {
     "iopub.execute_input": "2021-12-27T00:28:53.875757Z",
     "iopub.status.busy": "2021-12-27T00:28:53.874952Z",
     "iopub.status.idle": "2021-12-27T00:28:55.251451Z",
     "shell.execute_reply": "2021-12-27T00:28:55.250855Z",
     "shell.execute_reply.started": "2021-12-27T00:27:27.755870Z"
    },
    "papermill": {
     "duration": 1.419156,
     "end_time": "2021-12-27T00:28:55.251588",
     "exception": false,
     "start_time": "2021-12-27T00:28:53.832432",
     "status": "completed"
    },
    "tags": []
   },
   "outputs": [
    {
     "name": "stdout",
     "output_type": "stream",
     "text": [
      "Model: \"model\"\n",
      "_________________________________________________________________\n",
      "Layer (type)                 Output Shape              Param #   \n",
      "=================================================================\n",
      "input_2 (InputLayer)         [(None, 224, 224, 3)]     0         \n",
      "_________________________________________________________________\n",
      "swin_tiny_224 (SwinTransform (None, 768)               27769058  \n",
      "_________________________________________________________________\n",
      "y_logits (Dense)             (None, 6)                 4614      \n",
      "_________________________________________________________________\n",
      "y_proba (Activation)         (None, 6)                 0         \n",
      "=================================================================\n",
      "Total params: 27,773,672\n",
      "Trainable params: 4,614\n",
      "Non-trainable params: 27,769,058\n",
      "_________________________________________________________________\n"
     ]
    }
   ],
   "source": [
    "build_model().summary()"
   ]
  },
  {
   "cell_type": "markdown",
   "id": "c2ad8bf2",
   "metadata": {
    "papermill": {
     "duration": 0.03115,
     "end_time": "2021-12-27T00:28:55.314892",
     "exception": false,
     "start_time": "2021-12-27T00:28:55.283742",
     "status": "completed"
    },
    "tags": []
   },
   "source": [
    "# **Train Model**"
   ]
  },
  {
   "cell_type": "code",
   "execution_count": 23,
   "id": "d1434d07",
   "metadata": {
    "execution": {
     "iopub.execute_input": "2021-12-27T00:28:55.386590Z",
     "iopub.status.busy": "2021-12-27T00:28:55.386016Z",
     "iopub.status.idle": "2021-12-27T02:45:56.555208Z",
     "shell.execute_reply": "2021-12-27T02:45:56.554713Z",
     "shell.execute_reply.started": "2021-12-27T00:27:29.118452Z"
    },
    "papermill": {
     "duration": 8221.209195,
     "end_time": "2021-12-27T02:45:56.555355",
     "exception": false,
     "start_time": "2021-12-27T00:28:55.346160",
     "status": "completed"
    },
    "tags": []
   },
   "outputs": [
    {
     "name": "stdout",
     "output_type": "stream",
     "text": [
      "1\n",
      "fold 0 - ====================================================================================================\n",
      "Epoch 1/50\n",
      "\n",
      "Epoch 00001: LearningRateScheduler reducing learning rate to 0.0010000000474974513.\n",
      "384/384 [==============================] - 185s 433ms/step - loss: 1.0185 - accuracy_score: 0.9194 - val_loss: 1.0148 - val_accuracy_score: 0.9223\n",
      "Epoch 2/50\n",
      "\n",
      "Epoch 00002: LearningRateScheduler reducing learning rate to 0.0010000000474974513.\n",
      "384/384 [==============================] - 161s 417ms/step - loss: 1.0196 - accuracy_score: 0.9177 - val_loss: 1.0130 - val_accuracy_score: 0.9121\n",
      "Epoch 3/50\n",
      "\n",
      "Epoch 00003: LearningRateScheduler reducing learning rate to 0.0010000000474974513.\n",
      "384/384 [==============================] - 161s 418ms/step - loss: 1.0175 - accuracy_score: 0.9201 - val_loss: 1.0103 - val_accuracy_score: 0.9201\n",
      "Epoch 4/50\n",
      "\n",
      "Epoch 00004: LearningRateScheduler reducing learning rate to 0.0010000000474974513.\n",
      "384/384 [==============================] - 161s 418ms/step - loss: 1.0189 - accuracy_score: 0.9205 - val_loss: 1.0105 - val_accuracy_score: 0.9114\n",
      "Epoch 5/50\n",
      "\n",
      "Epoch 00005: LearningRateScheduler reducing learning rate to 0.0010000000474974513.\n",
      "384/384 [==============================] - 161s 417ms/step - loss: 1.0178 - accuracy_score: 0.9168 - val_loss: 1.0173 - val_accuracy_score: 0.9121\n",
      "Epoch 6/50\n",
      "\n",
      "Epoch 00006: LearningRateScheduler reducing learning rate to 0.0010000000474974513.\n",
      "384/384 [==============================] - 161s 418ms/step - loss: 1.0208 - accuracy_score: 0.9196 - val_loss: 1.0110 - val_accuracy_score: 0.9128\n",
      "Epoch 7/50\n",
      "\n",
      "Epoch 00007: LearningRateScheduler reducing learning rate to 0.0010000000474974513.\n",
      "384/384 [==============================] - 164s 425ms/step - loss: 1.0195 - accuracy_score: 0.9181 - val_loss: 1.0093 - val_accuracy_score: 0.9231\n",
      "Epoch 8/50\n",
      "\n",
      "Epoch 00008: LearningRateScheduler reducing learning rate to 0.0010000000474974513.\n",
      "384/384 [==============================] - 162s 420ms/step - loss: 1.0199 - accuracy_score: 0.9217 - val_loss: 1.0126 - val_accuracy_score: 0.9114\n",
      "Epoch 9/50\n",
      "\n",
      "Epoch 00009: LearningRateScheduler reducing learning rate to 0.0010000000474974513.\n",
      "384/384 [==============================] - 162s 420ms/step - loss: 1.0186 - accuracy_score: 0.9227 - val_loss: 1.0204 - val_accuracy_score: 0.9055\n",
      "Epoch 10/50\n",
      "\n",
      "Epoch 00010: LearningRateScheduler reducing learning rate to 0.0010000000474974513.\n",
      "384/384 [==============================] - 163s 420ms/step - loss: 1.0216 - accuracy_score: 0.9197 - val_loss: 1.0150 - val_accuracy_score: 0.9172\n",
      "Epoch 11/50\n",
      "\n",
      "Epoch 00011: LearningRateScheduler reducing learning rate to tf.Tensor(0.0004723666, shape=(), dtype=float32).\n",
      "384/384 [==============================] - 163s 422ms/step - loss: 1.0162 - accuracy_score: 0.9202 - val_loss: 1.0105 - val_accuracy_score: 0.9150\n",
      "Epoch 12/50\n",
      "\n",
      "Epoch 00012: LearningRateScheduler reducing learning rate to 0.0004723666061181575.\n",
      "384/384 [==============================] - 163s 421ms/step - loss: 1.0148 - accuracy_score: 0.9202 - val_loss: 1.0119 - val_accuracy_score: 0.9172\n",
      "Epoch 13/50\n",
      "\n",
      "Epoch 00013: LearningRateScheduler reducing learning rate to 0.0004723666061181575.\n",
      "384/384 [==============================] - 163s 423ms/step - loss: 1.0129 - accuracy_score: 0.9237 - val_loss: 1.0158 - val_accuracy_score: 0.9128\n",
      "Epoch 14/50\n",
      "\n",
      "Epoch 00014: LearningRateScheduler reducing learning rate to 0.0004723666061181575.\n",
      "384/384 [==============================] - 163s 421ms/step - loss: 1.0160 - accuracy_score: 0.9226 - val_loss: 1.0126 - val_accuracy_score: 0.9143\n",
      "Epoch 15/50\n",
      "\n",
      "Epoch 00015: LearningRateScheduler reducing learning rate to 0.0004723666061181575.\n",
      "384/384 [==============================] - 162s 419ms/step - loss: 1.0172 - accuracy_score: 0.9214 - val_loss: 1.0121 - val_accuracy_score: 0.9172\n",
      "Epoch 16/50\n",
      "\n",
      "Epoch 00016: LearningRateScheduler reducing learning rate to 0.0004723666061181575.\n",
      "384/384 [==============================] - 163s 422ms/step - loss: 1.0164 - accuracy_score: 0.9216 - val_loss: 1.0129 - val_accuracy_score: 0.9128\n",
      "Epoch 17/50\n",
      "\n",
      "Epoch 00017: LearningRateScheduler reducing learning rate to 0.0004723666061181575.\n",
      "384/384 [==============================] - 161s 419ms/step - loss: 1.0140 - accuracy_score: 0.9226 - val_loss: 1.0155 - val_accuracy_score: 0.9187\n",
      "Epoch 18/50\n",
      "\n",
      "Epoch 00018: LearningRateScheduler reducing learning rate to 0.0004723666061181575.\n",
      "384/384 [==============================] - 162s 421ms/step - loss: 1.0144 - accuracy_score: 0.9223 - val_loss: 1.0157 - val_accuracy_score: 0.9114\n",
      "Epoch 19/50\n",
      "\n",
      "Epoch 00019: LearningRateScheduler reducing learning rate to 0.0004723666061181575.\n",
      "384/384 [==============================] - 163s 422ms/step - loss: 1.0164 - accuracy_score: 0.9255 - val_loss: 1.0121 - val_accuracy_score: 0.9150\n",
      "Epoch 20/50\n",
      "\n",
      "Epoch 00020: LearningRateScheduler reducing learning rate to 0.0004723666061181575.\n",
      "384/384 [==============================] - 163s 421ms/step - loss: 1.0132 - accuracy_score: 0.9237 - val_loss: 1.0116 - val_accuracy_score: 0.9194\n",
      "Epoch 21/50\n",
      "\n",
      "Epoch 00021: LearningRateScheduler reducing learning rate to tf.Tensor(0.00022313019, shape=(), dtype=float32).\n",
      "384/384 [==============================] - 164s 422ms/step - loss: 1.0132 - accuracy_score: 0.9239 - val_loss: 1.0070 - val_accuracy_score: 0.9143\n",
      "Epoch 22/50\n",
      "\n",
      "Epoch 00022: LearningRateScheduler reducing learning rate to 0.000223130191443488.\n",
      "384/384 [==============================] - 165s 426ms/step - loss: 1.0149 - accuracy_score: 0.9189 - val_loss: 1.0145 - val_accuracy_score: 0.9172\n",
      "Epoch 23/50\n",
      "\n",
      "Epoch 00023: LearningRateScheduler reducing learning rate to 0.000223130191443488.\n",
      "384/384 [==============================] - 163s 423ms/step - loss: 1.0130 - accuracy_score: 0.9228 - val_loss: 1.0115 - val_accuracy_score: 0.9128\n",
      "Epoch 24/50\n",
      "\n",
      "Epoch 00024: LearningRateScheduler reducing learning rate to 0.000223130191443488.\n",
      "384/384 [==============================] - 163s 422ms/step - loss: 1.0139 - accuracy_score: 0.9237 - val_loss: 1.0095 - val_accuracy_score: 0.9172\n",
      "Epoch 25/50\n",
      "\n",
      "Epoch 00025: LearningRateScheduler reducing learning rate to 0.000223130191443488.\n",
      "384/384 [==============================] - 163s 423ms/step - loss: 1.0165 - accuracy_score: 0.9223 - val_loss: 1.0069 - val_accuracy_score: 0.9194\n",
      "Epoch 26/50\n",
      "\n",
      "Epoch 00026: LearningRateScheduler reducing learning rate to 0.000223130191443488.\n",
      "384/384 [==============================] - 164s 425ms/step - loss: 1.0113 - accuracy_score: 0.9271 - val_loss: 1.0127 - val_accuracy_score: 0.9092\n",
      "Epoch 27/50\n",
      "\n",
      "Epoch 00027: LearningRateScheduler reducing learning rate to 0.000223130191443488.\n",
      "384/384 [==============================] - 163s 424ms/step - loss: 1.0123 - accuracy_score: 0.9222 - val_loss: 1.0084 - val_accuracy_score: 0.9179\n",
      "Epoch 28/50\n",
      "\n",
      "Epoch 00028: LearningRateScheduler reducing learning rate to 0.000223130191443488.\n",
      "384/384 [==============================] - 165s 426ms/step - loss: 1.0114 - accuracy_score: 0.9233 - val_loss: 1.0127 - val_accuracy_score: 0.9136\n",
      "Epoch 29/50\n",
      "\n",
      "Epoch 00029: LearningRateScheduler reducing learning rate to 0.000223130191443488.\n",
      "384/384 [==============================] - 167s 431ms/step - loss: 1.0117 - accuracy_score: 0.9239 - val_loss: 1.0125 - val_accuracy_score: 0.9150\n",
      "Epoch 30/50\n",
      "\n",
      "Epoch 00030: LearningRateScheduler reducing learning rate to 0.000223130191443488.\n",
      "384/384 [==============================] - 164s 424ms/step - loss: 1.0135 - accuracy_score: 0.9199 - val_loss: 1.0109 - val_accuracy_score: 0.9136\n",
      "Epoch 31/50\n",
      "\n",
      "Epoch 00031: LearningRateScheduler reducing learning rate to tf.Tensor(0.000105399246, shape=(), dtype=float32).\n",
      "384/384 [==============================] - 165s 427ms/step - loss: 1.0153 - accuracy_score: 0.9201 - val_loss: 1.0115 - val_accuracy_score: 0.9158\n",
      "Epoch 32/50\n",
      "\n",
      "Epoch 00032: LearningRateScheduler reducing learning rate to 0.00010539924551267177.\n",
      "384/384 [==============================] - 164s 425ms/step - loss: 1.0138 - accuracy_score: 0.9201 - val_loss: 1.0131 - val_accuracy_score: 0.9099\n",
      "Epoch 33/50\n",
      "\n",
      "Epoch 00033: LearningRateScheduler reducing learning rate to 0.00010539924551267177.\n",
      "384/384 [==============================] - 167s 430ms/step - loss: 1.0133 - accuracy_score: 0.9254 - val_loss: 1.0109 - val_accuracy_score: 0.9128\n",
      "Epoch 34/50\n",
      "\n",
      "Epoch 00034: LearningRateScheduler reducing learning rate to 0.00010539924551267177.\n",
      "384/384 [==============================] - 165s 429ms/step - loss: 1.0095 - accuracy_score: 0.9253 - val_loss: 1.0105 - val_accuracy_score: 0.9136\n",
      "Epoch 35/50\n",
      "\n",
      "Epoch 00035: LearningRateScheduler reducing learning rate to 0.00010539924551267177.\n",
      "384/384 [==============================] - 167s 432ms/step - loss: 1.0100 - accuracy_score: 0.9228 - val_loss: 1.0105 - val_accuracy_score: 0.9179\n",
      "Epoch 36/50\n",
      "\n",
      "Epoch 00036: LearningRateScheduler reducing learning rate to 0.00010539924551267177.\n",
      "384/384 [==============================] - 165s 429ms/step - loss: 1.0126 - accuracy_score: 0.9243 - val_loss: 1.0113 - val_accuracy_score: 0.9084\n",
      "Epoch 37/50\n",
      "\n",
      "Epoch 00037: LearningRateScheduler reducing learning rate to 0.00010539924551267177.\n",
      "384/384 [==============================] - 167s 431ms/step - loss: 1.0122 - accuracy_score: 0.9246 - val_loss: 1.0125 - val_accuracy_score: 0.9158\n",
      "Epoch 38/50\n",
      "\n",
      "Epoch 00038: LearningRateScheduler reducing learning rate to 0.00010539924551267177.\n",
      "384/384 [==============================] - 167s 433ms/step - loss: 1.0122 - accuracy_score: 0.9216 - val_loss: 1.0129 - val_accuracy_score: 0.9128\n",
      "Epoch 39/50\n",
      "\n",
      "Epoch 00039: LearningRateScheduler reducing learning rate to 0.00010539924551267177.\n",
      "384/384 [==============================] - 165s 428ms/step - loss: 1.0125 - accuracy_score: 0.9256 - val_loss: 1.0123 - val_accuracy_score: 0.9187\n",
      "Epoch 40/50\n",
      "\n",
      "Epoch 00040: LearningRateScheduler reducing learning rate to 0.00010539924551267177.\n",
      "384/384 [==============================] - 164s 424ms/step - loss: 1.0127 - accuracy_score: 0.9223 - val_loss: 1.0125 - val_accuracy_score: 0.9106\n",
      "Epoch 41/50\n",
      "\n",
      "Epoch 00041: LearningRateScheduler reducing learning rate to tf.Tensor(4.978708e-05, shape=(), dtype=float32).\n",
      "384/384 [==============================] - 164s 424ms/step - loss: 1.0124 - accuracy_score: 0.9248 - val_loss: 1.0116 - val_accuracy_score: 0.9077\n",
      "Epoch 42/50\n",
      "\n",
      "Epoch 00042: LearningRateScheduler reducing learning rate to 4.97870787512511e-05.\n",
      "384/384 [==============================] - 162s 421ms/step - loss: 1.0109 - accuracy_score: 0.9261 - val_loss: 1.0104 - val_accuracy_score: 0.9114\n",
      "Epoch 43/50\n",
      "\n",
      "Epoch 00043: LearningRateScheduler reducing learning rate to 4.97870787512511e-05.\n",
      "384/384 [==============================] - 165s 427ms/step - loss: 1.0102 - accuracy_score: 0.9248 - val_loss: 1.0066 - val_accuracy_score: 0.9150\n",
      "Epoch 44/50\n",
      "\n",
      "Epoch 00044: LearningRateScheduler reducing learning rate to 4.97870787512511e-05.\n",
      "384/384 [==============================] - 166s 426ms/step - loss: 1.0098 - accuracy_score: 0.9286 - val_loss: 1.0083 - val_accuracy_score: 0.9114\n",
      "Epoch 45/50\n",
      "\n",
      "Epoch 00045: LearningRateScheduler reducing learning rate to 4.97870787512511e-05.\n",
      "384/384 [==============================] - 165s 429ms/step - loss: 1.0125 - accuracy_score: 0.9229 - val_loss: 1.0161 - val_accuracy_score: 0.9106\n",
      "Epoch 46/50\n",
      "\n",
      "Epoch 00046: LearningRateScheduler reducing learning rate to 4.97870787512511e-05.\n",
      "384/384 [==============================] - 166s 430ms/step - loss: 1.0128 - accuracy_score: 0.9229 - val_loss: 1.0083 - val_accuracy_score: 0.9128\n",
      "Epoch 47/50\n",
      "\n",
      "Epoch 00047: LearningRateScheduler reducing learning rate to 4.97870787512511e-05.\n",
      "384/384 [==============================] - 164s 426ms/step - loss: 1.0121 - accuracy_score: 0.9238 - val_loss: 1.0106 - val_accuracy_score: 0.9128\n",
      "Epoch 48/50\n",
      "\n",
      "Epoch 00048: LearningRateScheduler reducing learning rate to 4.97870787512511e-05.\n",
      "384/384 [==============================] - 166s 429ms/step - loss: 1.0079 - accuracy_score: 0.9290 - val_loss: 1.0128 - val_accuracy_score: 0.9143\n",
      "Epoch 49/50\n",
      "\n",
      "Epoch 00049: LearningRateScheduler reducing learning rate to 4.97870787512511e-05.\n",
      "384/384 [==============================] - 165s 426ms/step - loss: 1.0119 - accuracy_score: 0.9229 - val_loss: 1.0100 - val_accuracy_score: 0.9106\n",
      "Epoch 50/50\n",
      "\n",
      "Epoch 00050: LearningRateScheduler reducing learning rate to 4.97870787512511e-05.\n",
      "384/384 [==============================] - 163s 423ms/step - loss: 1.0114 - accuracy_score: 0.9260 - val_loss: 1.0089 - val_accuracy_score: 0.9187\n"
     ]
    }
   ],
   "source": [
    "weights_path = tf.io.gfile.glob('../input/csscciswimv0/weights-*.h5')\n",
    "\n",
    "print(len(weights_path))\n",
    "\n",
    "def scheduler(step):\n",
    "    \n",
    "    def _scheduler(epoch, lr):\n",
    "        \n",
    "        if epoch > 0 and epoch % step == 0:\n",
    "            \n",
    "            return max(1e-6, lr * tf.math.exp(-0.75))\n",
    "        \n",
    "        else:\n",
    "            \n",
    "            return max(1e-6, lr)\n",
    "    \n",
    "    return _scheduler\n",
    "\n",
    "kfold = KFold(n_splits=Config.SPLIT, shuffle=False)\n",
    "\n",
    "for i, (train_idx, val_idx) in enumerate(kfold.split(train_rec)):\n",
    "    \n",
    "    train_data, val_data = split_generator(train_idx, val_idx)\n",
    "    \n",
    "    print(f'fold {i} - {\"=\" * 100}')\n",
    "    \n",
    "    with strategy.scope():\n",
    "        \n",
    "        model = build_model()\n",
    "    \n",
    "    if i < len(weights_path):\n",
    "        \n",
    "        model.load_weights(weights_path[i])\n",
    "        \n",
    "    callbacks = []\n",
    "    \n",
    "    callbacks.append(LearningRateScheduler(schedule=scheduler(step=10), verbose=1))\n",
    "    \n",
    "    model.fit(train_data, epochs=Config.EPOCHS, validation_data=val_data, callbacks=callbacks)\n",
    "    \n",
    "    model.save_weights(f'weights-{i}.h5')\n",
    "    \n",
    "    backend.clear_session()\n",
    "\n",
    "    # stop cv\n",
    "    if i == 0:\n",
    "        \n",
    "        break"
   ]
  },
  {
   "cell_type": "code",
   "execution_count": null,
   "id": "b09edc11",
   "metadata": {
    "papermill": {
     "duration": 5.333373,
     "end_time": "2021-12-27T02:46:06.892096",
     "exception": false,
     "start_time": "2021-12-27T02:46:01.558723",
     "status": "completed"
    },
    "tags": []
   },
   "outputs": [],
   "source": []
  },
  {
   "cell_type": "code",
   "execution_count": null,
   "id": "24cd606d",
   "metadata": {
    "papermill": {
     "duration": 5.383632,
     "end_time": "2021-12-27T02:46:17.360262",
     "exception": false,
     "start_time": "2021-12-27T02:46:11.976630",
     "status": "completed"
    },
    "tags": []
   },
   "outputs": [],
   "source": []
  }
 ],
 "metadata": {
  "kernelspec": {
   "display_name": "Python 3",
   "language": "python",
   "name": "python3"
  },
  "language_info": {
   "codemirror_mode": {
    "name": "ipython",
    "version": 3
   },
   "file_extension": ".py",
   "mimetype": "text/x-python",
   "name": "python",
   "nbconvert_exporter": "python",
   "pygments_lexer": "ipython3",
   "version": "3.7.10"
  },
  "papermill": {
   "default_parameters": {},
   "duration": 8282.096239,
   "end_time": "2021-12-27T02:46:26.711773",
   "environment_variables": {},
   "exception": null,
   "input_path": "__notebook__.ipynb",
   "output_path": "__notebook__.ipynb",
   "parameters": {},
   "start_time": "2021-12-27T00:28:24.615534",
   "version": "2.3.3"
  }
 },
 "nbformat": 4,
 "nbformat_minor": 5
}
