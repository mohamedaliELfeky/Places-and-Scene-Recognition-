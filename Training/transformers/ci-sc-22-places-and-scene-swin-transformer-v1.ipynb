{
 "cells": [
  {
   "cell_type": "markdown",
   "id": "75701d46",
   "metadata": {
    "papermill": {
     "duration": 0.023046,
     "end_time": "2021-12-27T11:10:26.984357",
     "exception": false,
     "start_time": "2021-12-27T11:10:26.961311",
     "status": "completed"
    },
    "tags": []
   },
   "source": [
    "# **Import Modules**"
   ]
  },
  {
   "cell_type": "code",
   "execution_count": 1,
   "id": "70d15750",
   "metadata": {
    "execution": {
     "iopub.execute_input": "2021-12-27T11:10:27.114407Z",
     "iopub.status.busy": "2021-12-27T11:10:27.113632Z",
     "iopub.status.idle": "2021-12-27T11:10:27.116628Z",
     "shell.execute_reply": "2021-12-27T11:10:27.117115Z",
     "shell.execute_reply.started": "2021-12-27T11:08:53.833766Z"
    },
    "papermill": {
     "duration": 0.109951,
     "end_time": "2021-12-27T11:10:27.117368",
     "exception": false,
     "start_time": "2021-12-27T11:10:27.007417",
     "status": "completed"
    },
    "tags": []
   },
   "outputs": [],
   "source": [
    "import sys\n",
    "\n",
    "import os\n",
    "\n",
    "import random as pyrand\n",
    "\n",
    "os.environ['TF_CPP_MIN_LOG_LEVEL'] = '3'\n",
    "\n",
    "sys.path.insert(0, '../input/deeplearning-utils')\n",
    "sys.path.insert(0, '../input/swintransformertf')"
   ]
  },
  {
   "cell_type": "code",
   "execution_count": 2,
   "id": "ab34c399",
   "metadata": {
    "execution": {
     "iopub.execute_input": "2021-12-27T11:10:27.165835Z",
     "iopub.status.busy": "2021-12-27T11:10:27.165228Z",
     "iopub.status.idle": "2021-12-27T11:10:32.656251Z",
     "shell.execute_reply": "2021-12-27T11:10:32.655739Z",
     "shell.execute_reply.started": "2021-12-27T11:08:54.050216Z"
    },
    "papermill": {
     "duration": 5.517291,
     "end_time": "2021-12-27T11:10:32.656376",
     "exception": false,
     "start_time": "2021-12-27T11:10:27.139085",
     "status": "completed"
    },
    "tags": []
   },
   "outputs": [],
   "source": [
    "from utils.ops import plot\n",
    "\n",
    "from utils.tf.ops import io, eval as tf_eval"
   ]
  },
  {
   "cell_type": "code",
   "execution_count": 3,
   "id": "e2454708",
   "metadata": {
    "execution": {
     "iopub.execute_input": "2021-12-27T11:10:32.704623Z",
     "iopub.status.busy": "2021-12-27T11:10:32.703964Z",
     "iopub.status.idle": "2021-12-27T11:10:32.724541Z",
     "shell.execute_reply": "2021-12-27T11:10:32.724073Z",
     "shell.execute_reply.started": "2021-12-27T11:08:59.517736Z"
    },
    "papermill": {
     "duration": 0.046095,
     "end_time": "2021-12-27T11:10:32.724660",
     "exception": false,
     "start_time": "2021-12-27T11:10:32.678565",
     "status": "completed"
    },
    "tags": []
   },
   "outputs": [],
   "source": [
    "from swintransformer import SwinTransformer\n",
    "from swintransformer.model import Mlp"
   ]
  },
  {
   "cell_type": "code",
   "execution_count": 4,
   "id": "d49d4c63",
   "metadata": {
    "execution": {
     "iopub.execute_input": "2021-12-27T11:10:32.772917Z",
     "iopub.status.busy": "2021-12-27T11:10:32.772254Z",
     "iopub.status.idle": "2021-12-27T11:10:32.904486Z",
     "shell.execute_reply": "2021-12-27T11:10:32.904998Z",
     "shell.execute_reply.started": "2021-12-27T11:08:59.555838Z"
    },
    "papermill": {
     "duration": 0.158684,
     "end_time": "2021-12-27T11:10:32.905169",
     "exception": false,
     "start_time": "2021-12-27T11:10:32.746485",
     "status": "completed"
    },
    "tags": []
   },
   "outputs": [],
   "source": [
    "# This Python 3 environment comes with many helpful analytics libraries installed\n",
    "# It is defined by the kaggle/python Docker image: https://github.com/kaggle/docker-python\n",
    "# For example, here's several helpful packages to load\n",
    "\n",
    "import numpy as np # linear algebra\n",
    "import pandas as pd # data processing, CSV file I/O (e.g. pd.read_csv)\n",
    "\n",
    "# Input data files are available in the read-only \"../input/\" directory\n",
    "# For example, running this (by clicking run or pressing Shift+Enter) will list all files under the input directory\n",
    "\n",
    "import os\n",
    "\n",
    "import matplotlib.pyplot as plt\n",
    "import seaborn as sns\n",
    "\n",
    "from sklearn.model_selection import KFold\n",
    "\n",
    "from tqdm import tqdm"
   ]
  },
  {
   "cell_type": "code",
   "execution_count": 5,
   "id": "ab58e3bd",
   "metadata": {
    "execution": {
     "iopub.execute_input": "2021-12-27T11:10:32.952759Z",
     "iopub.status.busy": "2021-12-27T11:10:32.952019Z",
     "iopub.status.idle": "2021-12-27T11:10:32.956285Z",
     "shell.execute_reply": "2021-12-27T11:10:32.955867Z",
     "shell.execute_reply.started": "2021-12-27T11:08:59.714588Z"
    },
    "papermill": {
     "duration": 0.029838,
     "end_time": "2021-12-27T11:10:32.956389",
     "exception": false,
     "start_time": "2021-12-27T11:10:32.926551",
     "status": "completed"
    },
    "tags": []
   },
   "outputs": [],
   "source": [
    "from kaggle_secrets import UserSecretsClient\n",
    "from kaggle_datasets import KaggleDatasets"
   ]
  },
  {
   "cell_type": "code",
   "execution_count": 6,
   "id": "48c478d0",
   "metadata": {
    "execution": {
     "iopub.execute_input": "2021-12-27T11:10:33.005157Z",
     "iopub.status.busy": "2021-12-27T11:10:33.004636Z",
     "iopub.status.idle": "2021-12-27T11:10:33.108396Z",
     "shell.execute_reply": "2021-12-27T11:10:33.107543Z",
     "shell.execute_reply.started": "2021-12-27T11:08:59.728148Z"
    },
    "papermill": {
     "duration": 0.130383,
     "end_time": "2021-12-27T11:10:33.108567",
     "exception": false,
     "start_time": "2021-12-27T11:10:32.978184",
     "status": "completed"
    },
    "tags": []
   },
   "outputs": [],
   "source": [
    "import tensorflow as tf\n",
    "\n",
    "from tensorflow.keras import backend, optimizers, regularizers\n",
    "\n",
    "from tensorflow.keras.layers import *\n",
    "\n",
    "from tensorflow.keras.models import Sequential, Model\n",
    "\n",
    "from tensorflow.keras.callbacks import LearningRateScheduler\n",
    "\n",
    "from tensorflow.keras.layers.experimental import preprocessing\n",
    "\n",
    "import tensorflow_addons as tfa"
   ]
  },
  {
   "cell_type": "markdown",
   "id": "528ab4d6",
   "metadata": {
    "papermill": {
     "duration": 0.022867,
     "end_time": "2021-12-27T11:10:33.155598",
     "exception": false,
     "start_time": "2021-12-27T11:10:33.132731",
     "status": "completed"
    },
    "tags": []
   },
   "source": [
    "# **Config**"
   ]
  },
  {
   "cell_type": "code",
   "execution_count": 7,
   "id": "d4b75765",
   "metadata": {
    "execution": {
     "iopub.execute_input": "2021-12-27T11:10:33.204281Z",
     "iopub.status.busy": "2021-12-27T11:10:33.203512Z",
     "iopub.status.idle": "2021-12-27T11:10:33.208802Z",
     "shell.execute_reply": "2021-12-27T11:10:33.208321Z",
     "shell.execute_reply.started": "2021-12-27T11:08:59.861064Z"
    },
    "papermill": {
     "duration": 0.030493,
     "end_time": "2021-12-27T11:10:33.208926",
     "exception": false,
     "start_time": "2021-12-27T11:10:33.178433",
     "status": "completed"
    },
    "tags": []
   },
   "outputs": [],
   "source": [
    "def set_seed(tf_seed=0, np_seed=0, py_rand=0, py_hash=0):\n",
    "\n",
    "    os.environ['PYTHONHASHSEED'] = str(py_hash)\n",
    "    pyrand.seed(py_rand)\n",
    "\n",
    "    tf.random.set_seed(tf_seed)\n",
    "    np.random.seed(np_seed)"
   ]
  },
  {
   "cell_type": "code",
   "execution_count": 8,
   "id": "2d76f816",
   "metadata": {
    "execution": {
     "iopub.execute_input": "2021-12-27T11:10:33.257508Z",
     "iopub.status.busy": "2021-12-27T11:10:33.256715Z",
     "iopub.status.idle": "2021-12-27T11:10:33.259104Z",
     "shell.execute_reply": "2021-12-27T11:10:33.258684Z",
     "shell.execute_reply.started": "2021-12-27T11:08:59.870503Z"
    },
    "papermill": {
     "duration": 0.028601,
     "end_time": "2021-12-27T11:10:33.259208",
     "exception": false,
     "start_time": "2021-12-27T11:10:33.230607",
     "status": "completed"
    },
    "tags": []
   },
   "outputs": [],
   "source": [
    "PATH = {'224': 'cisc22placesandscene224x224'}"
   ]
  },
  {
   "cell_type": "code",
   "execution_count": 9,
   "id": "efa5a366",
   "metadata": {
    "execution": {
     "iopub.execute_input": "2021-12-27T11:10:33.307860Z",
     "iopub.status.busy": "2021-12-27T11:10:33.306923Z",
     "iopub.status.idle": "2021-12-27T11:10:33.308840Z",
     "shell.execute_reply": "2021-12-27T11:10:33.309308Z",
     "shell.execute_reply.started": "2021-12-27T11:08:59.880897Z"
    },
    "papermill": {
     "duration": 0.028332,
     "end_time": "2021-12-27T11:10:33.309436",
     "exception": false,
     "start_time": "2021-12-27T11:10:33.281104",
     "status": "completed"
    },
    "tags": []
   },
   "outputs": [],
   "source": [
    "class Config:\n",
    "    \n",
    "    SEED = 2053\n",
    "    \n",
    "    IMAGE_SIZE = (224, 224)\n",
    "\n",
    "    TRAIN_BATCH_SIZE = 32\n",
    "    VAL_BATCH_SIZE = 32\n",
    "        \n",
    "    SPLIT =10\n",
    "        \n",
    "    EPOCHS = 15\n",
    "    \n",
    "    TRAINING = True"
   ]
  },
  {
   "cell_type": "code",
   "execution_count": 10,
   "id": "b3396990",
   "metadata": {
    "execution": {
     "iopub.execute_input": "2021-12-27T11:10:33.356308Z",
     "iopub.status.busy": "2021-12-27T11:10:33.355540Z",
     "iopub.status.idle": "2021-12-27T11:10:33.359800Z",
     "shell.execute_reply": "2021-12-27T11:10:33.359359Z",
     "shell.execute_reply.started": "2021-12-27T11:08:59.889158Z"
    },
    "papermill": {
     "duration": 0.028403,
     "end_time": "2021-12-27T11:10:33.359914",
     "exception": false,
     "start_time": "2021-12-27T11:10:33.331511",
     "status": "completed"
    },
    "tags": []
   },
   "outputs": [],
   "source": [
    "set_seed(Config.SEED)"
   ]
  },
  {
   "cell_type": "code",
   "execution_count": 11,
   "id": "05c50232",
   "metadata": {
    "execution": {
     "iopub.execute_input": "2021-12-27T11:10:33.410240Z",
     "iopub.status.busy": "2021-12-27T11:10:33.408320Z",
     "iopub.status.idle": "2021-12-27T11:10:33.418252Z",
     "shell.execute_reply": "2021-12-27T11:10:33.418696Z",
     "shell.execute_reply.started": "2021-12-27T11:08:59.901057Z"
    },
    "papermill": {
     "duration": 0.037041,
     "end_time": "2021-12-27T11:10:33.418833",
     "exception": false,
     "start_time": "2021-12-27T11:10:33.381792",
     "status": "completed"
    },
    "tags": []
   },
   "outputs": [
    {
     "name": "stdout",
     "output_type": "stream",
     "text": [
      "REPLICAS:  1\n"
     ]
    }
   ],
   "source": [
    "try:\n",
    "    \n",
    "    tpu = tf.distribute.cluster_resolver.TPUClusterResolver()\n",
    "    \n",
    "    print('Running on TPU ', tpu.master())\n",
    "    \n",
    "except ValueError:\n",
    "  \n",
    "    tpu = None\n",
    "\n",
    "if tpu is not None:\n",
    "    \n",
    "    tf.config.experimental_connect_to_cluster(tpu)\n",
    "    tf.tpu.experimental.initialize_tpu_system(tpu)\n",
    "\n",
    "    strategy = tf.distribute.experimental.TPUStrategy(tpu)\n",
    "\n",
    "else:\n",
    "    \n",
    "    strategy = tf.distribute.get_strategy()\n",
    "\n",
    "\n",
    "print(\"REPLICAS: \", strategy.num_replicas_in_sync)"
   ]
  },
  {
   "cell_type": "code",
   "execution_count": 12,
   "id": "f0700110",
   "metadata": {
    "execution": {
     "iopub.execute_input": "2021-12-27T11:10:33.473963Z",
     "iopub.status.busy": "2021-12-27T11:10:33.473283Z",
     "iopub.status.idle": "2021-12-27T11:10:37.170188Z",
     "shell.execute_reply": "2021-12-27T11:10:37.169722Z",
     "shell.execute_reply.started": "2021-12-27T11:08:59.917930Z"
    },
    "papermill": {
     "duration": 3.729673,
     "end_time": "2021-12-27T11:10:37.170318",
     "exception": false,
     "start_time": "2021-12-27T11:10:33.440645",
     "status": "completed"
    },
    "tags": []
   },
   "outputs": [],
   "source": [
    "user_secrets = UserSecretsClient()\n",
    "user_credential = user_secrets.get_gcloud_credential()\n",
    "\n",
    "user_secrets.set_tensorflow_credential(user_credential)\n",
    "\n",
    "GCS_DS_PATH = KaggleDatasets().get_gcs_path(PATH['224'])"
   ]
  },
  {
   "cell_type": "code",
   "execution_count": 13,
   "id": "d20c9ffa",
   "metadata": {
    "execution": {
     "iopub.execute_input": "2021-12-27T11:10:37.219525Z",
     "iopub.status.busy": "2021-12-27T11:10:37.218930Z",
     "iopub.status.idle": "2021-12-27T11:10:37.520062Z",
     "shell.execute_reply": "2021-12-27T11:10:37.519432Z",
     "shell.execute_reply.started": "2021-12-27T11:09:03.454638Z"
    },
    "papermill": {
     "duration": 0.327813,
     "end_time": "2021-12-27T11:10:37.520207",
     "exception": false,
     "start_time": "2021-12-27T11:10:37.192394",
     "status": "completed"
    },
    "tags": []
   },
   "outputs": [],
   "source": [
    "augmentations = []\n",
    "\n",
    "augmentations.append(preprocessing.RandomFlip(mode='horizontal'))\n",
    "augmentations.append(preprocessing.RandomContrast(factor=0.8))\n",
    "augmentations.append(preprocessing.RandomRotation(factor=0.1, dtype=tf.float32))\n",
    "\n",
    "augmentations = Sequential(augmentations)"
   ]
  },
  {
   "cell_type": "markdown",
   "id": "753ea31e",
   "metadata": {
    "papermill": {
     "duration": 0.02289,
     "end_time": "2021-12-27T11:10:37.565074",
     "exception": false,
     "start_time": "2021-12-27T11:10:37.542184",
     "status": "completed"
    },
    "tags": []
   },
   "source": [
    "# **Load Data**"
   ]
  },
  {
   "cell_type": "code",
   "execution_count": 14,
   "id": "4fbe8017",
   "metadata": {
    "execution": {
     "iopub.execute_input": "2021-12-27T11:10:37.616477Z",
     "iopub.status.busy": "2021-12-27T11:10:37.615570Z",
     "iopub.status.idle": "2021-12-27T11:10:37.617256Z",
     "shell.execute_reply": "2021-12-27T11:10:37.617806Z",
     "shell.execute_reply.started": "2021-12-27T11:09:03.758346Z"
    },
    "papermill": {
     "duration": 0.029447,
     "end_time": "2021-12-27T11:10:37.617951",
     "exception": false,
     "start_time": "2021-12-27T11:10:37.588504",
     "status": "completed"
    },
    "tags": []
   },
   "outputs": [],
   "source": [
    "AUTOTUNE = tf.data.experimental.AUTOTUNE\n",
    "\n",
    "ignore_order = tf.data.Options()\n",
    "ignore_order.experimental_deterministic = False"
   ]
  },
  {
   "cell_type": "code",
   "execution_count": 15,
   "id": "d62dc76e",
   "metadata": {
    "execution": {
     "iopub.execute_input": "2021-12-27T11:10:37.667312Z",
     "iopub.status.busy": "2021-12-27T11:10:37.666418Z",
     "iopub.status.idle": "2021-12-27T11:10:37.811281Z",
     "shell.execute_reply": "2021-12-27T11:10:37.811873Z",
     "shell.execute_reply.started": "2021-12-27T11:09:03.767751Z"
    },
    "papermill": {
     "duration": 0.170927,
     "end_time": "2021-12-27T11:10:37.812091",
     "exception": false,
     "start_time": "2021-12-27T11:10:37.641164",
     "status": "completed"
    },
    "tags": []
   },
   "outputs": [
    {
     "name": "stdout",
     "output_type": "stream",
     "text": [
      "50\n"
     ]
    }
   ],
   "source": [
    "train_rec = tf.io.gfile.glob(GCS_DS_PATH + '/train/train/*')\n",
    "\n",
    "train_rec = np.array(train_rec)\n",
    "\n",
    "print(len(train_rec))"
   ]
  },
  {
   "cell_type": "code",
   "execution_count": 16,
   "id": "305d1262",
   "metadata": {
    "execution": {
     "iopub.execute_input": "2021-12-27T11:10:37.866875Z",
     "iopub.status.busy": "2021-12-27T11:10:37.865970Z",
     "iopub.status.idle": "2021-12-27T11:10:37.868128Z",
     "shell.execute_reply": "2021-12-27T11:10:37.868528Z",
     "shell.execute_reply.started": "2021-12-27T11:09:03.842084Z"
    },
    "papermill": {
     "duration": 0.032182,
     "end_time": "2021-12-27T11:10:37.868680",
     "exception": false,
     "start_time": "2021-12-27T11:10:37.836498",
     "status": "completed"
    },
    "tags": []
   },
   "outputs": [],
   "source": [
    "def train_processing(x, y):\n",
    "        \n",
    "    x = tf.cast(x, dtype=tf.float32)\n",
    "    x /= 255.0\n",
    "        \n",
    "    y = tf.one_hot(y, depth=6)\n",
    "    \n",
    "    return augmentations(x, training=Config.TRAINING), y"
   ]
  },
  {
   "cell_type": "code",
   "execution_count": 17,
   "id": "a50299fa",
   "metadata": {
    "execution": {
     "iopub.execute_input": "2021-12-27T11:10:37.925584Z",
     "iopub.status.busy": "2021-12-27T11:10:37.923846Z",
     "iopub.status.idle": "2021-12-27T11:10:37.926177Z",
     "shell.execute_reply": "2021-12-27T11:10:37.926627Z",
     "shell.execute_reply.started": "2021-12-27T11:09:03.848800Z"
    },
    "papermill": {
     "duration": 0.03494,
     "end_time": "2021-12-27T11:10:37.926771",
     "exception": false,
     "start_time": "2021-12-27T11:10:37.891831",
     "status": "completed"
    },
    "tags": []
   },
   "outputs": [],
   "source": [
    "def split_generator(train_idx, val_idx):\n",
    "    \n",
    "    dtype = {'image': 'bytes', 'label': 'int64'}\n",
    "    \n",
    "    reader = io.TfRecordReader(features_dtype=dtype,  image_key='image', \n",
    "                               tfrecord_shape=[*Config.IMAGE_SIZE, 3],  \n",
    "                               shape=None, channels=3,  func=None)\n",
    "    \n",
    "    train_data = tf.data.TFRecordDataset(train_rec[train_idx], num_parallel_reads=AUTOTUNE)\n",
    "    train_data = train_data.with_options(ignore_order)\n",
    "\n",
    "    train_data = train_data.map(reader.read_tfrecord, num_parallel_calls=AUTOTUNE)\n",
    "    train_data = train_data.shuffle(512, reshuffle_each_iteration=True)\n",
    "    train_data = train_data.batch(Config.TRAIN_BATCH_SIZE)\n",
    "    train_data = train_data.prefetch(AUTOTUNE)\n",
    "    train_data = train_data.map(train_processing)\n",
    "    \n",
    "    val_data = tf.data.TFRecordDataset(train_rec[val_idx], num_parallel_reads=AUTOTUNE)\n",
    "    val_data = val_data.with_options(ignore_order)\n",
    "\n",
    "    val_data = val_data.map(reader.read_tfrecord, num_parallel_calls=AUTOTUNE)\n",
    "    val_data = val_data.batch(Config.VAL_BATCH_SIZE)\n",
    "    val_data = val_data.prefetch(AUTOTUNE)\n",
    "    val_data = val_data.map(train_processing)\n",
    "    \n",
    "    return train_data, val_data"
   ]
  },
  {
   "cell_type": "code",
   "execution_count": 18,
   "id": "af3a191c",
   "metadata": {
    "execution": {
     "iopub.execute_input": "2021-12-27T11:10:37.978896Z",
     "iopub.status.busy": "2021-12-27T11:10:37.978289Z",
     "iopub.status.idle": "2021-12-27T11:10:40.155318Z",
     "shell.execute_reply": "2021-12-27T11:10:40.155787Z",
     "shell.execute_reply.started": "2021-12-27T11:09:03.861414Z"
    },
    "papermill": {
     "duration": 2.205829,
     "end_time": "2021-12-27T11:10:40.155955",
     "exception": false,
     "start_time": "2021-12-27T11:10:37.950126",
     "status": "completed"
    },
    "tags": []
   },
   "outputs": [
    {
     "data": {
      "image/png": "[encoded data removed]",
      "text/plain": [
       "<Figure size 432x288 with 1 Axes>"
      ]
     },
     "metadata": {
      "needs_background": "light"
     },
     "output_type": "display_data"
    }
   ],
   "source": [
    "sample_x, sample_y = split_generator(0, 1)[0].unbatch().as_numpy_iterator().next()\n",
    "\n",
    "plt.imshow(sample_x)\n",
    "plt.title(f'label = {int(sample_y.argmax())}')\n",
    "plt.axis('off')\n",
    "plt.show()"
   ]
  },
  {
   "cell_type": "markdown",
   "id": "96cbfd5b",
   "metadata": {
    "papermill": {
     "duration": 0.026632,
     "end_time": "2021-12-27T11:10:40.210371",
     "exception": false,
     "start_time": "2021-12-27T11:10:40.183739",
     "status": "completed"
    },
    "tags": []
   },
   "source": [
    "# **Build Model**"
   ]
  },
  {
   "cell_type": "code",
   "execution_count": 19,
   "id": "982be573",
   "metadata": {
    "execution": {
     "iopub.execute_input": "2021-12-27T11:10:40.268292Z",
     "iopub.status.busy": "2021-12-27T11:10:40.267390Z",
     "iopub.status.idle": "2021-12-27T11:10:40.269184Z",
     "shell.execute_reply": "2021-12-27T11:10:40.269765Z",
     "shell.execute_reply.started": "2021-12-27T11:09:06.212272Z"
    },
    "papermill": {
     "duration": 0.032944,
     "end_time": "2021-12-27T11:10:40.269913",
     "exception": false,
     "start_time": "2021-12-27T11:10:40.236969",
     "status": "completed"
    },
    "tags": []
   },
   "outputs": [],
   "source": [
    "input_shape = (*Config.IMAGE_SIZE, 3)"
   ]
  },
  {
   "cell_type": "code",
   "execution_count": 20,
   "id": "bc9e20c0",
   "metadata": {
    "execution": {
     "iopub.execute_input": "2021-12-27T11:10:40.326891Z",
     "iopub.status.busy": "2021-12-27T11:10:40.326060Z",
     "iopub.status.idle": "2021-12-27T11:10:50.575869Z",
     "shell.execute_reply": "2021-12-27T11:10:50.575216Z",
     "shell.execute_reply.started": "2021-12-27T11:09:06.801057Z"
    },
    "papermill": {
     "duration": 10.280428,
     "end_time": "2021-12-27T11:10:50.576001",
     "exception": false,
     "start_time": "2021-12-27T11:10:40.295573",
     "status": "completed"
    },
    "tags": []
   },
   "outputs": [
    {
     "name": "stdout",
     "output_type": "stream",
     "text": [
      "Downloading data from https://github.com/rishigami/Swin-Transformer-TF/releases/download/v0.1-tf-swin-weights/swin_tiny_224.tgz\n",
      "102039552/102036641 [==============================] - 3s 0us/step\n"
     ]
    }
   ],
   "source": [
    "with strategy.scope():\n",
    "    \n",
    "    backbone = SwinTransformer('swin_tiny_224', include_top=False, pretrained=True, use_tpu=True)"
   ]
  },
  {
   "cell_type": "code",
   "execution_count": 21,
   "id": "507454f3",
   "metadata": {
    "execution": {
     "iopub.execute_input": "2021-12-27T11:10:50.663835Z",
     "iopub.status.busy": "2021-12-27T11:10:50.663185Z",
     "iopub.status.idle": "2021-12-27T11:10:50.665959Z",
     "shell.execute_reply": "2021-12-27T11:10:50.664320Z",
     "shell.execute_reply.started": "2021-12-27T11:09:15.041837Z"
    },
    "papermill": {
     "duration": 0.054936,
     "end_time": "2021-12-27T11:10:50.666090",
     "exception": false,
     "start_time": "2021-12-27T11:10:50.611154",
     "status": "completed"
    },
    "tags": []
   },
   "outputs": [
    {
     "name": "stdout",
     "output_type": "stream",
     "text": [
      "Model: \"swin_tiny_224\"\n",
      "_________________________________________________________________\n",
      "Layer (type)                 Output Shape              Param #   \n",
      "=================================================================\n",
      "patch_embed (PatchEmbed)     multiple                  4896      \n",
      "_________________________________________________________________\n",
      "dropout (Dropout)            multiple                  0         \n",
      "_________________________________________________________________\n",
      "sequential_5 (Sequential)    (None, 49, 768)           27762626  \n",
      "_________________________________________________________________\n",
      "norm (LayerNormalization)    multiple                  1536      \n",
      "_________________________________________________________________\n",
      "global_average_pooling1d (Gl multiple                  0         \n",
      "=================================================================\n",
      "Total params: 27,769,058\n",
      "Trainable params: 27,519,354\n",
      "Non-trainable params: 249,704\n",
      "_________________________________________________________________\n"
     ]
    }
   ],
   "source": [
    "backbone.summary()"
   ]
  },
  {
   "cell_type": "code",
   "execution_count": 22,
   "id": "659f5a3a",
   "metadata": {
    "execution": {
     "iopub.execute_input": "2021-12-27T11:10:50.753219Z",
     "iopub.status.busy": "2021-12-27T11:10:50.751799Z",
     "iopub.status.idle": "2021-12-27T11:10:50.757849Z",
     "shell.execute_reply": "2021-12-27T11:10:50.757358Z",
     "shell.execute_reply.started": "2021-12-27T11:09:27.373424Z"
    },
    "papermill": {
     "duration": 0.054768,
     "end_time": "2021-12-27T11:10:50.757968",
     "exception": false,
     "start_time": "2021-12-27T11:10:50.703200",
     "status": "completed"
    },
    "tags": []
   },
   "outputs": [],
   "source": [
    "def build_model():\n",
    "    \n",
    "    backbone.trainable = False\n",
    "    \n",
    "    # ===================================================================================\n",
    "    \n",
    "    inputs =  Input(shape=input_shape)\n",
    "\n",
    "    features = backbone(inputs)\n",
    "    \n",
    "    features = Mlp(in_features=768, hidden_features=2048, out_features=1024, drop=0.5, prefix='features_0')(features)\n",
    "    features = Mlp(in_features=1024, hidden_features=512, out_features=256, drop=0.0125, prefix='features_1')(features)\n",
    "\n",
    "    # ===================================================================================\n",
    "\n",
    "    y_logits = Dense(6, name='y_logits')(features)\n",
    "    y_proba = Activation('softmax', name='y_proba')(y_logits)\n",
    "    \n",
    "    # ===================================================================================\n",
    "\n",
    "    model = Model(inputs, y_proba)\n",
    "    \n",
    "    # ===================================================================================\n",
    "    \n",
    "    optimizer = optimizers.Adam(learning_rate=1e-3, beta_1=0.9, beta_2=0.999)\n",
    "    \n",
    "    loss = tf.losses.CategoricalCrossentropy(label_smoothing=0.25, name='categorical_crossentropy')\n",
    "    metrics = tf.metrics.CategoricalAccuracy(name='accuracy_score')\n",
    "    \n",
    "    model.compile(optimizer=optimizer, loss=loss, metrics=metrics)\n",
    "    \n",
    "    # ===================================================================================\n",
    "\n",
    "    return model"
   ]
  },
  {
   "cell_type": "code",
   "execution_count": 23,
   "id": "eb946474",
   "metadata": {
    "execution": {
     "iopub.execute_input": "2021-12-27T11:10:50.846259Z",
     "iopub.status.busy": "2021-12-27T11:10:50.845416Z",
     "iopub.status.idle": "2021-12-27T11:10:52.676839Z",
     "shell.execute_reply": "2021-12-27T11:10:52.676329Z",
     "shell.execute_reply.started": "2021-12-27T11:09:27.648695Z"
    },
    "papermill": {
     "duration": 1.880777,
     "end_time": "2021-12-27T11:10:52.676994",
     "exception": false,
     "start_time": "2021-12-27T11:10:50.796217",
     "status": "completed"
    },
    "tags": []
   },
   "outputs": [
    {
     "name": "stdout",
     "output_type": "stream",
     "text": [
      "Model: \"model\"\n",
      "_________________________________________________________________\n",
      "Layer (type)                 Output Shape              Param #   \n",
      "=================================================================\n",
      "input_2 (InputLayer)         [(None, 224, 224, 3)]     0         \n",
      "_________________________________________________________________\n",
      "swin_tiny_224 (SwinTransform (None, 768)               27769058  \n",
      "_________________________________________________________________\n",
      "mlp_12 (Mlp)                 (None, 1024)              3673088   \n",
      "_________________________________________________________________\n",
      "mlp_13 (Mlp)                 (None, 256)               656128    \n",
      "_________________________________________________________________\n",
      "y_logits (Dense)             (None, 6)                 1542      \n",
      "_________________________________________________________________\n",
      "y_proba (Activation)         (None, 6)                 0         \n",
      "=================================================================\n",
      "Total params: 32,099,816\n",
      "Trainable params: 4,330,758\n",
      "Non-trainable params: 27,769,058\n",
      "_________________________________________________________________\n"
     ]
    }
   ],
   "source": [
    "build_model().summary()"
   ]
  },
  {
   "cell_type": "markdown",
   "id": "046afe0d",
   "metadata": {
    "papermill": {
     "duration": 0.0437,
     "end_time": "2021-12-27T11:10:52.762815",
     "exception": false,
     "start_time": "2021-12-27T11:10:52.719115",
     "status": "completed"
    },
    "tags": []
   },
   "source": [
    "# **Train Model**"
   ]
  },
  {
   "cell_type": "code",
   "execution_count": 24,
   "id": "b277c9da",
   "metadata": {
    "execution": {
     "iopub.execute_input": "2021-12-27T11:10:52.853037Z",
     "iopub.status.busy": "2021-12-27T11:10:52.852383Z",
     "iopub.status.idle": "2021-12-27T11:10:52.863824Z",
     "shell.execute_reply": "2021-12-27T11:10:52.864878Z",
     "shell.execute_reply.started": "2021-12-27T11:09:29.154103Z"
    },
    "papermill": {
     "duration": 0.059925,
     "end_time": "2021-12-27T11:10:52.865067",
     "exception": false,
     "start_time": "2021-12-27T11:10:52.805142",
     "status": "completed"
    },
    "tags": []
   },
   "outputs": [
    {
     "name": "stdout",
     "output_type": "stream",
     "text": [
      "1\n"
     ]
    }
   ],
   "source": [
    "weights_path = tf.io.gfile.glob('../input/cisc22placesandsceneswintransformerv1w/weights-*.h5')\n",
    "\n",
    "print(len(weights_path))"
   ]
  },
  {
   "cell_type": "code",
   "execution_count": 25,
   "id": "9c4cf1af",
   "metadata": {
    "execution": {
     "iopub.execute_input": "2021-12-27T11:10:52.958303Z",
     "iopub.status.busy": "2021-12-27T11:10:52.956529Z",
     "iopub.status.idle": "2021-12-27T11:10:52.959223Z",
     "shell.execute_reply": "2021-12-27T11:10:52.959831Z",
     "shell.execute_reply.started": "2021-12-27T11:09:29.526313Z"
    },
    "papermill": {
     "duration": 0.051888,
     "end_time": "2021-12-27T11:10:52.959988",
     "exception": false,
     "start_time": "2021-12-27T11:10:52.908100",
     "status": "completed"
    },
    "tags": []
   },
   "outputs": [],
   "source": [
    "def scheduler(step):\n",
    "    \n",
    "    def _scheduler(epoch, lr):\n",
    "        \n",
    "        if epoch > 0 and epoch % step == 0:\n",
    "            \n",
    "            return max(1e-6, lr * tf.math.exp(-0.5))\n",
    "        \n",
    "        else:\n",
    "            \n",
    "            return max(1e-6, lr)\n",
    "    \n",
    "    return _scheduler"
   ]
  },
  {
   "cell_type": "code",
   "execution_count": 26,
   "id": "1aa533dc",
   "metadata": {
    "execution": {
     "iopub.execute_input": "2021-12-27T11:10:53.055347Z",
     "iopub.status.busy": "2021-12-27T11:10:53.054318Z",
     "iopub.status.idle": "2021-12-27T11:52:05.217536Z",
     "shell.execute_reply": "2021-12-27T11:52:05.217035Z",
     "shell.execute_reply.started": "2021-12-27T11:09:30.432131Z"
    },
    "papermill": {
     "duration": 2472.215645,
     "end_time": "2021-12-27T11:52:05.217676",
     "exception": false,
     "start_time": "2021-12-27T11:10:53.002031",
     "status": "completed"
    },
    "tags": []
   },
   "outputs": [
    {
     "name": "stdout",
     "output_type": "stream",
     "text": [
      "fold 0 - ====================================================================================================\n",
      "Epoch 1/15\n",
      "\n",
      "Epoch 00001: LearningRateScheduler reducing learning rate to 0.0010000000474974513.\n",
      "384/384 [==============================] - 185s 431ms/step - loss: 1.0221 - accuracy_score: 0.9079 - val_loss: 1.0122 - val_accuracy_score: 0.8996\n",
      "Epoch 2/15\n",
      "\n",
      "Epoch 00002: LearningRateScheduler reducing learning rate to tf.Tensor(0.0006065307, shape=(), dtype=float32).\n",
      "384/384 [==============================] - 161s 417ms/step - loss: 0.9943 - accuracy_score: 0.9168 - val_loss: 0.9805 - val_accuracy_score: 0.9216\n",
      "Epoch 3/15\n",
      "\n",
      "Epoch 00003: LearningRateScheduler reducing learning rate to tf.Tensor(0.00036787946, shape=(), dtype=float32).\n",
      "384/384 [==============================] - 163s 421ms/step - loss: 0.9810 - accuracy_score: 0.9197 - val_loss: 0.9665 - val_accuracy_score: 0.9136\n",
      "Epoch 4/15\n",
      "\n",
      "Epoch 00004: LearningRateScheduler reducing learning rate to tf.Tensor(0.00022313018, shape=(), dtype=float32).\n",
      "384/384 [==============================] - 162s 420ms/step - loss: 0.9675 - accuracy_score: 0.9275 - val_loss: 0.9620 - val_accuracy_score: 0.9238\n",
      "Epoch 5/15\n",
      "\n",
      "Epoch 00005: LearningRateScheduler reducing learning rate to tf.Tensor(0.0001353353, shape=(), dtype=float32).\n",
      "384/384 [==============================] - 163s 421ms/step - loss: 0.9604 - accuracy_score: 0.9308 - val_loss: 0.9610 - val_accuracy_score: 0.9245\n",
      "Epoch 6/15\n",
      "\n",
      "Epoch 00006: LearningRateScheduler reducing learning rate to tf.Tensor(8.208501e-05, shape=(), dtype=float32).\n",
      "384/384 [==============================] - 163s 421ms/step - loss: 0.9557 - accuracy_score: 0.9381 - val_loss: 0.9513 - val_accuracy_score: 0.9319\n",
      "Epoch 7/15\n",
      "\n",
      "Epoch 00007: LearningRateScheduler reducing learning rate to tf.Tensor(4.9787075e-05, shape=(), dtype=float32).\n",
      "384/384 [==============================] - 163s 422ms/step - loss: 0.9518 - accuracy_score: 0.9384 - val_loss: 0.9527 - val_accuracy_score: 0.9238\n",
      "Epoch 8/15\n",
      "\n",
      "Epoch 00008: LearningRateScheduler reducing learning rate to tf.Tensor(3.0197389e-05, shape=(), dtype=float32).\n",
      "384/384 [==============================] - 162s 418ms/step - loss: 0.9527 - accuracy_score: 0.9335 - val_loss: 0.9549 - val_accuracy_score: 0.9260\n",
      "Epoch 9/15\n",
      "\n",
      "Epoch 00009: LearningRateScheduler reducing learning rate to tf.Tensor(1.8315643e-05, shape=(), dtype=float32).\n",
      "384/384 [==============================] - 164s 423ms/step - loss: 0.9508 - accuracy_score: 0.9351 - val_loss: 0.9570 - val_accuracy_score: 0.9187\n",
      "Epoch 10/15\n",
      "\n",
      "Epoch 00010: LearningRateScheduler reducing learning rate to tf.Tensor(1.11089985e-05, shape=(), dtype=float32).\n",
      "384/384 [==============================] - 163s 422ms/step - loss: 0.9477 - accuracy_score: 0.9394 - val_loss: 0.9553 - val_accuracy_score: 0.9209\n",
      "Epoch 11/15\n",
      "\n",
      "Epoch 00011: LearningRateScheduler reducing learning rate to tf.Tensor(6.7379483e-06, shape=(), dtype=float32).\n",
      "384/384 [==============================] - 163s 422ms/step - loss: 0.9492 - accuracy_score: 0.9379 - val_loss: 0.9561 - val_accuracy_score: 0.9282\n",
      "Epoch 12/15\n",
      "\n",
      "Epoch 00012: LearningRateScheduler reducing learning rate to tf.Tensor(4.086772e-06, shape=(), dtype=float32).\n",
      "384/384 [==============================] - 163s 422ms/step - loss: 0.9472 - accuracy_score: 0.9386 - val_loss: 0.9518 - val_accuracy_score: 0.9275\n",
      "Epoch 13/15\n",
      "\n",
      "Epoch 00013: LearningRateScheduler reducing learning rate to tf.Tensor(2.4787525e-06, shape=(), dtype=float32).\n",
      "384/384 [==============================] - 164s 425ms/step - loss: 0.9492 - accuracy_score: 0.9379 - val_loss: 0.9501 - val_accuracy_score: 0.9297\n",
      "Epoch 14/15\n",
      "\n",
      "Epoch 00014: LearningRateScheduler reducing learning rate to tf.Tensor(1.5034394e-06, shape=(), dtype=float32).\n",
      "384/384 [==============================] - 164s 425ms/step - loss: 0.9506 - accuracy_score: 0.9355 - val_loss: 0.9544 - val_accuracy_score: 0.9231\n",
      "Epoch 15/15\n",
      "\n",
      "Epoch 00015: LearningRateScheduler reducing learning rate to 1e-06.\n",
      "384/384 [==============================] - 164s 423ms/step - loss: 0.9535 - accuracy_score: 0.9367 - val_loss: 0.9537 - val_accuracy_score: 0.9311\n"
     ]
    }
   ],
   "source": [
    "kfold = KFold(n_splits=Config.SPLIT, shuffle=False)\n",
    "\n",
    "for i, (train_idx, val_idx) in enumerate(kfold.split(train_rec)):\n",
    "    \n",
    "    train_data, val_data = split_generator(train_idx, val_idx)\n",
    "    \n",
    "    print(f'fold {i} - {\"=\" * 100}')\n",
    "    \n",
    "    with strategy.scope():\n",
    "        \n",
    "        model = build_model()\n",
    "    \n",
    "    if i < len(weights_path):\n",
    "        \n",
    "        model.load_weights(weights_path[i])\n",
    "        \n",
    "    callbacks = []\n",
    "    \n",
    "    callbacks.append(LearningRateScheduler(schedule=scheduler(step=1), verbose=1))\n",
    "    \n",
    "    model.fit(train_data, epochs=Config.EPOCHS, validation_data=val_data, callbacks=callbacks)\n",
    "    \n",
    "    model.save_weights(f'weights-{i}.h5')\n",
    "    \n",
    "    backend.clear_session()\n",
    "\n",
    "    # stop cv\n",
    "    if i == 0:\n",
    "        \n",
    "        break"
   ]
  },
  {
   "cell_type": "code",
   "execution_count": null,
   "id": "78240cea",
   "metadata": {
    "papermill": {
     "duration": 1.813635,
     "end_time": "2021-12-27T11:52:08.634753",
     "exception": false,
     "start_time": "2021-12-27T11:52:06.821118",
     "status": "completed"
    },
    "tags": []
   },
   "outputs": [],
   "source": []
  },
  {
   "cell_type": "code",
   "execution_count": null,
   "id": "785a6300",
   "metadata": {
    "papermill": {
     "duration": 1.52183,
     "end_time": "2021-12-27T11:52:11.737419",
     "exception": false,
     "start_time": "2021-12-27T11:52:10.215589",
     "status": "completed"
    },
    "tags": []
   },
   "outputs": [],
   "source": []
  },
  {
   "cell_type": "code",
   "execution_count": null,
   "id": "26907423",
   "metadata": {
    "papermill": {
     "duration": 1.528336,
     "end_time": "2021-12-27T11:52:15.266163",
     "exception": false,
     "start_time": "2021-12-27T11:52:13.737827",
     "status": "completed"
    },
    "tags": []
   },
   "outputs": [],
   "source": []
  }
 ],
 "metadata": {
  "kernelspec": {
   "display_name": "Python 3",
   "language": "python",
   "name": "python3"
  },
  "language_info": {
   "codemirror_mode": {
    "name": "ipython",
    "version": 3
   },
   "file_extension": ".py",
   "mimetype": "text/x-python",
   "name": "python",
   "nbconvert_exporter": "python",
   "pygments_lexer": "ipython3",
   "version": "3.7.10"
  },
  "papermill": {
   "default_parameters": {},
   "duration": 2520.174734,
   "end_time": "2021-12-27T11:52:20.469895",
   "environment_variables": {},
   "exception": null,
   "input_path": "__notebook__.ipynb",
   "output_path": "__notebook__.ipynb",
   "parameters": {},
   "start_time": "2021-12-27T11:10:20.295161",
   "version": "2.3.3"
  }
 },
 "nbformat": 4,
 "nbformat_minor": 5
}
