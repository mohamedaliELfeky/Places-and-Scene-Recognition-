{
 "cells": [
  {
   "cell_type": "markdown",
   "id": "2d1c9451",
   "metadata": {
    "papermill": {
     "duration": 0.029072,
     "end_time": "2021-12-27T18:55:55.757495",
     "exception": false,
     "start_time": "2021-12-27T18:55:55.728423",
     "status": "completed"
    },
    "tags": []
   },
   "source": [
    "# **Import Modules**"
   ]
  },
  {
   "cell_type": "code",
   "execution_count": 1,
   "id": "be54721b",
   "metadata": {
    "execution": {
     "iopub.execute_input": "2021-12-27T18:55:55.944074Z",
     "iopub.status.busy": "2021-12-27T18:55:55.941954Z",
     "iopub.status.idle": "2021-12-27T18:55:55.948465Z",
     "shell.execute_reply": "2021-12-27T18:55:55.947735Z",
     "shell.execute_reply.started": "2021-12-27T18:39:32.285720Z"
    },
    "papermill": {
     "duration": 0.15986,
     "end_time": "2021-12-27T18:55:55.948681",
     "exception": false,
     "start_time": "2021-12-27T18:55:55.788821",
     "status": "completed"
    },
    "tags": []
   },
   "outputs": [],
   "source": [
    "import sys\n",
    "\n",
    "import os\n",
    "\n",
    "import random as pyrand\n",
    "\n",
    "os.environ['TF_CPP_MIN_LOG_LEVEL'] = '3'\n",
    "\n",
    "sys.path.insert(0, '../input/deeplearning-utils')\n",
    "sys.path.insert(0, '../input/swintransformertf')"
   ]
  },
  {
   "cell_type": "code",
   "execution_count": 2,
   "id": "e2bb2406",
   "metadata": {
    "execution": {
     "iopub.execute_input": "2021-12-27T18:55:56.012394Z",
     "iopub.status.busy": "2021-12-27T18:55:56.011613Z",
     "iopub.status.idle": "2021-12-27T18:56:02.118413Z",
     "shell.execute_reply": "2021-12-27T18:56:02.117711Z",
     "shell.execute_reply.started": "2021-12-27T18:39:32.658191Z"
    },
    "papermill": {
     "duration": 6.141449,
     "end_time": "2021-12-27T18:56:02.118567",
     "exception": false,
     "start_time": "2021-12-27T18:55:55.977118",
     "status": "completed"
    },
    "tags": []
   },
   "outputs": [],
   "source": [
    "from utils.ops import plot\n",
    "\n",
    "from utils.tf.ops import io, eval as tf_eval"
   ]
  },
  {
   "cell_type": "code",
   "execution_count": 3,
   "id": "8740ba6a",
   "metadata": {
    "execution": {
     "iopub.execute_input": "2021-12-27T18:56:02.177903Z",
     "iopub.status.busy": "2021-12-27T18:56:02.177143Z",
     "iopub.status.idle": "2021-12-27T18:56:02.208436Z",
     "shell.execute_reply": "2021-12-27T18:56:02.207856Z",
     "shell.execute_reply.started": "2021-12-27T18:39:37.755655Z"
    },
    "papermill": {
     "duration": 0.062172,
     "end_time": "2021-12-27T18:56:02.208585",
     "exception": false,
     "start_time": "2021-12-27T18:56:02.146413",
     "status": "completed"
    },
    "tags": []
   },
   "outputs": [],
   "source": [
    "from swintransformer import SwinTransformer\n",
    "from swintransformer.model import Mlp"
   ]
  },
  {
   "cell_type": "code",
   "execution_count": 4,
   "id": "6823c4af",
   "metadata": {
    "execution": {
     "iopub.execute_input": "2021-12-27T18:56:02.268614Z",
     "iopub.status.busy": "2021-12-27T18:56:02.267735Z",
     "iopub.status.idle": "2021-12-27T18:56:02.429698Z",
     "shell.execute_reply": "2021-12-27T18:56:02.428770Z",
     "shell.execute_reply.started": "2021-12-27T18:39:37.787069Z"
    },
    "papermill": {
     "duration": 0.193399,
     "end_time": "2021-12-27T18:56:02.429837",
     "exception": false,
     "start_time": "2021-12-27T18:56:02.236438",
     "status": "completed"
    },
    "tags": []
   },
   "outputs": [],
   "source": [
    "# This Python 3 environment comes with many helpful analytics libraries installed\n",
    "# It is defined by the kaggle/python Docker image: https://github.com/kaggle/docker-python\n",
    "# For example, here's several helpful packages to load\n",
    "\n",
    "import numpy as np # linear algebra\n",
    "import pandas as pd # data processing, CSV file I/O (e.g. pd.read_csv)\n",
    "\n",
    "# Input data files are available in the read-only \"../input/\" directory\n",
    "# For example, running this (by clicking run or pressing Shift+Enter) will list all files under the input directory\n",
    "\n",
    "import os\n",
    "\n",
    "import matplotlib.pyplot as plt\n",
    "import seaborn as sns\n",
    "\n",
    "from sklearn.model_selection import KFold\n",
    "\n",
    "from tqdm import tqdm"
   ]
  },
  {
   "cell_type": "code",
   "execution_count": 5,
   "id": "fdf1d211",
   "metadata": {
    "execution": {
     "iopub.execute_input": "2021-12-27T18:56:02.487655Z",
     "iopub.status.busy": "2021-12-27T18:56:02.486619Z",
     "iopub.status.idle": "2021-12-27T18:56:02.491782Z",
     "shell.execute_reply": "2021-12-27T18:56:02.491212Z",
     "shell.execute_reply.started": "2021-12-27T18:39:37.921836Z"
    },
    "papermill": {
     "duration": 0.034851,
     "end_time": "2021-12-27T18:56:02.491913",
     "exception": false,
     "start_time": "2021-12-27T18:56:02.457062",
     "status": "completed"
    },
    "tags": []
   },
   "outputs": [],
   "source": [
    "from kaggle_secrets import UserSecretsClient\n",
    "from kaggle_datasets import KaggleDatasets"
   ]
  },
  {
   "cell_type": "code",
   "execution_count": 6,
   "id": "a481dcb2",
   "metadata": {
    "execution": {
     "iopub.execute_input": "2021-12-27T18:56:02.547520Z",
     "iopub.status.busy": "2021-12-27T18:56:02.546448Z",
     "iopub.status.idle": "2021-12-27T18:56:02.632994Z",
     "shell.execute_reply": "2021-12-27T18:56:02.632505Z",
     "shell.execute_reply.started": "2021-12-27T18:43:16.810721Z"
    },
    "papermill": {
     "duration": 0.115137,
     "end_time": "2021-12-27T18:56:02.633149",
     "exception": false,
     "start_time": "2021-12-27T18:56:02.518012",
     "status": "completed"
    },
    "tags": []
   },
   "outputs": [],
   "source": [
    "import tensorflow as tf\n",
    "\n",
    "from tensorflow.keras import backend, optimizers, regularizers\n",
    "\n",
    "from tensorflow.keras.layers import *\n",
    "\n",
    "from tensorflow.keras.models import Sequential, Model\n",
    "\n",
    "from tensorflow.keras.callbacks import LearningRateScheduler, ModelCheckpoint\n",
    "\n",
    "from tensorflow.keras.layers.experimental import preprocessing\n",
    "\n",
    "import tensorflow_addons as tfa"
   ]
  },
  {
   "cell_type": "markdown",
   "id": "1e240c40",
   "metadata": {
    "papermill": {
     "duration": 0.026912,
     "end_time": "2021-12-27T18:56:02.687617",
     "exception": false,
     "start_time": "2021-12-27T18:56:02.660705",
     "status": "completed"
    },
    "tags": []
   },
   "source": [
    "# **Config**"
   ]
  },
  {
   "cell_type": "code",
   "execution_count": 7,
   "id": "10d8dcbf",
   "metadata": {
    "execution": {
     "iopub.execute_input": "2021-12-27T18:56:02.746323Z",
     "iopub.status.busy": "2021-12-27T18:56:02.743257Z",
     "iopub.status.idle": "2021-12-27T18:56:02.749142Z",
     "shell.execute_reply": "2021-12-27T18:56:02.748640Z",
     "shell.execute_reply.started": "2021-12-27T18:39:38.031725Z"
    },
    "papermill": {
     "duration": 0.034727,
     "end_time": "2021-12-27T18:56:02.749257",
     "exception": false,
     "start_time": "2021-12-27T18:56:02.714530",
     "status": "completed"
    },
    "tags": []
   },
   "outputs": [],
   "source": [
    "def set_seed(tf_seed=0, np_seed=0, py_rand=0, py_hash=0):\n",
    "\n",
    "    os.environ['PYTHONHASHSEED'] = str(py_hash)\n",
    "    pyrand.seed(py_rand)\n",
    "\n",
    "    tf.random.set_seed(tf_seed)\n",
    "    np.random.seed(np_seed)"
   ]
  },
  {
   "cell_type": "code",
   "execution_count": 8,
   "id": "1bbd1c25",
   "metadata": {
    "execution": {
     "iopub.execute_input": "2021-12-27T18:56:02.808427Z",
     "iopub.status.busy": "2021-12-27T18:56:02.807312Z",
     "iopub.status.idle": "2021-12-27T18:56:02.810714Z",
     "shell.execute_reply": "2021-12-27T18:56:02.810165Z",
     "shell.execute_reply.started": "2021-12-27T18:39:38.038670Z"
    },
    "papermill": {
     "duration": 0.035188,
     "end_time": "2021-12-27T18:56:02.810840",
     "exception": false,
     "start_time": "2021-12-27T18:56:02.775652",
     "status": "completed"
    },
    "tags": []
   },
   "outputs": [],
   "source": [
    "PATH = {'224': 'cisc22placesandscene224x224'}"
   ]
  },
  {
   "cell_type": "code",
   "execution_count": 9,
   "id": "29546c2a",
   "metadata": {
    "execution": {
     "iopub.execute_input": "2021-12-27T18:56:02.868953Z",
     "iopub.status.busy": "2021-12-27T18:56:02.867797Z",
     "iopub.status.idle": "2021-12-27T18:56:02.870110Z",
     "shell.execute_reply": "2021-12-27T18:56:02.870765Z",
     "shell.execute_reply.started": "2021-12-27T18:39:38.049407Z"
    },
    "papermill": {
     "duration": 0.033789,
     "end_time": "2021-12-27T18:56:02.870945",
     "exception": false,
     "start_time": "2021-12-27T18:56:02.837156",
     "status": "completed"
    },
    "tags": []
   },
   "outputs": [],
   "source": [
    "class Config:\n",
    "    \n",
    "    SEED = 2053\n",
    "    \n",
    "    IMAGE_SIZE = (224, 224)\n",
    "\n",
    "    TRAIN_BATCH_SIZE = 32\n",
    "    VAL_BATCH_SIZE = 32\n",
    "        \n",
    "    SPLIT =10\n",
    "        \n",
    "    EPOCHS = 15\n",
    "    \n",
    "    TRAINING = True"
   ]
  },
  {
   "cell_type": "code",
   "execution_count": 10,
   "id": "64de575f",
   "metadata": {
    "execution": {
     "iopub.execute_input": "2021-12-27T18:56:02.929553Z",
     "iopub.status.busy": "2021-12-27T18:56:02.928863Z",
     "iopub.status.idle": "2021-12-27T18:56:02.933824Z",
     "shell.execute_reply": "2021-12-27T18:56:02.933160Z",
     "shell.execute_reply.started": "2021-12-27T18:39:38.059152Z"
    },
    "papermill": {
     "duration": 0.037288,
     "end_time": "2021-12-27T18:56:02.933985",
     "exception": false,
     "start_time": "2021-12-27T18:56:02.896697",
     "status": "completed"
    },
    "tags": []
   },
   "outputs": [],
   "source": [
    "set_seed(Config.SEED)"
   ]
  },
  {
   "cell_type": "code",
   "execution_count": 11,
   "id": "6e631adc",
   "metadata": {
    "execution": {
     "iopub.execute_input": "2021-12-27T18:56:02.993766Z",
     "iopub.status.busy": "2021-12-27T18:56:02.992990Z",
     "iopub.status.idle": "2021-12-27T18:56:03.002723Z",
     "shell.execute_reply": "2021-12-27T18:56:03.003340Z",
     "shell.execute_reply.started": "2021-12-27T18:39:38.067596Z"
    },
    "papermill": {
     "duration": 0.042435,
     "end_time": "2021-12-27T18:56:03.003487",
     "exception": false,
     "start_time": "2021-12-27T18:56:02.961052",
     "status": "completed"
    },
    "tags": []
   },
   "outputs": [
    {
     "name": "stdout",
     "output_type": "stream",
     "text": [
      "REPLICAS:  1\n"
     ]
    }
   ],
   "source": [
    "try:\n",
    "    \n",
    "    tpu = tf.distribute.cluster_resolver.TPUClusterResolver()\n",
    "    \n",
    "    print('Running on TPU ', tpu.master())\n",
    "    \n",
    "except ValueError:\n",
    "  \n",
    "    tpu = None\n",
    "\n",
    "if tpu is not None:\n",
    "    \n",
    "    tf.config.experimental_connect_to_cluster(tpu)\n",
    "    tf.tpu.experimental.initialize_tpu_system(tpu)\n",
    "\n",
    "    strategy = tf.distribute.experimental.TPUStrategy(tpu)\n",
    "\n",
    "else:\n",
    "    \n",
    "    strategy = tf.distribute.get_strategy()\n",
    "\n",
    "\n",
    "print(\"REPLICAS: \", strategy.num_replicas_in_sync)"
   ]
  },
  {
   "cell_type": "code",
   "execution_count": 12,
   "id": "a23d56fe",
   "metadata": {
    "execution": {
     "iopub.execute_input": "2021-12-27T18:56:03.070632Z",
     "iopub.status.busy": "2021-12-27T18:56:03.063045Z",
     "iopub.status.idle": "2021-12-27T18:56:07.482673Z",
     "shell.execute_reply": "2021-12-27T18:56:07.483225Z",
     "shell.execute_reply.started": "2021-12-27T18:39:38.083662Z"
    },
    "papermill": {
     "duration": 4.452302,
     "end_time": "2021-12-27T18:56:07.483424",
     "exception": false,
     "start_time": "2021-12-27T18:56:03.031122",
     "status": "completed"
    },
    "tags": []
   },
   "outputs": [],
   "source": [
    "user_secrets = UserSecretsClient()\n",
    "user_credential = user_secrets.get_gcloud_credential()\n",
    "\n",
    "user_secrets.set_tensorflow_credential(user_credential)\n",
    "\n",
    "GCS_DS_PATH = KaggleDatasets().get_gcs_path(PATH['224'])"
   ]
  },
  {
   "cell_type": "code",
   "execution_count": 13,
   "id": "3e6ef4f3",
   "metadata": {
    "execution": {
     "iopub.execute_input": "2021-12-27T18:56:07.541501Z",
     "iopub.status.busy": "2021-12-27T18:56:07.540812Z",
     "iopub.status.idle": "2021-12-27T18:56:07.880783Z",
     "shell.execute_reply": "2021-12-27T18:56:07.879910Z",
     "shell.execute_reply.started": "2021-12-27T18:39:42.283810Z"
    },
    "papermill": {
     "duration": 0.3715,
     "end_time": "2021-12-27T18:56:07.881132",
     "exception": false,
     "start_time": "2021-12-27T18:56:07.509632",
     "status": "completed"
    },
    "tags": []
   },
   "outputs": [],
   "source": [
    "augmentations = []\n",
    "\n",
    "augmentations.append(preprocessing.RandomFlip(mode='horizontal'))\n",
    "augmentations.append(preprocessing.RandomContrast(factor=0.8))\n",
    "augmentations.append(preprocessing.RandomRotation(factor=0.1, dtype=tf.float32))\n",
    "\n",
    "augmentations = Sequential(augmentations)"
   ]
  },
  {
   "cell_type": "markdown",
   "id": "3cebdfbc",
   "metadata": {
    "papermill": {
     "duration": 0.031281,
     "end_time": "2021-12-27T18:56:07.943229",
     "exception": false,
     "start_time": "2021-12-27T18:56:07.911948",
     "status": "completed"
    },
    "tags": []
   },
   "source": [
    "# **Load Data**"
   ]
  },
  {
   "cell_type": "code",
   "execution_count": 14,
   "id": "04f18af1",
   "metadata": {
    "execution": {
     "iopub.execute_input": "2021-12-27T18:56:08.011171Z",
     "iopub.status.busy": "2021-12-27T18:56:08.010203Z",
     "iopub.status.idle": "2021-12-27T18:56:08.012876Z",
     "shell.execute_reply": "2021-12-27T18:56:08.013424Z",
     "shell.execute_reply.started": "2021-12-27T18:39:42.590575Z"
    },
    "papermill": {
     "duration": 0.038843,
     "end_time": "2021-12-27T18:56:08.013715",
     "exception": false,
     "start_time": "2021-12-27T18:56:07.974872",
     "status": "completed"
    },
    "tags": []
   },
   "outputs": [],
   "source": [
    "AUTOTUNE = tf.data.experimental.AUTOTUNE\n",
    "\n",
    "ignore_order = tf.data.Options()\n",
    "ignore_order.experimental_deterministic = False"
   ]
  },
  {
   "cell_type": "code",
   "execution_count": 15,
   "id": "cd92e64d",
   "metadata": {
    "execution": {
     "iopub.execute_input": "2021-12-27T18:56:08.073981Z",
     "iopub.status.busy": "2021-12-27T18:56:08.073273Z",
     "iopub.status.idle": "2021-12-27T18:56:08.826742Z",
     "shell.execute_reply": "2021-12-27T18:56:08.827865Z",
     "shell.execute_reply.started": "2021-12-27T18:39:42.597115Z"
    },
    "papermill": {
     "duration": 0.785423,
     "end_time": "2021-12-27T18:56:08.828158",
     "exception": false,
     "start_time": "2021-12-27T18:56:08.042735",
     "status": "completed"
    },
    "tags": []
   },
   "outputs": [
    {
     "name": "stdout",
     "output_type": "stream",
     "text": [
      "50\n"
     ]
    }
   ],
   "source": [
    "train_rec = tf.io.gfile.glob(GCS_DS_PATH + '/train/train/*')\n",
    "\n",
    "train_rec = np.array(train_rec)\n",
    "\n",
    "print(len(train_rec))"
   ]
  },
  {
   "cell_type": "code",
   "execution_count": 16,
   "id": "5734e9bc",
   "metadata": {
    "execution": {
     "iopub.execute_input": "2021-12-27T18:56:08.964738Z",
     "iopub.status.busy": "2021-12-27T18:56:08.963790Z",
     "iopub.status.idle": "2021-12-27T18:56:08.968178Z",
     "shell.execute_reply": "2021-12-27T18:56:08.968967Z",
     "shell.execute_reply.started": "2021-12-27T18:39:42.843313Z"
    },
    "papermill": {
     "duration": 0.075576,
     "end_time": "2021-12-27T18:56:08.969228",
     "exception": false,
     "start_time": "2021-12-27T18:56:08.893652",
     "status": "completed"
    },
    "tags": []
   },
   "outputs": [],
   "source": [
    "def train_processing(x, y):\n",
    "        \n",
    "    x = tf.cast(x, dtype=tf.float32)\n",
    "    x /= 255.0\n",
    "        \n",
    "    y = tf.one_hot(y, depth=6)\n",
    "    \n",
    "    return augmentations(x, training=Config.TRAINING), y"
   ]
  },
  {
   "cell_type": "code",
   "execution_count": 17,
   "id": "add8c271",
   "metadata": {
    "execution": {
     "iopub.execute_input": "2021-12-27T18:56:09.072451Z",
     "iopub.status.busy": "2021-12-27T18:56:09.071296Z",
     "iopub.status.idle": "2021-12-27T18:56:09.080287Z",
     "shell.execute_reply": "2021-12-27T18:56:09.082072Z",
     "shell.execute_reply.started": "2021-12-27T18:39:42.851865Z"
    },
    "papermill": {
     "duration": 0.067091,
     "end_time": "2021-12-27T18:56:09.082354",
     "exception": false,
     "start_time": "2021-12-27T18:56:09.015263",
     "status": "completed"
    },
    "tags": []
   },
   "outputs": [],
   "source": [
    "def split_generator(train_idx, val_idx):\n",
    "    \n",
    "    dtype = {'image': 'bytes', 'label': 'int64'}\n",
    "    \n",
    "    reader = io.TfRecordReader(features_dtype=dtype,  image_key='image', \n",
    "                               tfrecord_shape=[*Config.IMAGE_SIZE, 3],  \n",
    "                               shape=None, channels=3,  func=None)\n",
    "    \n",
    "    train_data = tf.data.TFRecordDataset(train_rec[train_idx], num_parallel_reads=AUTOTUNE)\n",
    "    train_data = train_data.with_options(ignore_order)\n",
    "\n",
    "    train_data = train_data.map(reader.read_tfrecord, num_parallel_calls=AUTOTUNE)\n",
    "    train_data = train_data.shuffle(512, reshuffle_each_iteration=True)\n",
    "    train_data = train_data.batch(Config.TRAIN_BATCH_SIZE)\n",
    "    train_data = train_data.prefetch(AUTOTUNE)\n",
    "    train_data = train_data.map(train_processing)\n",
    "    \n",
    "    val_data = tf.data.TFRecordDataset(train_rec[val_idx], num_parallel_reads=AUTOTUNE)\n",
    "    val_data = val_data.with_options(ignore_order)\n",
    "\n",
    "    val_data = val_data.map(reader.read_tfrecord, num_parallel_calls=AUTOTUNE)\n",
    "    val_data = val_data.batch(Config.VAL_BATCH_SIZE)\n",
    "    val_data = val_data.prefetch(AUTOTUNE)\n",
    "    val_data = val_data.map(train_processing)\n",
    "    \n",
    "    return train_data, val_data"
   ]
  },
  {
   "cell_type": "code",
   "execution_count": 18,
   "id": "2d94df8c",
   "metadata": {
    "execution": {
     "iopub.execute_input": "2021-12-27T18:56:09.195395Z",
     "iopub.status.busy": "2021-12-27T18:56:09.193392Z",
     "iopub.status.idle": "2021-12-27T18:56:13.581867Z",
     "shell.execute_reply": "2021-12-27T18:56:13.582379Z",
     "shell.execute_reply.started": "2021-12-27T18:39:42.992242Z"
    },
    "papermill": {
     "duration": 4.441827,
     "end_time": "2021-12-27T18:56:13.582602",
     "exception": false,
     "start_time": "2021-12-27T18:56:09.140775",
     "status": "completed"
    },
    "tags": []
   },
   "outputs": [
    {
     "data": {
      "image/png": "[encoded data removed]",
      "text/plain": [
       "<Figure size 432x288 with 1 Axes>"
      ]
     },
     "metadata": {
      "needs_background": "light"
     },
     "output_type": "display_data"
    }
   ],
   "source": [
    "sample_x, sample_y = split_generator(0, 1)[0].unbatch().as_numpy_iterator().next()\n",
    "\n",
    "plt.imshow(sample_x)\n",
    "plt.title(f'label = {int(sample_y.argmax())}')\n",
    "plt.axis('off')\n",
    "plt.show()"
   ]
  },
  {
   "cell_type": "markdown",
   "id": "ffee81d2",
   "metadata": {
    "papermill": {
     "duration": 0.029943,
     "end_time": "2021-12-27T18:56:13.643834",
     "exception": false,
     "start_time": "2021-12-27T18:56:13.613891",
     "status": "completed"
    },
    "tags": []
   },
   "source": [
    "# **Build Model**"
   ]
  },
  {
   "cell_type": "code",
   "execution_count": 19,
   "id": "3caa7cba",
   "metadata": {
    "execution": {
     "iopub.execute_input": "2021-12-27T18:56:13.710153Z",
     "iopub.status.busy": "2021-12-27T18:56:13.709178Z",
     "iopub.status.idle": "2021-12-27T18:56:13.712733Z",
     "shell.execute_reply": "2021-12-27T18:56:13.712121Z",
     "shell.execute_reply.started": "2021-12-27T18:39:46.179621Z"
    },
    "papermill": {
     "duration": 0.038226,
     "end_time": "2021-12-27T18:56:13.712893",
     "exception": false,
     "start_time": "2021-12-27T18:56:13.674667",
     "status": "completed"
    },
    "tags": []
   },
   "outputs": [],
   "source": [
    "input_shape = (*Config.IMAGE_SIZE, 3)"
   ]
  },
  {
   "cell_type": "code",
   "execution_count": 20,
   "id": "d5904c8d",
   "metadata": {
    "execution": {
     "iopub.execute_input": "2021-12-27T18:56:13.780239Z",
     "iopub.status.busy": "2021-12-27T18:56:13.779090Z",
     "iopub.status.idle": "2021-12-27T18:56:26.434624Z",
     "shell.execute_reply": "2021-12-27T18:56:26.433652Z",
     "shell.execute_reply.started": "2021-12-27T18:39:46.186130Z"
    },
    "papermill": {
     "duration": 12.691923,
     "end_time": "2021-12-27T18:56:26.434766",
     "exception": false,
     "start_time": "2021-12-27T18:56:13.742843",
     "status": "completed"
    },
    "tags": []
   },
   "outputs": [
    {
     "name": "stdout",
     "output_type": "stream",
     "text": [
      "Downloading data from https://github.com/rishigami/Swin-Transformer-TF/releases/download/v0.1-tf-swin-weights/swin_tiny_224.tgz\n",
      "102039552/102036641 [==============================] - 3s 0us/step\n"
     ]
    }
   ],
   "source": [
    "with strategy.scope():\n",
    "    \n",
    "    backbone = SwinTransformer('swin_tiny_224', include_top=False, pretrained=True, use_tpu=True)"
   ]
  },
  {
   "cell_type": "code",
   "execution_count": 21,
   "id": "19c1bed9",
   "metadata": {
    "execution": {
     "iopub.execute_input": "2021-12-27T18:56:26.534061Z",
     "iopub.status.busy": "2021-12-27T18:56:26.532570Z",
     "iopub.status.idle": "2021-12-27T18:56:26.543020Z",
     "shell.execute_reply": "2021-12-27T18:56:26.543685Z",
     "shell.execute_reply.started": "2021-12-27T18:39:57.900254Z"
    },
    "papermill": {
     "duration": 0.068276,
     "end_time": "2021-12-27T18:56:26.543844",
     "exception": false,
     "start_time": "2021-12-27T18:56:26.475568",
     "status": "completed"
    },
    "tags": []
   },
   "outputs": [
    {
     "name": "stdout",
     "output_type": "stream",
     "text": [
      "Model: \"swin_tiny_224\"\n",
      "_________________________________________________________________\n",
      "Layer (type)                 Output Shape              Param #   \n",
      "=================================================================\n",
      "patch_embed (PatchEmbed)     multiple                  4896      \n",
      "_________________________________________________________________\n",
      "dropout (Dropout)            multiple                  0         \n",
      "_________________________________________________________________\n",
      "sequential_5 (Sequential)    (None, 49, 768)           27762626  \n",
      "_________________________________________________________________\n",
      "norm (LayerNormalization)    multiple                  1536      \n",
      "_________________________________________________________________\n",
      "global_average_pooling1d (Gl multiple                  0         \n",
      "=================================================================\n",
      "Total params: 27,769,058\n",
      "Trainable params: 27,519,354\n",
      "Non-trainable params: 249,704\n",
      "_________________________________________________________________\n"
     ]
    }
   ],
   "source": [
    "backbone.summary()"
   ]
  },
  {
   "cell_type": "code",
   "execution_count": 22,
   "id": "fc72e99f",
   "metadata": {
    "execution": {
     "iopub.execute_input": "2021-12-27T18:56:26.636535Z",
     "iopub.status.busy": "2021-12-27T18:56:26.635482Z",
     "iopub.status.idle": "2021-12-27T18:56:26.638882Z",
     "shell.execute_reply": "2021-12-27T18:56:26.638379Z",
     "shell.execute_reply.started": "2021-12-27T18:45:39.334970Z"
    },
    "papermill": {
     "duration": 0.05296,
     "end_time": "2021-12-27T18:56:26.639025",
     "exception": false,
     "start_time": "2021-12-27T18:56:26.586065",
     "status": "completed"
    },
    "tags": []
   },
   "outputs": [],
   "source": [
    "def build_model():\n",
    "    \n",
    "    for i in range(len(backbone.layers)):\n",
    "        \n",
    "        if i == 2:\n",
    "            continue\n",
    "        \n",
    "        backbone.layers[i].trainable = False\n",
    "        \n",
    "    for i in range(len(backbone.layers[2].layers) - 1):\n",
    "        \n",
    "        backbone.layers[2].layers[i].trainable = False\n",
    "    \n",
    "    # ===================================================================================\n",
    "    \n",
    "    inputs =  Input(shape=input_shape)\n",
    "\n",
    "    features = backbone(inputs)\n",
    "    \n",
    "    features = Mlp(in_features=768, hidden_features=2048, out_features=1024, drop=0.6, prefix='features_0')(features)\n",
    "    \n",
    "    # ===================================================================================\n",
    "\n",
    "    y_logits = Dense(6, name='y_logits')(features)\n",
    "    y_proba = Activation('softmax', name='y_proba')(y_logits)\n",
    "    \n",
    "    # ===================================================================================\n",
    "\n",
    "    model = Model(inputs, y_proba)\n",
    "    \n",
    "    # ===================================================================================\n",
    "    \n",
    "    optimizer = optimizers.Adam(learning_rate=1e-7, beta_1=0.9, beta_2=0.999)\n",
    "    \n",
    "    loss = tf.losses.CategoricalCrossentropy(label_smoothing=0.25, name='categorical_crossentropy')\n",
    "    metrics = tf.metrics.CategoricalAccuracy(name='accuracy_score')\n",
    "    \n",
    "    model.compile(optimizer=optimizer, loss=loss, metrics=metrics)\n",
    "    \n",
    "    # ===================================================================================\n",
    "\n",
    "    return model"
   ]
  },
  {
   "cell_type": "code",
   "execution_count": 23,
   "id": "cae14a75",
   "metadata": {
    "execution": {
     "iopub.execute_input": "2021-12-27T18:56:26.734599Z",
     "iopub.status.busy": "2021-12-27T18:56:26.733446Z",
     "iopub.status.idle": "2021-12-27T18:56:28.606056Z",
     "shell.execute_reply": "2021-12-27T18:56:28.606629Z",
     "shell.execute_reply.started": "2021-12-27T18:45:39.755331Z"
    },
    "papermill": {
     "duration": 1.926446,
     "end_time": "2021-12-27T18:56:28.606821",
     "exception": false,
     "start_time": "2021-12-27T18:56:26.680375",
     "status": "completed"
    },
    "tags": []
   },
   "outputs": [
    {
     "name": "stdout",
     "output_type": "stream",
     "text": [
      "Model: \"model\"\n",
      "_________________________________________________________________\n",
      "Layer (type)                 Output Shape              Param #   \n",
      "=================================================================\n",
      "input_2 (InputLayer)         [(None, 224, 224, 3)]     0         \n",
      "_________________________________________________________________\n",
      "swin_tiny_224 (SwinTransform (None, 768)               27769058  \n",
      "_________________________________________________________________\n",
      "mlp_12 (Mlp)                 (None, 1024)              3673088   \n",
      "_________________________________________________________________\n",
      "y_logits (Dense)             (None, 6)                 6150      \n",
      "_________________________________________________________________\n",
      "y_proba (Activation)         (None, 6)                 0         \n",
      "=================================================================\n",
      "Total params: 31,448,296\n",
      "Trainable params: 17,863,094\n",
      "Non-trainable params: 13,585,202\n",
      "_________________________________________________________________\n"
     ]
    }
   ],
   "source": [
    "build_model().summary() "
   ]
  },
  {
   "cell_type": "markdown",
   "id": "cf6444fe",
   "metadata": {
    "papermill": {
     "duration": 0.043043,
     "end_time": "2021-12-27T18:56:28.692425",
     "exception": false,
     "start_time": "2021-12-27T18:56:28.649382",
     "status": "completed"
    },
    "tags": []
   },
   "source": [
    "# **Train Model**"
   ]
  },
  {
   "cell_type": "code",
   "execution_count": 24,
   "id": "7c6bb38d",
   "metadata": {
    "execution": {
     "iopub.execute_input": "2021-12-27T18:56:28.782163Z",
     "iopub.status.busy": "2021-12-27T18:56:28.781509Z",
     "iopub.status.idle": "2021-12-27T18:56:28.793464Z",
     "shell.execute_reply": "2021-12-27T18:56:28.792840Z",
     "shell.execute_reply.started": "2021-12-27T18:45:41.152820Z"
    },
    "papermill": {
     "duration": 0.058248,
     "end_time": "2021-12-27T18:56:28.793603",
     "exception": false,
     "start_time": "2021-12-27T18:56:28.735355",
     "status": "completed"
    },
    "tags": []
   },
   "outputs": [
    {
     "name": "stdout",
     "output_type": "stream",
     "text": [
      "1\n"
     ]
    }
   ],
   "source": [
    "weights_path = tf.io.gfile.glob('../input/cisc22placesandsceneswintransformerv3w/weights-*.h5')\n",
    "\n",
    "print(len(weights_path))"
   ]
  },
  {
   "cell_type": "code",
   "execution_count": 25,
   "id": "f90aad77",
   "metadata": {
    "execution": {
     "iopub.execute_input": "2021-12-27T18:56:28.889150Z",
     "iopub.status.busy": "2021-12-27T18:56:28.888117Z",
     "iopub.status.idle": "2021-12-27T18:56:28.891473Z",
     "shell.execute_reply": "2021-12-27T18:56:28.890916Z",
     "shell.execute_reply.started": "2021-12-27T18:45:41.165561Z"
    },
    "papermill": {
     "duration": 0.053506,
     "end_time": "2021-12-27T18:56:28.891627",
     "exception": false,
     "start_time": "2021-12-27T18:56:28.838121",
     "status": "completed"
    },
    "tags": []
   },
   "outputs": [],
   "source": [
    "def scheduler(step):\n",
    "    \n",
    "    def _scheduler(epoch, lr):\n",
    "        \n",
    "        if epoch > 0 and epoch % step == 0:\n",
    "            \n",
    "            return max(1e-6, lr * tf.math.exp(-0.5))\n",
    "        \n",
    "        else:\n",
    "            \n",
    "            return max(1e-6, lr)\n",
    "    \n",
    "    return _scheduler\n",
    "\n",
    "def checkpoint(path):\n",
    "    \n",
    "    callback = ModelCheckpoint(path, monitor='val_accuracy', verbose=1, save_best_only=True, save_weights_only=True, mode='max', save_freq='epoch')\n",
    "    \n",
    "    return callback"
   ]
  },
  {
   "cell_type": "code",
   "execution_count": 26,
   "id": "7097a2ab",
   "metadata": {
    "execution": {
     "iopub.execute_input": "2021-12-27T18:56:28.985075Z",
     "iopub.status.busy": "2021-12-27T18:56:28.983831Z",
     "iopub.status.idle": "2021-12-27T19:43:00.757726Z",
     "shell.execute_reply": "2021-12-27T19:43:00.758557Z",
     "shell.execute_reply.started": "2021-12-27T18:45:41.617387Z"
    },
    "papermill": {
     "duration": 2791.825041,
     "end_time": "2021-12-27T19:43:00.758780",
     "exception": false,
     "start_time": "2021-12-27T18:56:28.933739",
     "status": "completed"
    },
    "tags": []
   },
   "outputs": [
    {
     "name": "stdout",
     "output_type": "stream",
     "text": [
      "fold 0 - ====================================================================================================\n",
      "Epoch 1/15\n",
      "384/384 [==============================] - 218s 499ms/step - loss: 0.8989 - accuracy_score: 0.9702 - val_loss: 0.9368 - val_accuracy_score: 0.9348\n",
      "Epoch 2/15\n",
      "384/384 [==============================] - 186s 479ms/step - loss: 0.8978 - accuracy_score: 0.9730 - val_loss: 0.9346 - val_accuracy_score: 0.9385\n",
      "Epoch 3/15\n",
      "384/384 [==============================] - 185s 475ms/step - loss: 0.8969 - accuracy_score: 0.9707 - val_loss: 0.9395 - val_accuracy_score: 0.9348\n",
      "Epoch 4/15\n",
      "384/384 [==============================] - 183s 469ms/step - loss: 0.8978 - accuracy_score: 0.9717 - val_loss: 0.9286 - val_accuracy_score: 0.9443\n",
      "Epoch 5/15\n",
      "384/384 [==============================] - 184s 472ms/step - loss: 0.8983 - accuracy_score: 0.9689 - val_loss: 0.9427 - val_accuracy_score: 0.9319\n",
      "Epoch 6/15\n",
      "384/384 [==============================] - 183s 471ms/step - loss: 0.8995 - accuracy_score: 0.9693 - val_loss: 0.9409 - val_accuracy_score: 0.9311\n",
      "Epoch 7/15\n",
      "384/384 [==============================] - 182s 467ms/step - loss: 0.9000 - accuracy_score: 0.9696 - val_loss: 0.9407 - val_accuracy_score: 0.9348\n",
      "Epoch 8/15\n",
      "384/384 [==============================] - 182s 468ms/step - loss: 0.9013 - accuracy_score: 0.9705 - val_loss: 0.9310 - val_accuracy_score: 0.9407\n",
      "Epoch 9/15\n",
      "384/384 [==============================] - 183s 469ms/step - loss: 0.9040 - accuracy_score: 0.9675 - val_loss: 0.9384 - val_accuracy_score: 0.9348\n",
      "Epoch 10/15\n",
      "384/384 [==============================] - 185s 475ms/step - loss: 0.9002 - accuracy_score: 0.9704 - val_loss: 0.9422 - val_accuracy_score: 0.9341\n",
      "Epoch 11/15\n",
      "384/384 [==============================] - 182s 467ms/step - loss: 0.9025 - accuracy_score: 0.9681 - val_loss: 0.9329 - val_accuracy_score: 0.9370\n",
      "Epoch 12/15\n",
      "384/384 [==============================] - 182s 468ms/step - loss: 0.9043 - accuracy_score: 0.9667 - val_loss: 0.9370 - val_accuracy_score: 0.9385\n",
      "Epoch 13/15\n",
      "384/384 [==============================] - 183s 470ms/step - loss: 0.9028 - accuracy_score: 0.9687 - val_loss: 0.9372 - val_accuracy_score: 0.9319\n",
      "Epoch 14/15\n",
      "384/384 [==============================] - 183s 469ms/step - loss: 0.9023 - accuracy_score: 0.9678 - val_loss: 0.9386 - val_accuracy_score: 0.9355\n",
      "Epoch 15/15\n",
      "384/384 [==============================] - 184s 471ms/step - loss: 0.9058 - accuracy_score: 0.9649 - val_loss: 0.9357 - val_accuracy_score: 0.9399\n"
     ]
    }
   ],
   "source": [
    "kfold = KFold(n_splits=Config.SPLIT, shuffle=False)\n",
    "\n",
    "for i, (train_idx, val_idx) in enumerate(kfold.split(train_rec)):\n",
    "    \n",
    "    train_data, val_data = split_generator(train_idx, val_idx)\n",
    "    \n",
    "    print(f'fold {i} - {\"=\" * 100}')\n",
    "    \n",
    "    with strategy.scope():\n",
    "        \n",
    "        model = build_model()\n",
    "    \n",
    "    if i < len(weights_path):\n",
    "        \n",
    "        model.load_weights(weights_path[i])\n",
    "        \n",
    "    callbacks = []\n",
    "    \n",
    "#     callbacks.append(LearningRateScheduler(schedule=scheduler(step=1), verbose=1))\n",
    "    callbacks.append(checkpoint(f'weights-{i}.h5'))\n",
    "    \n",
    "    model.fit(train_data, epochs=Config.EPOCHS, validation_data=val_data, callbacks=callbacks)\n",
    "    \n",
    "    model.save_weights(f'model-{i}.h5')\n",
    "    \n",
    "    backend.clear_session()\n",
    "\n",
    "    # stop cv\n",
    "    if i == 0:\n",
    "        \n",
    "        break"
   ]
  },
  {
   "cell_type": "code",
   "execution_count": null,
   "id": "8772ecb1",
   "metadata": {
    "papermill": {
     "duration": 1.817167,
     "end_time": "2021-12-27T19:43:04.407232",
     "exception": false,
     "start_time": "2021-12-27T19:43:02.590065",
     "status": "completed"
    },
    "tags": []
   },
   "outputs": [],
   "source": []
  },
  {
   "cell_type": "code",
   "execution_count": null,
   "id": "19a1a5ab",
   "metadata": {
    "papermill": {
     "duration": 1.826467,
     "end_time": "2021-12-27T19:43:08.392405",
     "exception": false,
     "start_time": "2021-12-27T19:43:06.565938",
     "status": "completed"
    },
    "tags": []
   },
   "outputs": [],
   "source": []
  },
  {
   "cell_type": "code",
   "execution_count": null,
   "id": "f9298ea3",
   "metadata": {
    "papermill": {
     "duration": 1.835647,
     "end_time": "2021-12-27T19:43:12.099448",
     "exception": false,
     "start_time": "2021-12-27T19:43:10.263801",
     "status": "completed"
    },
    "tags": []
   },
   "outputs": [],
   "source": []
  }
 ],
 "metadata": {
  "kernelspec": {
   "display_name": "Python 3",
   "language": "python",
   "name": "python3"
  },
  "language_info": {
   "codemirror_mode": {
    "name": "ipython",
    "version": 3
   },
   "file_extension": ".py",
   "mimetype": "text/x-python",
   "name": "python",
   "nbconvert_exporter": "python",
   "pygments_lexer": "ipython3",
   "version": "3.7.10"
  },
  "papermill": {
   "default_parameters": {},
   "duration": 2848.76293,
   "end_time": "2021-12-27T19:43:16.783098",
   "environment_variables": {},
   "exception": null,
   "input_path": "__notebook__.ipynb",
   "output_path": "__notebook__.ipynb",
   "parameters": {},
   "start_time": "2021-12-27T18:55:48.020168",
   "version": "2.3.3"
  }
 },
 "nbformat": 4,
 "nbformat_minor": 5
}
