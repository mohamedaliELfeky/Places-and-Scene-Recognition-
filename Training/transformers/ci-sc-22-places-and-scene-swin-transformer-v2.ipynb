{
 "cells": [
  {
   "cell_type": "markdown",
   "id": "cb2a1a02",
   "metadata": {
    "papermill": {
     "duration": 0.025946,
     "end_time": "2021-12-27T11:15:03.584569",
     "exception": false,
     "start_time": "2021-12-27T11:15:03.558623",
     "status": "completed"
    },
    "tags": []
   },
   "source": [
    "# **Import Modules**"
   ]
  },
  {
   "cell_type": "code",
   "execution_count": 1,
   "id": "b35bb9d7",
   "metadata": {
    "execution": {
     "iopub.execute_input": "2021-12-27T11:15:03.721036Z",
     "iopub.status.busy": "2021-12-27T11:15:03.719659Z",
     "iopub.status.idle": "2021-12-27T11:15:03.724476Z",
     "shell.execute_reply": "2021-12-27T11:15:03.723905Z",
     "shell.execute_reply.started": "2021-12-27T11:12:06.418903Z"
    },
    "papermill": {
     "duration": 0.115081,
     "end_time": "2021-12-27T11:15:03.724624",
     "exception": false,
     "start_time": "2021-12-27T11:15:03.609543",
     "status": "completed"
    },
    "tags": []
   },
   "outputs": [],
   "source": [
    "import sys\n",
    "\n",
    "import os\n",
    "\n",
    "import random as pyrand\n",
    "\n",
    "os.environ['TF_CPP_MIN_LOG_LEVEL'] = '3'\n",
    "\n",
    "sys.path.insert(0, '../input/deeplearning-utils')\n",
    "sys.path.insert(0, '../input/swintransformertf')"
   ]
  },
  {
   "cell_type": "code",
   "execution_count": 2,
   "id": "3065ec7f",
   "metadata": {
    "execution": {
     "iopub.execute_input": "2021-12-27T11:15:03.777653Z",
     "iopub.status.busy": "2021-12-27T11:15:03.777075Z",
     "iopub.status.idle": "2021-12-27T11:15:09.214351Z",
     "shell.execute_reply": "2021-12-27T11:15:09.213480Z",
     "shell.execute_reply.started": "2021-12-27T11:12:06.641035Z"
    },
    "papermill": {
     "duration": 5.46618,
     "end_time": "2021-12-27T11:15:09.214578",
     "exception": false,
     "start_time": "2021-12-27T11:15:03.748398",
     "status": "completed"
    },
    "tags": []
   },
   "outputs": [],
   "source": [
    "from utils.ops import plot\n",
    "\n",
    "from utils.tf.ops import io, eval as tf_eval"
   ]
  },
  {
   "cell_type": "code",
   "execution_count": 3,
   "id": "f6008450",
   "metadata": {
    "execution": {
     "iopub.execute_input": "2021-12-27T11:15:09.261375Z",
     "iopub.status.busy": "2021-12-27T11:15:09.260703Z",
     "iopub.status.idle": "2021-12-27T11:15:09.279658Z",
     "shell.execute_reply": "2021-12-27T11:15:09.279217Z",
     "shell.execute_reply.started": "2021-12-27T11:12:11.732321Z"
    },
    "papermill": {
     "duration": 0.043636,
     "end_time": "2021-12-27T11:15:09.279778",
     "exception": false,
     "start_time": "2021-12-27T11:15:09.236142",
     "status": "completed"
    },
    "tags": []
   },
   "outputs": [],
   "source": [
    "from swintransformer import SwinTransformer\n",
    "from swintransformer.model import Mlp"
   ]
  },
  {
   "cell_type": "code",
   "execution_count": 4,
   "id": "a633d58f",
   "metadata": {
    "execution": {
     "iopub.execute_input": "2021-12-27T11:15:09.327966Z",
     "iopub.status.busy": "2021-12-27T11:15:09.327448Z",
     "iopub.status.idle": "2021-12-27T11:15:09.464554Z",
     "shell.execute_reply": "2021-12-27T11:15:09.463857Z",
     "shell.execute_reply.started": "2021-12-27T11:12:11.757792Z"
    },
    "papermill": {
     "duration": 0.162783,
     "end_time": "2021-12-27T11:15:09.464669",
     "exception": false,
     "start_time": "2021-12-27T11:15:09.301886",
     "status": "completed"
    },
    "tags": []
   },
   "outputs": [],
   "source": [
    "# This Python 3 environment comes with many helpful analytics libraries installed\n",
    "# It is defined by the kaggle/python Docker image: https://github.com/kaggle/docker-python\n",
    "# For example, here's several helpful packages to load\n",
    "\n",
    "import numpy as np # linear algebra\n",
    "import pandas as pd # data processing, CSV file I/O (e.g. pd.read_csv)\n",
    "\n",
    "# Input data files are available in the read-only \"../input/\" directory\n",
    "# For example, running this (by clicking run or pressing Shift+Enter) will list all files under the input directory\n",
    "\n",
    "import os\n",
    "\n",
    "import matplotlib.pyplot as plt\n",
    "import seaborn as sns\n",
    "\n",
    "from sklearn.model_selection import KFold\n",
    "\n",
    "from tqdm import tqdm"
   ]
  },
  {
   "cell_type": "code",
   "execution_count": 5,
   "id": "33d9d522",
   "metadata": {
    "execution": {
     "iopub.execute_input": "2021-12-27T11:15:09.511225Z",
     "iopub.status.busy": "2021-12-27T11:15:09.510446Z",
     "iopub.status.idle": "2021-12-27T11:15:09.514538Z",
     "shell.execute_reply": "2021-12-27T11:15:09.514077Z",
     "shell.execute_reply.started": "2021-12-27T11:12:11.899359Z"
    },
    "papermill": {
     "duration": 0.028619,
     "end_time": "2021-12-27T11:15:09.514647",
     "exception": false,
     "start_time": "2021-12-27T11:15:09.486028",
     "status": "completed"
    },
    "tags": []
   },
   "outputs": [],
   "source": [
    "from kaggle_secrets import UserSecretsClient\n",
    "from kaggle_datasets import KaggleDatasets"
   ]
  },
  {
   "cell_type": "code",
   "execution_count": 6,
   "id": "7eff1f18",
   "metadata": {
    "execution": {
     "iopub.execute_input": "2021-12-27T11:15:09.561561Z",
     "iopub.status.busy": "2021-12-27T11:15:09.560892Z",
     "iopub.status.idle": "2021-12-27T11:15:09.666637Z",
     "shell.execute_reply": "2021-12-27T11:15:09.666180Z",
     "shell.execute_reply.started": "2021-12-27T11:12:11.907500Z"
    },
    "papermill": {
     "duration": 0.131045,
     "end_time": "2021-12-27T11:15:09.666746",
     "exception": false,
     "start_time": "2021-12-27T11:15:09.535701",
     "status": "completed"
    },
    "tags": []
   },
   "outputs": [],
   "source": [
    "import tensorflow as tf\n",
    "\n",
    "from tensorflow.keras import backend, optimizers, regularizers\n",
    "\n",
    "from tensorflow.keras.layers import *\n",
    "\n",
    "from tensorflow.keras.models import Sequential, Model\n",
    "\n",
    "from tensorflow.keras.callbacks import LearningRateScheduler\n",
    "\n",
    "from tensorflow.keras.layers.experimental import preprocessing\n",
    "\n",
    "import tensorflow_addons as tfa"
   ]
  },
  {
   "cell_type": "markdown",
   "id": "9dc902ba",
   "metadata": {
    "papermill": {
     "duration": 0.021165,
     "end_time": "2021-12-27T11:15:09.709163",
     "exception": false,
     "start_time": "2021-12-27T11:15:09.687998",
     "status": "completed"
    },
    "tags": []
   },
   "source": [
    "# **Config**"
   ]
  },
  {
   "cell_type": "code",
   "execution_count": 7,
   "id": "d9ce3dec",
   "metadata": {
    "execution": {
     "iopub.execute_input": "2021-12-27T11:15:09.758179Z",
     "iopub.status.busy": "2021-12-27T11:15:09.757488Z",
     "iopub.status.idle": "2021-12-27T11:15:09.759929Z",
     "shell.execute_reply": "2021-12-27T11:15:09.759529Z",
     "shell.execute_reply.started": "2021-12-27T11:12:12.009531Z"
    },
    "papermill": {
     "duration": 0.028244,
     "end_time": "2021-12-27T11:15:09.760030",
     "exception": false,
     "start_time": "2021-12-27T11:15:09.731786",
     "status": "completed"
    },
    "tags": []
   },
   "outputs": [],
   "source": [
    "def set_seed(tf_seed=0, np_seed=0, py_rand=0, py_hash=0):\n",
    "\n",
    "    os.environ['PYTHONHASHSEED'] = str(py_hash)\n",
    "    pyrand.seed(py_rand)\n",
    "\n",
    "    tf.random.set_seed(tf_seed)\n",
    "    np.random.seed(np_seed)"
   ]
  },
  {
   "cell_type": "code",
   "execution_count": 8,
   "id": "677adf94",
   "metadata": {
    "execution": {
     "iopub.execute_input": "2021-12-27T11:15:09.806285Z",
     "iopub.status.busy": "2021-12-27T11:15:09.805739Z",
     "iopub.status.idle": "2021-12-27T11:15:09.808502Z",
     "shell.execute_reply": "2021-12-27T11:15:09.808046Z",
     "shell.execute_reply.started": "2021-12-27T11:12:12.017620Z"
    },
    "papermill": {
     "duration": 0.027316,
     "end_time": "2021-12-27T11:15:09.808604",
     "exception": false,
     "start_time": "2021-12-27T11:15:09.781288",
     "status": "completed"
    },
    "tags": []
   },
   "outputs": [],
   "source": [
    "PATH = {'224': 'cisc22placesandscene224x224'}"
   ]
  },
  {
   "cell_type": "code",
   "execution_count": 9,
   "id": "a8bb90ff",
   "metadata": {
    "execution": {
     "iopub.execute_input": "2021-12-27T11:15:09.855674Z",
     "iopub.status.busy": "2021-12-27T11:15:09.855011Z",
     "iopub.status.idle": "2021-12-27T11:15:09.857575Z",
     "shell.execute_reply": "2021-12-27T11:15:09.857154Z",
     "shell.execute_reply.started": "2021-12-27T11:12:12.026417Z"
    },
    "papermill": {
     "duration": 0.028055,
     "end_time": "2021-12-27T11:15:09.857674",
     "exception": false,
     "start_time": "2021-12-27T11:15:09.829619",
     "status": "completed"
    },
    "tags": []
   },
   "outputs": [],
   "source": [
    "class Config:\n",
    "    \n",
    "    SEED = 2053\n",
    "    \n",
    "    IMAGE_SIZE = (224, 224)\n",
    "\n",
    "    TRAIN_BATCH_SIZE = 32\n",
    "    VAL_BATCH_SIZE = 32\n",
    "        \n",
    "    SPLIT =10\n",
    "        \n",
    "    EPOCHS = 15\n",
    "    \n",
    "    TRAINING = True"
   ]
  },
  {
   "cell_type": "code",
   "execution_count": 10,
   "id": "31f972c2",
   "metadata": {
    "execution": {
     "iopub.execute_input": "2021-12-27T11:15:09.904109Z",
     "iopub.status.busy": "2021-12-27T11:15:09.903284Z",
     "iopub.status.idle": "2021-12-27T11:15:09.905725Z",
     "shell.execute_reply": "2021-12-27T11:15:09.905324Z",
     "shell.execute_reply.started": "2021-12-27T11:12:12.531156Z"
    },
    "papermill": {
     "duration": 0.027157,
     "end_time": "2021-12-27T11:15:09.905830",
     "exception": false,
     "start_time": "2021-12-27T11:15:09.878673",
     "status": "completed"
    },
    "tags": []
   },
   "outputs": [],
   "source": [
    "set_seed(Config.SEED)"
   ]
  },
  {
   "cell_type": "code",
   "execution_count": 11,
   "id": "0c819a6f",
   "metadata": {
    "execution": {
     "iopub.execute_input": "2021-12-27T11:15:09.953773Z",
     "iopub.status.busy": "2021-12-27T11:15:09.951192Z",
     "iopub.status.idle": "2021-12-27T11:15:09.961893Z",
     "shell.execute_reply": "2021-12-27T11:15:09.962544Z",
     "shell.execute_reply.started": "2021-12-27T11:12:12.766309Z"
    },
    "papermill": {
     "duration": 0.035725,
     "end_time": "2021-12-27T11:15:09.962715",
     "exception": false,
     "start_time": "2021-12-27T11:15:09.926990",
     "status": "completed"
    },
    "tags": []
   },
   "outputs": [
    {
     "name": "stdout",
     "output_type": "stream",
     "text": [
      "REPLICAS:  1\n"
     ]
    }
   ],
   "source": [
    "try:\n",
    "    \n",
    "    tpu = tf.distribute.cluster_resolver.TPUClusterResolver()\n",
    "    \n",
    "    print('Running on TPU ', tpu.master())\n",
    "    \n",
    "except ValueError:\n",
    "  \n",
    "    tpu = None\n",
    "\n",
    "if tpu is not None:\n",
    "    \n",
    "    tf.config.experimental_connect_to_cluster(tpu)\n",
    "    tf.tpu.experimental.initialize_tpu_system(tpu)\n",
    "\n",
    "    strategy = tf.distribute.experimental.TPUStrategy(tpu)\n",
    "\n",
    "else:\n",
    "    \n",
    "    strategy = tf.distribute.get_strategy()\n",
    "\n",
    "\n",
    "print(\"REPLICAS: \", strategy.num_replicas_in_sync)"
   ]
  },
  {
   "cell_type": "code",
   "execution_count": 12,
   "id": "7f2fe55e",
   "metadata": {
    "execution": {
     "iopub.execute_input": "2021-12-27T11:15:10.018087Z",
     "iopub.status.busy": "2021-12-27T11:15:10.011142Z",
     "iopub.status.idle": "2021-12-27T11:15:13.768528Z",
     "shell.execute_reply": "2021-12-27T11:15:13.767631Z",
     "shell.execute_reply.started": "2021-12-27T11:12:21.263058Z"
    },
    "papermill": {
     "duration": 3.783103,
     "end_time": "2021-12-27T11:15:13.768664",
     "exception": false,
     "start_time": "2021-12-27T11:15:09.985561",
     "status": "completed"
    },
    "tags": []
   },
   "outputs": [],
   "source": [
    "user_secrets = UserSecretsClient()\n",
    "user_credential = user_secrets.get_gcloud_credential()\n",
    "\n",
    "user_secrets.set_tensorflow_credential(user_credential)\n",
    "\n",
    "GCS_DS_PATH = KaggleDatasets().get_gcs_path(PATH['224'])"
   ]
  },
  {
   "cell_type": "code",
   "execution_count": 13,
   "id": "fd1b73c7",
   "metadata": {
    "execution": {
     "iopub.execute_input": "2021-12-27T11:15:13.815340Z",
     "iopub.status.busy": "2021-12-27T11:15:13.814524Z",
     "iopub.status.idle": "2021-12-27T11:15:14.134444Z",
     "shell.execute_reply": "2021-12-27T11:15:14.133241Z",
     "shell.execute_reply.started": "2021-12-27T11:12:25.089077Z"
    },
    "papermill": {
     "duration": 0.343589,
     "end_time": "2021-12-27T11:15:14.134603",
     "exception": false,
     "start_time": "2021-12-27T11:15:13.791014",
     "status": "completed"
    },
    "tags": []
   },
   "outputs": [],
   "source": [
    "augmentations = []\n",
    "\n",
    "augmentations.append(preprocessing.RandomFlip(mode='horizontal'))\n",
    "augmentations.append(preprocessing.RandomContrast(factor=0.8))\n",
    "augmentations.append(preprocessing.RandomRotation(factor=0.1, dtype=tf.float32))\n",
    "\n",
    "augmentations = Sequential(augmentations)"
   ]
  },
  {
   "cell_type": "markdown",
   "id": "00fb09e3",
   "metadata": {
    "papermill": {
     "duration": 0.024315,
     "end_time": "2021-12-27T11:15:14.183957",
     "exception": false,
     "start_time": "2021-12-27T11:15:14.159642",
     "status": "completed"
    },
    "tags": []
   },
   "source": [
    "# **Load Data**"
   ]
  },
  {
   "cell_type": "code",
   "execution_count": 14,
   "id": "8d6d26bd",
   "metadata": {
    "execution": {
     "iopub.execute_input": "2021-12-27T11:15:14.237066Z",
     "iopub.status.busy": "2021-12-27T11:15:14.236271Z",
     "iopub.status.idle": "2021-12-27T11:15:14.239214Z",
     "shell.execute_reply": "2021-12-27T11:15:14.238640Z",
     "shell.execute_reply.started": "2021-12-27T11:12:25.396374Z"
    },
    "papermill": {
     "duration": 0.030974,
     "end_time": "2021-12-27T11:15:14.239344",
     "exception": false,
     "start_time": "2021-12-27T11:15:14.208370",
     "status": "completed"
    },
    "tags": []
   },
   "outputs": [],
   "source": [
    "AUTOTUNE = tf.data.experimental.AUTOTUNE\n",
    "\n",
    "ignore_order = tf.data.Options()\n",
    "ignore_order.experimental_deterministic = False"
   ]
  },
  {
   "cell_type": "code",
   "execution_count": 15,
   "id": "008e89e1",
   "metadata": {
    "execution": {
     "iopub.execute_input": "2021-12-27T11:15:14.292849Z",
     "iopub.status.busy": "2021-12-27T11:15:14.292265Z",
     "iopub.status.idle": "2021-12-27T11:15:14.434923Z",
     "shell.execute_reply": "2021-12-27T11:15:14.435371Z",
     "shell.execute_reply.started": "2021-12-27T11:12:25.402745Z"
    },
    "papermill": {
     "duration": 0.171615,
     "end_time": "2021-12-27T11:15:14.435551",
     "exception": false,
     "start_time": "2021-12-27T11:15:14.263936",
     "status": "completed"
    },
    "tags": []
   },
   "outputs": [
    {
     "name": "stdout",
     "output_type": "stream",
     "text": [
      "50\n"
     ]
    }
   ],
   "source": [
    "train_rec = tf.io.gfile.glob(GCS_DS_PATH + '/train/train/*')\n",
    "\n",
    "train_rec = np.array(train_rec)\n",
    "\n",
    "print(len(train_rec))"
   ]
  },
  {
   "cell_type": "code",
   "execution_count": 16,
   "id": "ed3e052e",
   "metadata": {
    "execution": {
     "iopub.execute_input": "2021-12-27T11:15:14.489802Z",
     "iopub.status.busy": "2021-12-27T11:15:14.488988Z",
     "iopub.status.idle": "2021-12-27T11:15:14.491690Z",
     "shell.execute_reply": "2021-12-27T11:15:14.491063Z",
     "shell.execute_reply.started": "2021-12-27T11:12:25.647190Z"
    },
    "papermill": {
     "duration": 0.031912,
     "end_time": "2021-12-27T11:15:14.491812",
     "exception": false,
     "start_time": "2021-12-27T11:15:14.459900",
     "status": "completed"
    },
    "tags": []
   },
   "outputs": [],
   "source": [
    "def train_processing(x, y):\n",
    "        \n",
    "    x = tf.cast(x, dtype=tf.float32)\n",
    "    x /= 255.0\n",
    "        \n",
    "    y = tf.one_hot(y, depth=6)\n",
    "    \n",
    "    return augmentations(x, training=Config.TRAINING), y"
   ]
  },
  {
   "cell_type": "code",
   "execution_count": 17,
   "id": "c4b6dc35",
   "metadata": {
    "execution": {
     "iopub.execute_input": "2021-12-27T11:15:14.549335Z",
     "iopub.status.busy": "2021-12-27T11:15:14.547220Z",
     "iopub.status.idle": "2021-12-27T11:15:14.552195Z",
     "shell.execute_reply": "2021-12-27T11:15:14.551455Z",
     "shell.execute_reply.started": "2021-12-27T11:12:25.655126Z"
    },
    "papermill": {
     "duration": 0.036509,
     "end_time": "2021-12-27T11:15:14.552354",
     "exception": false,
     "start_time": "2021-12-27T11:15:14.515845",
     "status": "completed"
    },
    "tags": []
   },
   "outputs": [],
   "source": [
    "def split_generator(train_idx, val_idx):\n",
    "    \n",
    "    dtype = {'image': 'bytes', 'label': 'int64'}\n",
    "    \n",
    "    reader = io.TfRecordReader(features_dtype=dtype,  image_key='image', \n",
    "                               tfrecord_shape=[*Config.IMAGE_SIZE, 3],  \n",
    "                               shape=None, channels=3,  func=None)\n",
    "    \n",
    "    train_data = tf.data.TFRecordDataset(train_rec[train_idx], num_parallel_reads=AUTOTUNE)\n",
    "    train_data = train_data.with_options(ignore_order)\n",
    "\n",
    "    train_data = train_data.map(reader.read_tfrecord, num_parallel_calls=AUTOTUNE)\n",
    "    train_data = train_data.shuffle(512, reshuffle_each_iteration=True)\n",
    "    train_data = train_data.batch(Config.TRAIN_BATCH_SIZE)\n",
    "    train_data = train_data.prefetch(AUTOTUNE)\n",
    "    train_data = train_data.map(train_processing)\n",
    "    \n",
    "    val_data = tf.data.TFRecordDataset(train_rec[val_idx], num_parallel_reads=AUTOTUNE)\n",
    "    val_data = val_data.with_options(ignore_order)\n",
    "\n",
    "    val_data = val_data.map(reader.read_tfrecord, num_parallel_calls=AUTOTUNE)\n",
    "    val_data = val_data.batch(Config.VAL_BATCH_SIZE)\n",
    "    val_data = val_data.prefetch(AUTOTUNE)\n",
    "    val_data = val_data.map(train_processing)\n",
    "    \n",
    "    return train_data, val_data"
   ]
  },
  {
   "cell_type": "code",
   "execution_count": 18,
   "id": "ab71c0f2",
   "metadata": {
    "execution": {
     "iopub.execute_input": "2021-12-27T11:15:14.605156Z",
     "iopub.status.busy": "2021-12-27T11:15:14.604417Z",
     "iopub.status.idle": "2021-12-27T11:15:16.808565Z",
     "shell.execute_reply": "2021-12-27T11:15:16.809022Z",
     "shell.execute_reply.started": "2021-12-27T11:12:26.140157Z"
    },
    "papermill": {
     "duration": 2.232961,
     "end_time": "2021-12-27T11:15:16.809174",
     "exception": false,
     "start_time": "2021-12-27T11:15:14.576213",
     "status": "completed"
    },
    "tags": []
   },
   "outputs": [
    {
     "data": {
      "image/png": "[encoded data removed]",
      "text/plain": [
       "<Figure size 432x288 with 1 Axes>"
      ]
     },
     "metadata": {
      "needs_background": "light"
     },
     "output_type": "display_data"
    }
   ],
   "source": [
    "sample_x, sample_y = split_generator(0, 1)[0].unbatch().as_numpy_iterator().next()\n",
    "\n",
    "plt.imshow(sample_x)\n",
    "plt.title(f'label = {int(sample_y.argmax())}')\n",
    "plt.axis('off')\n",
    "plt.show()"
   ]
  },
  {
   "cell_type": "markdown",
   "id": "f8be6083",
   "metadata": {
    "papermill": {
     "duration": 0.027717,
     "end_time": "2021-12-27T11:15:16.864954",
     "exception": false,
     "start_time": "2021-12-27T11:15:16.837237",
     "status": "completed"
    },
    "tags": []
   },
   "source": [
    "# **Build Model**"
   ]
  },
  {
   "cell_type": "code",
   "execution_count": 19,
   "id": "89866b8f",
   "metadata": {
    "execution": {
     "iopub.execute_input": "2021-12-27T11:15:16.926086Z",
     "iopub.status.busy": "2021-12-27T11:15:16.925166Z",
     "iopub.status.idle": "2021-12-27T11:15:16.927360Z",
     "shell.execute_reply": "2021-12-27T11:15:16.927829Z",
     "shell.execute_reply.started": "2021-12-27T11:12:29.531504Z"
    },
    "papermill": {
     "duration": 0.034691,
     "end_time": "2021-12-27T11:15:16.927960",
     "exception": false,
     "start_time": "2021-12-27T11:15:16.893269",
     "status": "completed"
    },
    "tags": []
   },
   "outputs": [],
   "source": [
    "input_shape = (*Config.IMAGE_SIZE, 3)"
   ]
  },
  {
   "cell_type": "code",
   "execution_count": 20,
   "id": "bd862319",
   "metadata": {
    "execution": {
     "iopub.execute_input": "2021-12-27T11:15:16.990564Z",
     "iopub.status.busy": "2021-12-27T11:15:16.989631Z",
     "iopub.status.idle": "2021-12-27T11:15:27.800826Z",
     "shell.execute_reply": "2021-12-27T11:15:27.799957Z",
     "shell.execute_reply.started": "2021-12-27T11:12:31.083634Z"
    },
    "papermill": {
     "duration": 10.844883,
     "end_time": "2021-12-27T11:15:27.800960",
     "exception": false,
     "start_time": "2021-12-27T11:15:16.956077",
     "status": "completed"
    },
    "tags": []
   },
   "outputs": [
    {
     "name": "stdout",
     "output_type": "stream",
     "text": [
      "Downloading data from https://github.com/rishigami/Swin-Transformer-TF/releases/download/v0.1-tf-swin-weights/swin_tiny_224.tgz\n",
      "102039552/102036641 [==============================] - 3s 0us/step\n"
     ]
    }
   ],
   "source": [
    "with strategy.scope():\n",
    "    \n",
    "    backbone = SwinTransformer('swin_tiny_224', include_top=False, pretrained=True, use_tpu=True)"
   ]
  },
  {
   "cell_type": "code",
   "execution_count": 21,
   "id": "c7fcb769",
   "metadata": {
    "execution": {
     "iopub.execute_input": "2021-12-27T11:15:27.874282Z",
     "iopub.status.busy": "2021-12-27T11:15:27.873502Z",
     "iopub.status.idle": "2021-12-27T11:15:27.890002Z",
     "shell.execute_reply": "2021-12-27T11:15:27.890400Z",
     "shell.execute_reply.started": "2021-12-27T11:12:42.123340Z"
    },
    "papermill": {
     "duration": 0.054652,
     "end_time": "2021-12-27T11:15:27.890532",
     "exception": false,
     "start_time": "2021-12-27T11:15:27.835880",
     "status": "completed"
    },
    "tags": []
   },
   "outputs": [
    {
     "name": "stdout",
     "output_type": "stream",
     "text": [
      "Model: \"swin_tiny_224\"\n",
      "_________________________________________________________________\n",
      "Layer (type)                 Output Shape              Param #   \n",
      "=================================================================\n",
      "patch_embed (PatchEmbed)     multiple                  4896      \n",
      "_________________________________________________________________\n",
      "dropout (Dropout)            multiple                  0         \n",
      "_________________________________________________________________\n",
      "sequential_5 (Sequential)    (None, 49, 768)           27762626  \n",
      "_________________________________________________________________\n",
      "norm (LayerNormalization)    multiple                  1536      \n",
      "_________________________________________________________________\n",
      "global_average_pooling1d (Gl multiple                  0         \n",
      "=================================================================\n",
      "Total params: 27,769,058\n",
      "Trainable params: 27,519,354\n",
      "Non-trainable params: 249,704\n",
      "_________________________________________________________________\n"
     ]
    }
   ],
   "source": [
    "backbone.summary()"
   ]
  },
  {
   "cell_type": "code",
   "execution_count": 22,
   "id": "c0db3c78",
   "metadata": {
    "execution": {
     "iopub.execute_input": "2021-12-27T11:15:27.968458Z",
     "iopub.status.busy": "2021-12-27T11:15:27.967660Z",
     "iopub.status.idle": "2021-12-27T11:15:27.970076Z",
     "shell.execute_reply": "2021-12-27T11:15:27.969669Z",
     "shell.execute_reply.started": "2021-12-27T11:14:01.952494Z"
    },
    "papermill": {
     "duration": 0.045216,
     "end_time": "2021-12-27T11:15:27.970180",
     "exception": false,
     "start_time": "2021-12-27T11:15:27.924964",
     "status": "completed"
    },
    "tags": []
   },
   "outputs": [],
   "source": [
    "def build_model():\n",
    "    \n",
    "    backbone.trainable = False\n",
    "    \n",
    "    # ===================================================================================\n",
    "    \n",
    "    inputs =  Input(shape=input_shape)\n",
    "\n",
    "    features = backbone(inputs)\n",
    "    \n",
    "    features = Mlp(in_features=768, hidden_features=2048, out_features=1024, drop=0.5, prefix='features_0')(features)\n",
    "    features = Mlp(in_features=1024, hidden_features=512, out_features=256, drop=0.25, prefix='features_1')(features)\n",
    "    features = Mlp(in_features=256, hidden_features=128, out_features=64, drop=0.1, prefix='features_2')(features)\n",
    "    features = Mlp(in_features=64, hidden_features=32, out_features=16, drop=0.0125, prefix='features_3')(features)\n",
    "\n",
    "    # ===================================================================================\n",
    "\n",
    "    y_logits = Dense(6, name='y_logits')(features)\n",
    "    y_proba = Activation('softmax', name='y_proba')(y_logits)\n",
    "    \n",
    "    # ===================================================================================\n",
    "\n",
    "    model = Model(inputs, y_proba)\n",
    "    \n",
    "    # ===================================================================================\n",
    "    \n",
    "    optimizer = optimizers.Adam(learning_rate=1e-3, beta_1=0.9, beta_2=0.999)\n",
    "    \n",
    "    loss = tf.losses.CategoricalCrossentropy(label_smoothing=0.25, name='categorical_crossentropy')\n",
    "    metrics = tf.metrics.CategoricalAccuracy(name='accuracy_score')\n",
    "    \n",
    "    model.compile(optimizer=optimizer, loss=loss, metrics=metrics)\n",
    "    \n",
    "    # ===================================================================================\n",
    "\n",
    "    return model"
   ]
  },
  {
   "cell_type": "code",
   "execution_count": 23,
   "id": "02906994",
   "metadata": {
    "execution": {
     "iopub.execute_input": "2021-12-27T11:15:28.051617Z",
     "iopub.status.busy": "2021-12-27T11:15:28.050587Z",
     "iopub.status.idle": "2021-12-27T11:15:29.672502Z",
     "shell.execute_reply": "2021-12-27T11:15:29.673064Z",
     "shell.execute_reply.started": "2021-12-27T11:14:03.131362Z"
    },
    "papermill": {
     "duration": 1.668242,
     "end_time": "2021-12-27T11:15:29.673256",
     "exception": false,
     "start_time": "2021-12-27T11:15:28.005014",
     "status": "completed"
    },
    "tags": []
   },
   "outputs": [
    {
     "name": "stdout",
     "output_type": "stream",
     "text": [
      "Model: \"model\"\n",
      "_________________________________________________________________\n",
      "Layer (type)                 Output Shape              Param #   \n",
      "=================================================================\n",
      "input_2 (InputLayer)         [(None, 224, 224, 3)]     0         \n",
      "_________________________________________________________________\n",
      "swin_tiny_224 (SwinTransform (None, 768)               27769058  \n",
      "_________________________________________________________________\n",
      "mlp_12 (Mlp)                 (None, 1024)              3673088   \n",
      "_________________________________________________________________\n",
      "mlp_13 (Mlp)                 (None, 256)               656128    \n",
      "_________________________________________________________________\n",
      "mlp_14 (Mlp)                 (None, 64)                41152     \n",
      "_________________________________________________________________\n",
      "mlp_15 (Mlp)                 (None, 16)                2608      \n",
      "_________________________________________________________________\n",
      "y_logits (Dense)             (None, 6)                 102       \n",
      "_________________________________________________________________\n",
      "y_proba (Activation)         (None, 6)                 0         \n",
      "=================================================================\n",
      "Total params: 32,142,136\n",
      "Trainable params: 4,373,078\n",
      "Non-trainable params: 27,769,058\n",
      "_________________________________________________________________\n"
     ]
    }
   ],
   "source": [
    "build_model().summary()"
   ]
  },
  {
   "cell_type": "markdown",
   "id": "72e581df",
   "metadata": {
    "papermill": {
     "duration": 0.034321,
     "end_time": "2021-12-27T11:15:29.743351",
     "exception": false,
     "start_time": "2021-12-27T11:15:29.709030",
     "status": "completed"
    },
    "tags": []
   },
   "source": [
    "# **Train Model**"
   ]
  },
  {
   "cell_type": "code",
   "execution_count": 24,
   "id": "cf230526",
   "metadata": {
    "execution": {
     "iopub.execute_input": "2021-12-27T11:15:29.816885Z",
     "iopub.status.busy": "2021-12-27T11:15:29.816198Z",
     "iopub.status.idle": "2021-12-27T11:15:29.818904Z",
     "shell.execute_reply": "2021-12-27T11:15:29.818512Z",
     "shell.execute_reply.started": "2021-12-27T11:14:11.058646Z"
    },
    "papermill": {
     "duration": 0.040325,
     "end_time": "2021-12-27T11:15:29.819004",
     "exception": false,
     "start_time": "2021-12-27T11:15:29.778679",
     "status": "completed"
    },
    "tags": []
   },
   "outputs": [],
   "source": [
    "# weights_path = tf.io.gfile.glob('../input/csscciswimv0/weights-*.h5')\n",
    "\n",
    "# print(len(weights_path))"
   ]
  },
  {
   "cell_type": "code",
   "execution_count": 25,
   "id": "4efeaae9",
   "metadata": {
    "execution": {
     "iopub.execute_input": "2021-12-27T11:15:29.893434Z",
     "iopub.status.busy": "2021-12-27T11:15:29.892714Z",
     "iopub.status.idle": "2021-12-27T11:15:29.895070Z",
     "shell.execute_reply": "2021-12-27T11:15:29.894692Z",
     "shell.execute_reply.started": "2021-12-27T11:14:11.246675Z"
    },
    "papermill": {
     "duration": 0.041377,
     "end_time": "2021-12-27T11:15:29.895169",
     "exception": false,
     "start_time": "2021-12-27T11:15:29.853792",
     "status": "completed"
    },
    "tags": []
   },
   "outputs": [],
   "source": [
    "def scheduler(step):\n",
    "    \n",
    "    def _scheduler(epoch, lr):\n",
    "        \n",
    "        if epoch > 0 and epoch % step == 0:\n",
    "            \n",
    "            return max(1e-6, lr * tf.math.exp(-0.5))\n",
    "        \n",
    "        else:\n",
    "            \n",
    "            return max(1e-6, lr)\n",
    "    \n",
    "    return _scheduler"
   ]
  },
  {
   "cell_type": "code",
   "execution_count": 26,
   "id": "a30ed036",
   "metadata": {
    "execution": {
     "iopub.execute_input": "2021-12-27T11:15:29.972187Z",
     "iopub.status.busy": "2021-12-27T11:15:29.971443Z",
     "iopub.status.idle": "2021-12-27T11:56:34.641618Z",
     "shell.execute_reply": "2021-12-27T11:56:34.642072Z",
     "shell.execute_reply.started": "2021-12-27T11:14:11.465474Z"
    },
    "papermill": {
     "duration": 2464.71247,
     "end_time": "2021-12-27T11:56:34.642254",
     "exception": false,
     "start_time": "2021-12-27T11:15:29.929784",
     "status": "completed"
    },
    "tags": []
   },
   "outputs": [
    {
     "name": "stdout",
     "output_type": "stream",
     "text": [
      "fold 0 - ====================================================================================================\n",
      "Epoch 1/15\n",
      "\n",
      "Epoch 00001: LearningRateScheduler reducing learning rate to 0.0010000000474974513.\n",
      "384/384 [==============================] - 191s 446ms/step - loss: 1.2320 - accuracy_score: 0.7731 - val_loss: 1.0181 - val_accuracy_score: 0.9011\n",
      "Epoch 2/15\n",
      "\n",
      "Epoch 00002: LearningRateScheduler reducing learning rate to tf.Tensor(0.0006065307, shape=(), dtype=float32).\n",
      "384/384 [==============================] - 164s 425ms/step - loss: 1.0563 - accuracy_score: 0.8902 - val_loss: 0.9966 - val_accuracy_score: 0.8974\n",
      "Epoch 3/15\n",
      "\n",
      "Epoch 00003: LearningRateScheduler reducing learning rate to tf.Tensor(0.00036787946, shape=(), dtype=float32).\n",
      "384/384 [==============================] - 165s 426ms/step - loss: 1.0274 - accuracy_score: 0.8985 - val_loss: 0.9830 - val_accuracy_score: 0.9040\n",
      "Epoch 4/15\n",
      "\n",
      "Epoch 00004: LearningRateScheduler reducing learning rate to tf.Tensor(0.00022313018, shape=(), dtype=float32).\n",
      "384/384 [==============================] - 161s 418ms/step - loss: 1.0075 - accuracy_score: 0.9133 - val_loss: 0.9728 - val_accuracy_score: 0.9143\n",
      "Epoch 5/15\n",
      "\n",
      "Epoch 00005: LearningRateScheduler reducing learning rate to tf.Tensor(0.0001353353, shape=(), dtype=float32).\n",
      "384/384 [==============================] - 161s 416ms/step - loss: 0.9901 - accuracy_score: 0.9162 - val_loss: 0.9624 - val_accuracy_score: 0.9223\n",
      "Epoch 6/15\n",
      "\n",
      "Epoch 00006: LearningRateScheduler reducing learning rate to tf.Tensor(8.208501e-05, shape=(), dtype=float32).\n",
      "384/384 [==============================] - 161s 416ms/step - loss: 0.9829 - accuracy_score: 0.9180 - val_loss: 0.9635 - val_accuracy_score: 0.9158\n",
      "Epoch 7/15\n",
      "\n",
      "Epoch 00007: LearningRateScheduler reducing learning rate to tf.Tensor(4.9787075e-05, shape=(), dtype=float32).\n",
      "384/384 [==============================] - 160s 414ms/step - loss: 0.9852 - accuracy_score: 0.9211 - val_loss: 0.9600 - val_accuracy_score: 0.9260\n",
      "Epoch 8/15\n",
      "\n",
      "Epoch 00008: LearningRateScheduler reducing learning rate to tf.Tensor(3.0197389e-05, shape=(), dtype=float32).\n",
      "384/384 [==============================] - 161s 418ms/step - loss: 0.9748 - accuracy_score: 0.9261 - val_loss: 0.9612 - val_accuracy_score: 0.9275\n",
      "Epoch 9/15\n",
      "\n",
      "Epoch 00009: LearningRateScheduler reducing learning rate to tf.Tensor(1.8315643e-05, shape=(), dtype=float32).\n",
      "384/384 [==============================] - 161s 417ms/step - loss: 0.9724 - accuracy_score: 0.9247 - val_loss: 0.9582 - val_accuracy_score: 0.9267\n",
      "Epoch 10/15\n",
      "\n",
      "Epoch 00010: LearningRateScheduler reducing learning rate to tf.Tensor(1.11089985e-05, shape=(), dtype=float32).\n",
      "384/384 [==============================] - 162s 420ms/step - loss: 0.9754 - accuracy_score: 0.9241 - val_loss: 0.9694 - val_accuracy_score: 0.9187\n",
      "Epoch 11/15\n",
      "\n",
      "Epoch 00011: LearningRateScheduler reducing learning rate to tf.Tensor(6.7379483e-06, shape=(), dtype=float32).\n",
      "384/384 [==============================] - 163s 420ms/step - loss: 0.9673 - accuracy_score: 0.9300 - val_loss: 0.9730 - val_accuracy_score: 0.9106\n",
      "Epoch 12/15\n",
      "\n",
      "Epoch 00012: LearningRateScheduler reducing learning rate to tf.Tensor(4.086772e-06, shape=(), dtype=float32).\n",
      "384/384 [==============================] - 162s 421ms/step - loss: 0.9714 - accuracy_score: 0.9302 - val_loss: 0.9611 - val_accuracy_score: 0.9245\n",
      "Epoch 13/15\n",
      "\n",
      "Epoch 00013: LearningRateScheduler reducing learning rate to tf.Tensor(2.4787525e-06, shape=(), dtype=float32).\n",
      "384/384 [==============================] - 162s 421ms/step - loss: 0.9682 - accuracy_score: 0.9301 - val_loss: 0.9599 - val_accuracy_score: 0.9275\n",
      "Epoch 14/15\n",
      "\n",
      "Epoch 00014: LearningRateScheduler reducing learning rate to tf.Tensor(1.5034394e-06, shape=(), dtype=float32).\n",
      "384/384 [==============================] - 164s 424ms/step - loss: 0.9712 - accuracy_score: 0.9282 - val_loss: 0.9643 - val_accuracy_score: 0.9216\n",
      "Epoch 15/15\n",
      "\n",
      "Epoch 00015: LearningRateScheduler reducing learning rate to 1e-06.\n",
      "384/384 [==============================] - 162s 421ms/step - loss: 0.9724 - accuracy_score: 0.9229 - val_loss: 0.9619 - val_accuracy_score: 0.9260\n"
     ]
    }
   ],
   "source": [
    "kfold = KFold(n_splits=Config.SPLIT, shuffle=False)\n",
    "\n",
    "for i, (train_idx, val_idx) in enumerate(kfold.split(train_rec)):\n",
    "    \n",
    "    train_data, val_data = split_generator(train_idx, val_idx)\n",
    "    \n",
    "    print(f'fold {i} - {\"=\" * 100}')\n",
    "    \n",
    "    with strategy.scope():\n",
    "        \n",
    "        model = build_model()\n",
    "    \n",
    "#     if i < len(weights_path):\n",
    "        \n",
    "#         model.load_weights(weights_path[i])\n",
    "        \n",
    "    callbacks = []\n",
    "    \n",
    "    callbacks.append(LearningRateScheduler(schedule=scheduler(step=1), verbose=1))\n",
    "    \n",
    "    model.fit(train_data, epochs=Config.EPOCHS, validation_data=val_data, callbacks=callbacks)\n",
    "    \n",
    "    model.save_weights(f'weights-{i}.h5')\n",
    "    \n",
    "    backend.clear_session()\n",
    "\n",
    "    # stop cv\n",
    "    if i == 0:\n",
    "        \n",
    "        break"
   ]
  },
  {
   "cell_type": "code",
   "execution_count": null,
   "id": "c4a3d0af",
   "metadata": {
    "papermill": {
     "duration": 1.987433,
     "end_time": "2021-12-27T11:56:38.181514",
     "exception": false,
     "start_time": "2021-12-27T11:56:36.194081",
     "status": "completed"
    },
    "tags": []
   },
   "outputs": [],
   "source": []
  },
  {
   "cell_type": "code",
   "execution_count": null,
   "id": "02b07672",
   "metadata": {
    "papermill": {
     "duration": 1.517465,
     "end_time": "2021-12-27T11:56:41.262605",
     "exception": false,
     "start_time": "2021-12-27T11:56:39.745140",
     "status": "completed"
    },
    "tags": []
   },
   "outputs": [],
   "source": []
  },
  {
   "cell_type": "code",
   "execution_count": null,
   "id": "10e40b3e",
   "metadata": {
    "papermill": {
     "duration": 1.800419,
     "end_time": "2021-12-27T11:56:44.563272",
     "exception": false,
     "start_time": "2021-12-27T11:56:42.762853",
     "status": "completed"
    },
    "tags": []
   },
   "outputs": [],
   "source": []
  }
 ],
 "metadata": {
  "kernelspec": {
   "display_name": "Python 3",
   "language": "python",
   "name": "python3"
  },
  "language_info": {
   "codemirror_mode": {
    "name": "ipython",
    "version": 3
   },
   "file_extension": ".py",
   "mimetype": "text/x-python",
   "name": "python",
   "nbconvert_exporter": "python",
   "pygments_lexer": "ipython3",
   "version": "3.7.10"
  },
  "papermill": {
   "default_parameters": {},
   "duration": 2513.15898,
   "end_time": "2021-12-27T11:56:49.831951",
   "environment_variables": {},
   "exception": null,
   "input_path": "__notebook__.ipynb",
   "output_path": "__notebook__.ipynb",
   "parameters": {},
   "start_time": "2021-12-27T11:14:56.672971",
   "version": "2.3.3"
  }
 },
 "nbformat": 4,
 "nbformat_minor": 5
}
