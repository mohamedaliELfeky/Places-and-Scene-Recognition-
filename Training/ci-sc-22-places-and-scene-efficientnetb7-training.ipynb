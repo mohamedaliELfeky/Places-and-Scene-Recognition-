{
 "cells": [
  {
   "cell_type": "markdown",
   "id": "5f1b6937",
   "metadata": {
    "papermill": {
     "duration": 0.024361,
     "end_time": "2021-12-22T14:28:05.429000",
     "exception": false,
     "start_time": "2021-12-22T14:28:05.404639",
     "status": "completed"
    },
    "tags": []
   },
   "source": [
    "# **Import Modules**"
   ]
  },
  {
   "cell_type": "code",
   "execution_count": 1,
   "id": "2e727ca1",
   "metadata": {
    "execution": {
     "iopub.execute_input": "2021-12-22T14:28:05.563758Z",
     "iopub.status.busy": "2021-12-22T14:28:05.562811Z",
     "iopub.status.idle": "2021-12-22T14:28:05.566876Z",
     "shell.execute_reply": "2021-12-22T14:28:05.566302Z",
     "shell.execute_reply.started": "2021-12-22T14:23:15.464740Z"
    },
    "papermill": {
     "duration": 0.116193,
     "end_time": "2021-12-22T14:28:05.567067",
     "exception": false,
     "start_time": "2021-12-22T14:28:05.450874",
     "status": "completed"
    },
    "tags": []
   },
   "outputs": [],
   "source": [
    "import sys\n",
    "\n",
    "import os\n",
    "\n",
    "import random as pyrand\n",
    "\n",
    "os.environ['TF_CPP_MIN_LOG_LEVEL'] = '3'\n",
    "\n",
    "sys.path.insert(0, '../input/deeplearning-utils')"
   ]
  },
  {
   "cell_type": "code",
   "execution_count": 2,
   "id": "5d5dc37c",
   "metadata": {
    "execution": {
     "iopub.execute_input": "2021-12-22T14:28:05.612837Z",
     "iopub.status.busy": "2021-12-22T14:28:05.611250Z",
     "iopub.status.idle": "2021-12-22T14:28:11.007597Z",
     "shell.execute_reply": "2021-12-22T14:28:11.006601Z",
     "shell.execute_reply.started": "2021-12-22T14:23:15.916227Z"
    },
    "papermill": {
     "duration": 5.419699,
     "end_time": "2021-12-22T14:28:11.007753",
     "exception": false,
     "start_time": "2021-12-22T14:28:05.588054",
     "status": "completed"
    },
    "tags": []
   },
   "outputs": [],
   "source": [
    "from utils.ops import plot\n",
    "\n",
    "from utils.tf.ops import io, eval as tf_eval"
   ]
  },
  {
   "cell_type": "code",
   "execution_count": 3,
   "id": "d45196cb",
   "metadata": {
    "execution": {
     "iopub.execute_input": "2021-12-22T14:28:11.058426Z",
     "iopub.status.busy": "2021-12-22T14:28:11.057663Z",
     "iopub.status.idle": "2021-12-22T14:28:11.200727Z",
     "shell.execute_reply": "2021-12-22T14:28:11.200232Z",
     "shell.execute_reply.started": "2021-12-22T14:23:21.425366Z"
    },
    "papermill": {
     "duration": 0.169374,
     "end_time": "2021-12-22T14:28:11.200848",
     "exception": false,
     "start_time": "2021-12-22T14:28:11.031474",
     "status": "completed"
    },
    "tags": []
   },
   "outputs": [],
   "source": [
    "# This Python 3 environment comes with many helpful analytics libraries installed\n",
    "# It is defined by the kaggle/python Docker image: https://github.com/kaggle/docker-python\n",
    "# For example, here's several helpful packages to load\n",
    "\n",
    "import numpy as np # linear algebra\n",
    "import pandas as pd # data processing, CSV file I/O (e.g. pd.read_csv)\n",
    "\n",
    "# Input data files are available in the read-only \"../input/\" directory\n",
    "# For example, running this (by clicking run or pressing Shift+Enter) will list all files under the input directory\n",
    "\n",
    "import os\n",
    "\n",
    "import matplotlib.pyplot as plt\n",
    "import seaborn as sns\n",
    "\n",
    "from sklearn.model_selection import KFold\n",
    "\n",
    "from tqdm import tqdm"
   ]
  },
  {
   "cell_type": "code",
   "execution_count": 4,
   "id": "ae0aae3f",
   "metadata": {
    "execution": {
     "iopub.execute_input": "2021-12-22T14:28:11.248347Z",
     "iopub.status.busy": "2021-12-22T14:28:11.247426Z",
     "iopub.status.idle": "2021-12-22T14:28:11.251458Z",
     "shell.execute_reply": "2021-12-22T14:28:11.251835Z",
     "shell.execute_reply.started": "2021-12-22T14:23:21.568704Z"
    },
    "papermill": {
     "duration": 0.030161,
     "end_time": "2021-12-22T14:28:11.251992",
     "exception": false,
     "start_time": "2021-12-22T14:28:11.221831",
     "status": "completed"
    },
    "tags": []
   },
   "outputs": [],
   "source": [
    "from kaggle_secrets import UserSecretsClient\n",
    "from kaggle_datasets import KaggleDatasets"
   ]
  },
  {
   "cell_type": "code",
   "execution_count": 5,
   "id": "dc4cbe36",
   "metadata": {
    "execution": {
     "iopub.execute_input": "2021-12-22T14:28:11.300747Z",
     "iopub.status.busy": "2021-12-22T14:28:11.299585Z",
     "iopub.status.idle": "2021-12-22T14:28:11.404703Z",
     "shell.execute_reply": "2021-12-22T14:28:11.405195Z",
     "shell.execute_reply.started": "2021-12-22T14:23:21.577245Z"
    },
    "papermill": {
     "duration": 0.132378,
     "end_time": "2021-12-22T14:28:11.405376",
     "exception": false,
     "start_time": "2021-12-22T14:28:11.272998",
     "status": "completed"
    },
    "tags": []
   },
   "outputs": [],
   "source": [
    "import tensorflow as tf\n",
    "\n",
    "from tensorflow.keras import backend, optimizers, regularizers\n",
    "\n",
    "from tensorflow.keras.layers import *\n",
    "\n",
    "from tensorflow.keras.models import Sequential, Model\n",
    "\n",
    "# from tensorflow.keras.applications import *\n",
    "\n",
    "from tensorflow.keras.layers.experimental import preprocessing\n",
    "\n",
    "import tensorflow_addons as tfa"
   ]
  },
  {
   "cell_type": "markdown",
   "id": "fb75c12d",
   "metadata": {
    "papermill": {
     "duration": 0.021608,
     "end_time": "2021-12-22T14:28:11.448551",
     "exception": false,
     "start_time": "2021-12-22T14:28:11.426943",
     "status": "completed"
    },
    "tags": []
   },
   "source": [
    "# **Config**"
   ]
  },
  {
   "cell_type": "code",
   "execution_count": 6,
   "id": "0ca4209b",
   "metadata": {
    "execution": {
     "iopub.execute_input": "2021-12-22T14:28:11.498270Z",
     "iopub.status.busy": "2021-12-22T14:28:11.495540Z",
     "iopub.status.idle": "2021-12-22T14:28:11.500871Z",
     "shell.execute_reply": "2021-12-22T14:28:11.500447Z",
     "shell.execute_reply.started": "2021-12-22T14:23:21.688264Z"
    },
    "papermill": {
     "duration": 0.02947,
     "end_time": "2021-12-22T14:28:11.501011",
     "exception": false,
     "start_time": "2021-12-22T14:28:11.471541",
     "status": "completed"
    },
    "tags": []
   },
   "outputs": [],
   "source": [
    "def set_seed(tf_seed=0, np_seed=0, py_rand=0, py_hash=0):\n",
    "\n",
    "    os.environ['PYTHONHASHSEED'] = str(py_hash)\n",
    "    pyrand.seed(py_rand)\n",
    "\n",
    "    tf.random.set_seed(tf_seed)\n",
    "    np.random.seed(np_seed)"
   ]
  },
  {
   "cell_type": "code",
   "execution_count": 7,
   "id": "bd56a05e",
   "metadata": {
    "execution": {
     "iopub.execute_input": "2021-12-22T14:28:11.548260Z",
     "iopub.status.busy": "2021-12-22T14:28:11.547392Z",
     "iopub.status.idle": "2021-12-22T14:28:11.552120Z",
     "shell.execute_reply": "2021-12-22T14:28:11.551650Z",
     "shell.execute_reply.started": "2021-12-22T14:23:21.694290Z"
    },
    "papermill": {
     "duration": 0.029426,
     "end_time": "2021-12-22T14:28:11.552241",
     "exception": false,
     "start_time": "2021-12-22T14:28:11.522815",
     "status": "completed"
    },
    "tags": []
   },
   "outputs": [],
   "source": [
    "PATH = {'224': 'cisc22placesandscene224x224'}"
   ]
  },
  {
   "cell_type": "code",
   "execution_count": 8,
   "id": "c499a269",
   "metadata": {
    "execution": {
     "iopub.execute_input": "2021-12-22T14:28:11.599862Z",
     "iopub.status.busy": "2021-12-22T14:28:11.598999Z",
     "iopub.status.idle": "2021-12-22T14:28:11.601537Z",
     "shell.execute_reply": "2021-12-22T14:28:11.601109Z",
     "shell.execute_reply.started": "2021-12-22T14:23:21.706494Z"
    },
    "papermill": {
     "duration": 0.027824,
     "end_time": "2021-12-22T14:28:11.601645",
     "exception": false,
     "start_time": "2021-12-22T14:28:11.573821",
     "status": "completed"
    },
    "tags": []
   },
   "outputs": [],
   "source": [
    "class Config:\n",
    "    \n",
    "    SEED = 2053\n",
    "    \n",
    "    IMAGE_SIZE = (224, 224)\n",
    "\n",
    "    TRAIN_BATCH_SIZE = 32\n",
    "    VAL_BATCH_SIZE = 32\n",
    "        \n",
    "    SPLIT =10\n",
    "        \n",
    "    EPOCHS = 100\n",
    "    \n",
    "    TRAINING = True"
   ]
  },
  {
   "cell_type": "code",
   "execution_count": 9,
   "id": "a27acabe",
   "metadata": {
    "execution": {
     "iopub.execute_input": "2021-12-22T14:28:11.648656Z",
     "iopub.status.busy": "2021-12-22T14:28:11.647732Z",
     "iopub.status.idle": "2021-12-22T14:28:11.649809Z",
     "shell.execute_reply": "2021-12-22T14:28:11.650253Z",
     "shell.execute_reply.started": "2021-12-22T14:23:21.715678Z"
    },
    "papermill": {
     "duration": 0.027664,
     "end_time": "2021-12-22T14:28:11.650390",
     "exception": false,
     "start_time": "2021-12-22T14:28:11.622726",
     "status": "completed"
    },
    "tags": []
   },
   "outputs": [],
   "source": [
    "set_seed(Config.SEED)"
   ]
  },
  {
   "cell_type": "code",
   "execution_count": 10,
   "id": "6b73b056",
   "metadata": {
    "execution": {
     "iopub.execute_input": "2021-12-22T14:28:11.698402Z",
     "iopub.status.busy": "2021-12-22T14:28:11.697805Z",
     "iopub.status.idle": "2021-12-22T14:28:11.706870Z",
     "shell.execute_reply": "2021-12-22T14:28:11.707493Z",
     "shell.execute_reply.started": "2021-12-22T14:23:22.795035Z"
    },
    "papermill": {
     "duration": 0.036287,
     "end_time": "2021-12-22T14:28:11.707668",
     "exception": false,
     "start_time": "2021-12-22T14:28:11.671381",
     "status": "completed"
    },
    "tags": []
   },
   "outputs": [
    {
     "name": "stdout",
     "output_type": "stream",
     "text": [
      "REPLICAS:  1\n"
     ]
    }
   ],
   "source": [
    "try:\n",
    "    \n",
    "    tpu = tf.distribute.cluster_resolver.TPUClusterResolver()\n",
    "    \n",
    "    print('Running on TPU ', tpu.master())\n",
    "    \n",
    "except ValueError:\n",
    "  \n",
    "    tpu = None\n",
    "\n",
    "if tpu is not None:\n",
    "    \n",
    "    tf.config.experimental_connect_to_cluster(tpu)\n",
    "    tf.tpu.experimental.initialize_tpu_system(tpu)\n",
    "\n",
    "    strategy = tf.distribute.experimental.TPUStrategy(tpu)\n",
    "\n",
    "else:\n",
    "    \n",
    "    strategy = tf.distribute.get_strategy()\n",
    "\n",
    "\n",
    "print(\"REPLICAS: \", strategy.num_replicas_in_sync)"
   ]
  },
  {
   "cell_type": "code",
   "execution_count": 11,
   "id": "d30135cc",
   "metadata": {
    "execution": {
     "iopub.execute_input": "2021-12-22T14:28:11.759286Z",
     "iopub.status.busy": "2021-12-22T14:28:11.758366Z",
     "iopub.status.idle": "2021-12-22T14:28:15.468787Z",
     "shell.execute_reply": "2021-12-22T14:28:15.467660Z",
     "shell.execute_reply.started": "2021-12-22T14:23:23.623091Z"
    },
    "papermill": {
     "duration": 3.738277,
     "end_time": "2021-12-22T14:28:15.468933",
     "exception": false,
     "start_time": "2021-12-22T14:28:11.730656",
     "status": "completed"
    },
    "tags": []
   },
   "outputs": [],
   "source": [
    "user_secrets = UserSecretsClient()\n",
    "user_credential = user_secrets.get_gcloud_credential()\n",
    "\n",
    "user_secrets.set_tensorflow_credential(user_credential)\n",
    "\n",
    "GCS_DS_PATH = KaggleDatasets().get_gcs_path(PATH['224'])"
   ]
  },
  {
   "cell_type": "code",
   "execution_count": 12,
   "id": "015bed22",
   "metadata": {
    "execution": {
     "iopub.execute_input": "2021-12-22T14:28:15.517812Z",
     "iopub.status.busy": "2021-12-22T14:28:15.516990Z",
     "iopub.status.idle": "2021-12-22T14:28:15.833915Z",
     "shell.execute_reply": "2021-12-22T14:28:15.834388Z",
     "shell.execute_reply.started": "2021-12-22T14:23:27.471547Z"
    },
    "papermill": {
     "duration": 0.343768,
     "end_time": "2021-12-22T14:28:15.834556",
     "exception": false,
     "start_time": "2021-12-22T14:28:15.490788",
     "status": "completed"
    },
    "tags": []
   },
   "outputs": [],
   "source": [
    "augmentations = []\n",
    "\n",
    "augmentations.append(preprocessing.RandomFlip(mode='horizontal'))\n",
    "augmentations.append(preprocessing.RandomContrast(factor=0.8))\n",
    "augmentations.append(preprocessing.RandomRotation(factor=0.1, dtype=tf.float32))\n",
    "\n",
    "augmentations = Sequential(augmentations)"
   ]
  },
  {
   "cell_type": "markdown",
   "id": "74a8af9b",
   "metadata": {
    "papermill": {
     "duration": 0.020812,
     "end_time": "2021-12-22T14:28:15.877437",
     "exception": false,
     "start_time": "2021-12-22T14:28:15.856625",
     "status": "completed"
    },
    "tags": []
   },
   "source": [
    "# **Load Data**"
   ]
  },
  {
   "cell_type": "code",
   "execution_count": 13,
   "id": "d3fd7889",
   "metadata": {
    "execution": {
     "iopub.execute_input": "2021-12-22T14:28:15.924816Z",
     "iopub.status.busy": "2021-12-22T14:28:15.923929Z",
     "iopub.status.idle": "2021-12-22T14:28:15.925760Z",
     "shell.execute_reply": "2021-12-22T14:28:15.926268Z",
     "shell.execute_reply.started": "2021-12-22T14:23:27.781670Z"
    },
    "papermill": {
     "duration": 0.027847,
     "end_time": "2021-12-22T14:28:15.926412",
     "exception": false,
     "start_time": "2021-12-22T14:28:15.898565",
     "status": "completed"
    },
    "tags": []
   },
   "outputs": [],
   "source": [
    "AUTOTUNE = tf.data.experimental.AUTOTUNE\n",
    "\n",
    "ignore_order = tf.data.Options()\n",
    "ignore_order.experimental_deterministic = False"
   ]
  },
  {
   "cell_type": "code",
   "execution_count": 14,
   "id": "264cddc0",
   "metadata": {
    "execution": {
     "iopub.execute_input": "2021-12-22T14:28:15.974356Z",
     "iopub.status.busy": "2021-12-22T14:28:15.973743Z",
     "iopub.status.idle": "2021-12-22T14:28:16.127580Z",
     "shell.execute_reply": "2021-12-22T14:28:16.126536Z",
     "shell.execute_reply.started": "2021-12-22T14:23:27.789364Z"
    },
    "papermill": {
     "duration": 0.180255,
     "end_time": "2021-12-22T14:28:16.127720",
     "exception": false,
     "start_time": "2021-12-22T14:28:15.947465",
     "status": "completed"
    },
    "tags": []
   },
   "outputs": [
    {
     "name": "stdout",
     "output_type": "stream",
     "text": [
      "50\n"
     ]
    }
   ],
   "source": [
    "train_rec = tf.io.gfile.glob(GCS_DS_PATH + '/train/train/*')\n",
    "\n",
    "train_rec = np.array(train_rec)\n",
    "\n",
    "print(len(train_rec))"
   ]
  },
  {
   "cell_type": "code",
   "execution_count": 15,
   "id": "eb49d6a5",
   "metadata": {
    "execution": {
     "iopub.execute_input": "2021-12-22T14:28:16.181836Z",
     "iopub.status.busy": "2021-12-22T14:28:16.181072Z",
     "iopub.status.idle": "2021-12-22T14:28:16.183276Z",
     "shell.execute_reply": "2021-12-22T14:28:16.183718Z",
     "shell.execute_reply.started": "2021-12-22T14:23:28.054187Z"
    },
    "papermill": {
     "duration": 0.033043,
     "end_time": "2021-12-22T14:28:16.183848",
     "exception": false,
     "start_time": "2021-12-22T14:28:16.150805",
     "status": "completed"
    },
    "tags": []
   },
   "outputs": [],
   "source": [
    "@tf.function\n",
    "def add_perturbation(y, ratio=0.25):\n",
    "    \n",
    "    batch_size = tf.shape(y)[0]\n",
    "    num_classes = tf.shape(y)[1]\n",
    "    \n",
    "    if batch_size < 4:\n",
    "        \n",
    "        return y\n",
    "    \n",
    "    y = tf.math.argmax(y, axis=-1)\n",
    "    \n",
    "    size = tf.cast(batch_size, dtype=tf.float32)\n",
    "    size = tf.cast(tf.math.ceil(ratio * size), dtype=tf.int32)\n",
    "    \n",
    "    indices = tf.random.uniform(shape=(size, 1), minval=0, maxval=batch_size, dtype=tf.int32)\n",
    "    values = tf.random.uniform(shape=(size, ), minval=0, maxval=6, dtype=tf.int32)\n",
    "    \n",
    "    y = tf.cast(y, dtype=tf.int32)\n",
    "    \n",
    "    y = tf.tensor_scatter_nd_update(y, indices, values)\n",
    "    \n",
    "    return tf.one_hot(y, depth=num_classes)"
   ]
  },
  {
   "cell_type": "code",
   "execution_count": 16,
   "id": "72d6b33e",
   "metadata": {
    "execution": {
     "iopub.execute_input": "2021-12-22T14:28:16.233229Z",
     "iopub.status.busy": "2021-12-22T14:28:16.232370Z",
     "iopub.status.idle": "2021-12-22T14:28:16.234737Z",
     "shell.execute_reply": "2021-12-22T14:28:16.234332Z",
     "shell.execute_reply.started": "2021-12-22T14:23:28.065043Z"
    },
    "papermill": {
     "duration": 0.02903,
     "end_time": "2021-12-22T14:28:16.234852",
     "exception": false,
     "start_time": "2021-12-22T14:28:16.205822",
     "status": "completed"
    },
    "tags": []
   },
   "outputs": [],
   "source": [
    "def train_processing(x, y):\n",
    "        \n",
    "    x = tf.cast(x, dtype=tf.float32)\n",
    "#     x /= 255.0\n",
    "        \n",
    "    y = tf.one_hot(y, depth=6)\n",
    "    \n",
    "    return augmentations(x, training=Config.TRAINING), y"
   ]
  },
  {
   "cell_type": "code",
   "execution_count": 17,
   "id": "4519c7b7",
   "metadata": {
    "execution": {
     "iopub.execute_input": "2021-12-22T14:28:16.281118Z",
     "iopub.status.busy": "2021-12-22T14:28:16.280264Z",
     "iopub.status.idle": "2021-12-22T14:28:16.289457Z",
     "shell.execute_reply": "2021-12-22T14:28:16.288931Z",
     "shell.execute_reply.started": "2021-12-22T14:23:28.074711Z"
    },
    "papermill": {
     "duration": 0.033262,
     "end_time": "2021-12-22T14:28:16.289580",
     "exception": false,
     "start_time": "2021-12-22T14:28:16.256318",
     "status": "completed"
    },
    "tags": []
   },
   "outputs": [],
   "source": [
    "def split_generator(train_idx, val_idx):\n",
    "    \n",
    "    dtype = {'image': 'bytes', 'label': 'int64'}\n",
    "    \n",
    "    reader = io.TfRecordReader(features_dtype=dtype,  image_key='image', \n",
    "                               tfrecord_shape=[*Config.IMAGE_SIZE, 3],  \n",
    "                               shape=None, channels=3,  func=None)\n",
    "    \n",
    "    train_data = tf.data.TFRecordDataset(train_rec[train_idx], num_parallel_reads=AUTOTUNE)\n",
    "    train_data = train_data.with_options(ignore_order)\n",
    "\n",
    "    train_data = train_data.map(reader.read_tfrecord, num_parallel_calls=AUTOTUNE)\n",
    "    train_data = train_data.shuffle(512, reshuffle_each_iteration=True)\n",
    "    train_data = train_data.batch(Config.TRAIN_BATCH_SIZE)\n",
    "    train_data = train_data.prefetch(AUTOTUNE)\n",
    "    train_data = train_data.map(train_processing)\n",
    "    \n",
    "    val_data = tf.data.TFRecordDataset(train_rec[val_idx], num_parallel_reads=AUTOTUNE)\n",
    "    val_data = val_data.with_options(ignore_order)\n",
    "\n",
    "    val_data = val_data.map(reader.read_tfrecord, num_parallel_calls=AUTOTUNE)\n",
    "    val_data = val_data.batch(Config.VAL_BATCH_SIZE)\n",
    "    val_data = val_data.prefetch(AUTOTUNE)\n",
    "    val_data = val_data.map(train_processing)\n",
    "    \n",
    "    return train_data, val_data"
   ]
  },
  {
   "cell_type": "code",
   "execution_count": 18,
   "id": "41ada565",
   "metadata": {
    "execution": {
     "iopub.execute_input": "2021-12-22T14:28:16.338803Z",
     "iopub.status.busy": "2021-12-22T14:28:16.338031Z",
     "iopub.status.idle": "2021-12-22T14:28:18.608390Z",
     "shell.execute_reply": "2021-12-22T14:28:18.607921Z",
     "shell.execute_reply.started": "2021-12-22T14:23:28.088243Z"
    },
    "papermill": {
     "duration": 2.297474,
     "end_time": "2021-12-22T14:28:18.608515",
     "exception": false,
     "start_time": "2021-12-22T14:28:16.311041",
     "status": "completed"
    },
    "tags": []
   },
   "outputs": [
    {
     "data": {
      "image/png": "[encoded data removed]",
      "text/plain": [
       "<Figure size 432x288 with 1 Axes>"
      ]
     },
     "metadata": {
      "needs_background": "light"
     },
     "output_type": "display_data"
    }
   ],
   "source": [
    "sample_x, sample_y = split_generator(0, 1)[0].unbatch().as_numpy_iterator().next()\n",
    "\n",
    "plt.imshow(sample_x / 255.0)\n",
    "plt.title(f'label = {int(sample_y.argmax())}')\n",
    "plt.axis('off')\n",
    "plt.show()"
   ]
  },
  {
   "cell_type": "markdown",
   "id": "9ff63d96",
   "metadata": {
    "papermill": {
     "duration": 0.024003,
     "end_time": "2021-12-22T14:28:18.656558",
     "exception": false,
     "start_time": "2021-12-22T14:28:18.632555",
     "status": "completed"
    },
    "tags": []
   },
   "source": [
    "# **Build Model**"
   ]
  },
  {
   "cell_type": "code",
   "execution_count": 19,
   "id": "4714d415",
   "metadata": {
    "execution": {
     "iopub.execute_input": "2021-12-22T14:28:18.710730Z",
     "iopub.status.busy": "2021-12-22T14:28:18.709851Z",
     "iopub.status.idle": "2021-12-22T14:28:18.711873Z",
     "shell.execute_reply": "2021-12-22T14:28:18.712259Z",
     "shell.execute_reply.started": "2021-12-22T14:23:30.583233Z"
    },
    "papermill": {
     "duration": 0.031088,
     "end_time": "2021-12-22T14:28:18.712397",
     "exception": false,
     "start_time": "2021-12-22T14:28:18.681309",
     "status": "completed"
    },
    "tags": []
   },
   "outputs": [],
   "source": [
    "input_shape = (*Config.IMAGE_SIZE, 3)"
   ]
  },
  {
   "cell_type": "code",
   "execution_count": 20,
   "id": "32b99b58",
   "metadata": {
    "execution": {
     "iopub.execute_input": "2021-12-22T14:28:18.765426Z",
     "iopub.status.busy": "2021-12-22T14:28:18.764872Z",
     "iopub.status.idle": "2021-12-22T14:28:33.779248Z",
     "shell.execute_reply": "2021-12-22T14:28:33.779736Z",
     "shell.execute_reply.started": "2021-12-22T14:23:30.589348Z"
    },
    "papermill": {
     "duration": 15.043742,
     "end_time": "2021-12-22T14:28:33.779903",
     "exception": false,
     "start_time": "2021-12-22T14:28:18.736161",
     "status": "completed"
    },
    "tags": []
   },
   "outputs": [],
   "source": [
    "with strategy.scope():\n",
    "    \n",
    "    efficientnet = tf.keras.models.load_model('../input/cisc22buildefficientnetbn/efficientnetb7.h5', compile=False)\n",
    "    \n",
    "    efficientnet.load_weights('../input/cisc22buildefficientnetbn/noisy_student_efficientnet-b7.h5')\n",
    "    \n",
    "    outputs = []\n",
    "    \n",
    "    outputs.append(efficientnet.get_layer('block2g_add').output)\n",
    "    outputs.append(efficientnet.get_layer('block3g_add').output)\n",
    "    \n",
    "    backbone = Model(efficientnet.inputs, outputs)"
   ]
  },
  {
   "cell_type": "code",
   "execution_count": 21,
   "id": "48398b11",
   "metadata": {
    "execution": {
     "iopub.execute_input": "2021-12-22T14:28:33.841609Z",
     "iopub.status.busy": "2021-12-22T14:28:33.836760Z",
     "iopub.status.idle": "2021-12-22T14:28:33.844303Z",
     "shell.execute_reply": "2021-12-22T14:28:33.843828Z",
     "shell.execute_reply.started": "2021-12-22T14:23:49.166417Z"
    },
    "papermill": {
     "duration": 0.039799,
     "end_time": "2021-12-22T14:28:33.844436",
     "exception": false,
     "start_time": "2021-12-22T14:28:33.804637",
     "status": "completed"
    },
    "tags": []
   },
   "outputs": [],
   "source": [
    "class ARD(Model):\n",
    "    \n",
    "    def __init__(self, *args, **kwargs):\n",
    "        \n",
    "        super(ARD, self).__init__(*args, **kwargs)\n",
    "        \n",
    "        self.compile_discriminator()\n",
    "        \n",
    "    def compile_discriminator(self):\n",
    "        \n",
    "        inputs = Input(shape=(6, ))\n",
    "        \n",
    "        z = Dense(1000)(inputs)\n",
    "        z = Activation('swish')(z)\n",
    "        z = GaussianDropout(0.1)(z)\n",
    "        \n",
    "        z = Dense(1000)(z)\n",
    "        z = Activation('swish')(z)\n",
    "        \n",
    "        l1_l2 = regularizers.l1_l2(l1=0.5)\n",
    "        \n",
    "        outputs = Dense(1, kernel_regularizer=l1_l2)(z)\n",
    "        \n",
    "        outputs = Activation('sigmoid')(outputs)\n",
    "        \n",
    "        self.discriminator = Model(inputs, outputs, name='discriminator')\n",
    "        \n",
    "    def train_step(self, data):\n",
    "\n",
    "        x, y = data\n",
    "        \n",
    "        y_perturbed = add_perturbation(y)\n",
    "\n",
    "        with tf.GradientTape() as tape:\n",
    "\n",
    "            y_pred = self(x, training=True)\n",
    "            \n",
    "            true_sample = self.discriminator(y_perturbed)\n",
    "            fake_sample = self.discriminator(y_pred)\n",
    "            \n",
    "            ard_loss = backend.binary_crossentropy(true_sample, fake_sample)\n",
    "            ard_loss = backend.mean(ard_loss)\n",
    "            \n",
    "            loss = self.compiled_loss(y, y_pred, regularization_losses=self.losses)\n",
    "            loss += 2.0 * ard_loss\n",
    "        \n",
    "        # -------------------------------------------------------\n",
    "\n",
    "        trainable_vars = self.trainable_variables\n",
    "        gradients = tape.gradient(loss, trainable_vars)\n",
    "\n",
    "        # -------------------------------------------------------\n",
    "        # update\n",
    "        self.optimizer.apply_gradients(zip(gradients, trainable_vars))\n",
    "\n",
    "        # -------------------------------------------------------\n",
    "\n",
    "        self.compiled_metrics.update_state(y, y_pred)\n",
    "\n",
    "        # -------------------------------------------------------\n",
    "        \n",
    "        ret = {'ard_loss': ard_loss}\n",
    "        \n",
    "        ret.update({m.name: m.result() for m in self.metrics})\n",
    "        \n",
    "        return ret"
   ]
  },
  {
   "cell_type": "code",
   "execution_count": 22,
   "id": "905e9ee9",
   "metadata": {
    "execution": {
     "iopub.execute_input": "2021-12-22T14:28:33.904293Z",
     "iopub.status.busy": "2021-12-22T14:28:33.902171Z",
     "iopub.status.idle": "2021-12-22T14:28:33.906807Z",
     "shell.execute_reply": "2021-12-22T14:28:33.906353Z",
     "shell.execute_reply.started": "2021-12-22T14:25:16.537311Z"
    },
    "papermill": {
     "duration": 0.03659,
     "end_time": "2021-12-22T14:28:33.906932",
     "exception": false,
     "start_time": "2021-12-22T14:28:33.870342",
     "status": "completed"
    },
    "tags": []
   },
   "outputs": [],
   "source": [
    "def build_model():\n",
    "    \n",
    "    backbone.trainable = False\n",
    "    \n",
    "    # ===================================================================================\n",
    "    \n",
    "    inputs = Input(shape=input_shape)\n",
    "    \n",
    "    block2g, block3g = backbone(inputs)\n",
    "    \n",
    "    z0 = Conv2D(filters=1024, kernel_size=(1, 1), activation='linear', kernel_regularizer=None)(block2g)\n",
    "    z0 = GlobalAveragePooling2D()(z0)\n",
    "\n",
    "    z1 = Conv2D(filters=1024, kernel_size=(1, 1), activation='swish', kernel_regularizer=None)(block3g)\n",
    "    z1 = Dropout(0.2)(z1)    \n",
    "    z1 = GlobalAveragePooling2D()(z1)\n",
    "    \n",
    "    z = Concatenate(axis=-1)([z0, z1])\n",
    "    \n",
    "    # ===================================================================================\n",
    "\n",
    "    y_logits = Dense(6, name='y_logits')(z)\n",
    "    y_proba = Activation('softmax', name='y_proba')(y_logits)\n",
    "    \n",
    "    # ===================================================================================\n",
    "\n",
    "    model = ARD(inputs, y_proba)\n",
    "    \n",
    "    # ===================================================================================\n",
    "    \n",
    "    optimizer = optimizers.Adam(learning_rate=5e-7, beta_1=0.9, beta_2=0.999)\n",
    "    \n",
    "    loss = tf.losses.CategoricalCrossentropy(label_smoothing=0.01, name='categorical_crossentropy')\n",
    "    metrics = tf.metrics.CategoricalAccuracy(name='accuracy_score')\n",
    "    \n",
    "    model.compile(optimizer=optimizer, loss=loss, metrics=metrics)\n",
    "    \n",
    "    # ===================================================================================\n",
    "\n",
    "    return model"
   ]
  },
  {
   "cell_type": "code",
   "execution_count": 23,
   "id": "ff41d2ed",
   "metadata": {
    "execution": {
     "iopub.execute_input": "2021-12-22T14:28:33.973256Z",
     "iopub.status.busy": "2021-12-22T14:28:33.972341Z",
     "iopub.status.idle": "2021-12-22T14:28:34.713438Z",
     "shell.execute_reply": "2021-12-22T14:28:34.713865Z",
     "shell.execute_reply.started": "2021-12-22T14:25:17.185388Z"
    },
    "papermill": {
     "duration": 0.781361,
     "end_time": "2021-12-22T14:28:34.714025",
     "exception": false,
     "start_time": "2021-12-22T14:28:33.932664",
     "status": "completed"
    },
    "tags": []
   },
   "outputs": [
    {
     "name": "stdout",
     "output_type": "stream",
     "text": [
      "Model: \"ard\"\n",
      "__________________________________________________________________________________________________\n",
      "Layer (type)                    Output Shape         Param #     Connected to                     \n",
      "==================================================================================================\n",
      "input_1 (InputLayer)            [(None, 224, 224, 3) 0                                            \n",
      "__________________________________________________________________________________________________\n",
      "model (Functional)              [(None, 28, 28, 48), 1005128     input_1[0][0]                    \n",
      "__________________________________________________________________________________________________\n",
      "conv2d_1 (Conv2D)               (None, 7, 7, 1024)   82944       model[0][1]                      \n",
      "__________________________________________________________________________________________________\n",
      "conv2d (Conv2D)                 (None, 28, 28, 1024) 50176       model[0][0]                      \n",
      "__________________________________________________________________________________________________\n",
      "dropout (Dropout)               (None, 7, 7, 1024)   0           conv2d_1[0][0]                   \n",
      "__________________________________________________________________________________________________\n",
      "global_average_pooling2d (Globa (None, 1024)         0           conv2d[0][0]                     \n",
      "__________________________________________________________________________________________________\n",
      "global_average_pooling2d_1 (Glo (None, 1024)         0           dropout[0][0]                    \n",
      "__________________________________________________________________________________________________\n",
      "concatenate (Concatenate)       (None, 2048)         0           global_average_pooling2d[0][0]   \n",
      "                                                                 global_average_pooling2d_1[0][0] \n",
      "__________________________________________________________________________________________________\n",
      "y_logits (Dense)                (None, 6)            12294       concatenate[0][0]                \n",
      "__________________________________________________________________________________________________\n",
      "y_proba (Activation)            (None, 6)            0           y_logits[0][0]                   \n",
      "__________________________________________________________________________________________________\n",
      "discriminator (Functional)      (None, 1)            1009001                                      \n",
      "==================================================================================================\n",
      "Total params: 2,159,543\n",
      "Trainable params: 1,154,415\n",
      "Non-trainable params: 1,005,128\n",
      "__________________________________________________________________________________________________\n"
     ]
    }
   ],
   "source": [
    "build_model().summary()"
   ]
  },
  {
   "cell_type": "markdown",
   "id": "d2bc5426",
   "metadata": {
    "papermill": {
     "duration": 0.024011,
     "end_time": "2021-12-22T14:28:34.762117",
     "exception": false,
     "start_time": "2021-12-22T14:28:34.738106",
     "status": "completed"
    },
    "tags": []
   },
   "source": [
    "# **Train Model**"
   ]
  },
  {
   "cell_type": "code",
   "execution_count": 24,
   "id": "f7bb7b66",
   "metadata": {
    "execution": {
     "iopub.execute_input": "2021-12-22T14:28:34.815180Z",
     "iopub.status.busy": "2021-12-22T14:28:34.814608Z",
     "iopub.status.idle": "2021-12-22T14:28:34.825147Z",
     "shell.execute_reply": "2021-12-22T14:28:34.825734Z",
     "shell.execute_reply.started": "2021-12-22T14:25:18.158738Z"
    },
    "papermill": {
     "duration": 0.03949,
     "end_time": "2021-12-22T14:28:34.825910",
     "exception": false,
     "start_time": "2021-12-22T14:28:34.786420",
     "status": "completed"
    },
    "tags": []
   },
   "outputs": [
    {
     "name": "stdout",
     "output_type": "stream",
     "text": [
      "1\n"
     ]
    }
   ],
   "source": [
    "weights_path = tf.io.gfile.glob('../input/cisc22placesandscenepretrainedtrainv0/weights-*.h5')\n",
    "\n",
    "print(len(weights_path))"
   ]
  },
  {
   "cell_type": "code",
   "execution_count": 25,
   "id": "34128021",
   "metadata": {
    "execution": {
     "iopub.execute_input": "2021-12-22T14:28:34.886377Z",
     "iopub.status.busy": "2021-12-22T14:28:34.885497Z",
     "iopub.status.idle": "2021-12-22T17:38:42.064623Z",
     "shell.execute_reply": "2021-12-22T17:38:42.065066Z",
     "shell.execute_reply.started": "2021-12-22T14:25:18.855612Z"
    },
    "papermill": {
     "duration": 11407.213747,
     "end_time": "2021-12-22T17:38:42.065242",
     "exception": false,
     "start_time": "2021-12-22T14:28:34.851495",
     "status": "completed"
    },
    "tags": []
   },
   "outputs": [
    {
     "name": "stdout",
     "output_type": "stream",
     "text": [
      "fold 0 - ====================================================================================================\n",
      "Epoch 1/100\n",
      "384/384 [==============================] - 127s 297ms/step - ard_loss: 0.0023 - loss: 0.6288 - accuracy_score: 0.8166 - val_loss: 0.6155 - val_accuracy_score: 0.8205\n",
      "Epoch 2/100\n",
      "384/384 [==============================] - 113s 291ms/step - ard_loss: 0.0023 - loss: 0.6320 - accuracy_score: 0.8130 - val_loss: 0.6142 - val_accuracy_score: 0.8278\n",
      "Epoch 3/100\n",
      "384/384 [==============================] - 112s 291ms/step - ard_loss: 0.0023 - loss: 0.6204 - accuracy_score: 0.8122 - val_loss: 0.6089 - val_accuracy_score: 0.8205\n",
      "Epoch 4/100\n",
      "384/384 [==============================] - 113s 293ms/step - ard_loss: 0.0023 - loss: 0.6197 - accuracy_score: 0.8143 - val_loss: 0.6061 - val_accuracy_score: 0.8220\n",
      "Epoch 5/100\n",
      "384/384 [==============================] - 113s 292ms/step - ard_loss: 0.0023 - loss: 0.6319 - accuracy_score: 0.8078 - val_loss: 0.6035 - val_accuracy_score: 0.8168\n",
      "Epoch 6/100\n",
      "384/384 [==============================] - 114s 295ms/step - ard_loss: 0.0023 - loss: 0.6277 - accuracy_score: 0.8086 - val_loss: 0.6015 - val_accuracy_score: 0.8300\n",
      "Epoch 7/100\n",
      "384/384 [==============================] - 113s 291ms/step - ard_loss: 0.0022 - loss: 0.6232 - accuracy_score: 0.8135 - val_loss: 0.6206 - val_accuracy_score: 0.8161\n",
      "Epoch 8/100\n",
      "384/384 [==============================] - 112s 291ms/step - ard_loss: 0.0022 - loss: 0.6149 - accuracy_score: 0.8149 - val_loss: 0.6184 - val_accuracy_score: 0.8022\n",
      "Epoch 9/100\n",
      "384/384 [==============================] - 113s 292ms/step - ard_loss: 0.0022 - loss: 0.6175 - accuracy_score: 0.8111 - val_loss: 0.6146 - val_accuracy_score: 0.8161\n",
      "Epoch 10/100\n",
      "384/384 [==============================] - 114s 295ms/step - ard_loss: 0.0022 - loss: 0.6268 - accuracy_score: 0.8113 - val_loss: 0.6049 - val_accuracy_score: 0.8256\n",
      "Epoch 11/100\n",
      "384/384 [==============================] - 112s 289ms/step - ard_loss: 0.0022 - loss: 0.6314 - accuracy_score: 0.8061 - val_loss: 0.6215 - val_accuracy_score: 0.8183\n",
      "Epoch 12/100\n",
      "384/384 [==============================] - 114s 294ms/step - ard_loss: 0.0022 - loss: 0.6271 - accuracy_score: 0.8137 - val_loss: 0.6135 - val_accuracy_score: 0.8205\n",
      "Epoch 13/100\n",
      "384/384 [==============================] - 113s 291ms/step - ard_loss: 0.0022 - loss: 0.6159 - accuracy_score: 0.8175 - val_loss: 0.6150 - val_accuracy_score: 0.8227\n",
      "Epoch 14/100\n",
      "384/384 [==============================] - 113s 292ms/step - ard_loss: 0.0022 - loss: 0.6224 - accuracy_score: 0.8129 - val_loss: 0.6150 - val_accuracy_score: 0.8212\n",
      "Epoch 15/100\n",
      "384/384 [==============================] - 115s 297ms/step - ard_loss: 0.0022 - loss: 0.6240 - accuracy_score: 0.8119 - val_loss: 0.6222 - val_accuracy_score: 0.8161\n",
      "Epoch 16/100\n",
      "384/384 [==============================] - 112s 291ms/step - ard_loss: 0.0022 - loss: 0.6264 - accuracy_score: 0.8106 - val_loss: 0.6141 - val_accuracy_score: 0.8154\n",
      "Epoch 17/100\n",
      "384/384 [==============================] - 114s 294ms/step - ard_loss: 0.0022 - loss: 0.6207 - accuracy_score: 0.8115 - val_loss: 0.6198 - val_accuracy_score: 0.8154\n",
      "Epoch 18/100\n",
      "384/384 [==============================] - 116s 297ms/step - ard_loss: 0.0022 - loss: 0.6259 - accuracy_score: 0.8131 - val_loss: 0.6170 - val_accuracy_score: 0.8198\n",
      "Epoch 19/100\n",
      "384/384 [==============================] - 113s 292ms/step - ard_loss: 0.0022 - loss: 0.6325 - accuracy_score: 0.8057 - val_loss: 0.6197 - val_accuracy_score: 0.8117\n",
      "Epoch 20/100\n",
      "384/384 [==============================] - 114s 294ms/step - ard_loss: 0.0022 - loss: 0.6216 - accuracy_score: 0.8107 - val_loss: 0.6166 - val_accuracy_score: 0.8117\n",
      "Epoch 21/100\n",
      "384/384 [==============================] - 115s 297ms/step - ard_loss: 0.0022 - loss: 0.6385 - accuracy_score: 0.8068 - val_loss: 0.6160 - val_accuracy_score: 0.8183\n",
      "Epoch 22/100\n",
      "384/384 [==============================] - 115s 298ms/step - ard_loss: 0.0022 - loss: 0.6364 - accuracy_score: 0.8043 - val_loss: 0.6063 - val_accuracy_score: 0.8264\n",
      "Epoch 23/100\n",
      "384/384 [==============================] - 116s 299ms/step - ard_loss: 0.0022 - loss: 0.6248 - accuracy_score: 0.8114 - val_loss: 0.6055 - val_accuracy_score: 0.8176\n",
      "Epoch 24/100\n",
      "384/384 [==============================] - 116s 298ms/step - ard_loss: 0.0022 - loss: 0.6251 - accuracy_score: 0.8148 - val_loss: 0.6212 - val_accuracy_score: 0.8117\n",
      "Epoch 25/100\n",
      "384/384 [==============================] - 115s 297ms/step - ard_loss: 0.0022 - loss: 0.6204 - accuracy_score: 0.8116 - val_loss: 0.6183 - val_accuracy_score: 0.8161\n",
      "Epoch 26/100\n",
      "384/384 [==============================] - 115s 297ms/step - ard_loss: 0.0022 - loss: 0.6305 - accuracy_score: 0.8112 - val_loss: 0.6207 - val_accuracy_score: 0.8147\n",
      "Epoch 27/100\n",
      "384/384 [==============================] - 119s 306ms/step - ard_loss: 0.0022 - loss: 0.6254 - accuracy_score: 0.8083 - val_loss: 0.6180 - val_accuracy_score: 0.8154\n",
      "Epoch 28/100\n",
      "384/384 [==============================] - 117s 302ms/step - ard_loss: 0.0022 - loss: 0.6245 - accuracy_score: 0.8116 - val_loss: 0.6178 - val_accuracy_score: 0.8117\n",
      "Epoch 29/100\n",
      "384/384 [==============================] - 116s 300ms/step - ard_loss: 0.0022 - loss: 0.6278 - accuracy_score: 0.8169 - val_loss: 0.6259 - val_accuracy_score: 0.8132\n",
      "Epoch 30/100\n",
      "384/384 [==============================] - 114s 295ms/step - ard_loss: 0.0022 - loss: 0.6230 - accuracy_score: 0.8089 - val_loss: 0.6108 - val_accuracy_score: 0.8227\n",
      "Epoch 31/100\n",
      "384/384 [==============================] - 117s 302ms/step - ard_loss: 0.0022 - loss: 0.6281 - accuracy_score: 0.8070 - val_loss: 0.6117 - val_accuracy_score: 0.8110\n",
      "Epoch 32/100\n",
      "384/384 [==============================] - 116s 299ms/step - ard_loss: 0.0022 - loss: 0.6153 - accuracy_score: 0.8188 - val_loss: 0.6163 - val_accuracy_score: 0.8198\n",
      "Epoch 33/100\n",
      "384/384 [==============================] - 114s 294ms/step - ard_loss: 0.0022 - loss: 0.6255 - accuracy_score: 0.8116 - val_loss: 0.6068 - val_accuracy_score: 0.8190\n",
      "Epoch 34/100\n",
      "384/384 [==============================] - 114s 293ms/step - ard_loss: 0.0022 - loss: 0.6207 - accuracy_score: 0.8168 - val_loss: 0.6068 - val_accuracy_score: 0.8176\n",
      "Epoch 35/100\n",
      "384/384 [==============================] - 114s 293ms/step - ard_loss: 0.0022 - loss: 0.6157 - accuracy_score: 0.8182 - val_loss: 0.6067 - val_accuracy_score: 0.8198\n",
      "Epoch 36/100\n",
      "384/384 [==============================] - 113s 292ms/step - ard_loss: 0.0022 - loss: 0.6244 - accuracy_score: 0.8093 - val_loss: 0.6177 - val_accuracy_score: 0.8117\n",
      "Epoch 37/100\n",
      "384/384 [==============================] - 115s 297ms/step - ard_loss: 0.0022 - loss: 0.6196 - accuracy_score: 0.8217 - val_loss: 0.6127 - val_accuracy_score: 0.8176\n",
      "Epoch 38/100\n",
      "384/384 [==============================] - 111s 288ms/step - ard_loss: 0.0022 - loss: 0.6345 - accuracy_score: 0.8132 - val_loss: 0.6201 - val_accuracy_score: 0.8073\n",
      "Epoch 39/100\n",
      "384/384 [==============================] - 112s 290ms/step - ard_loss: 0.0022 - loss: 0.6193 - accuracy_score: 0.8139 - val_loss: 0.6112 - val_accuracy_score: 0.8088\n",
      "Epoch 40/100\n",
      "384/384 [==============================] - 114s 295ms/step - ard_loss: 0.0022 - loss: 0.6170 - accuracy_score: 0.8128 - val_loss: 0.6226 - val_accuracy_score: 0.8147\n",
      "Epoch 41/100\n",
      "384/384 [==============================] - 110s 285ms/step - ard_loss: 0.0022 - loss: 0.6138 - accuracy_score: 0.8113 - val_loss: 0.5990 - val_accuracy_score: 0.8212\n",
      "Epoch 42/100\n",
      "384/384 [==============================] - 113s 291ms/step - ard_loss: 0.0022 - loss: 0.6165 - accuracy_score: 0.8200 - val_loss: 0.6021 - val_accuracy_score: 0.8359\n",
      "Epoch 43/100\n",
      "384/384 [==============================] - 114s 296ms/step - ard_loss: 0.0022 - loss: 0.6166 - accuracy_score: 0.8170 - val_loss: 0.6124 - val_accuracy_score: 0.8147\n",
      "Epoch 44/100\n",
      "384/384 [==============================] - 112s 289ms/step - ard_loss: 0.0022 - loss: 0.6169 - accuracy_score: 0.8161 - val_loss: 0.6068 - val_accuracy_score: 0.8278\n",
      "Epoch 45/100\n",
      "384/384 [==============================] - 113s 291ms/step - ard_loss: 0.0022 - loss: 0.6221 - accuracy_score: 0.8087 - val_loss: 0.6203 - val_accuracy_score: 0.8176\n",
      "Epoch 46/100\n",
      "384/384 [==============================] - 113s 293ms/step - ard_loss: 0.0022 - loss: 0.6213 - accuracy_score: 0.8158 - val_loss: 0.6154 - val_accuracy_score: 0.8183\n",
      "Epoch 47/100\n",
      "384/384 [==============================] - 110s 285ms/step - ard_loss: 0.0022 - loss: 0.6298 - accuracy_score: 0.8077 - val_loss: 0.6349 - val_accuracy_score: 0.8081\n",
      "Epoch 48/100\n",
      "384/384 [==============================] - 113s 294ms/step - ard_loss: 0.0021 - loss: 0.6281 - accuracy_score: 0.8074 - val_loss: 0.6215 - val_accuracy_score: 0.8088\n",
      "Epoch 49/100\n",
      "384/384 [==============================] - 114s 295ms/step - ard_loss: 0.0021 - loss: 0.6270 - accuracy_score: 0.8147 - val_loss: 0.6099 - val_accuracy_score: 0.8176\n",
      "Epoch 50/100\n",
      "384/384 [==============================] - 111s 286ms/step - ard_loss: 0.0021 - loss: 0.6198 - accuracy_score: 0.8175 - val_loss: 0.6082 - val_accuracy_score: 0.8242\n",
      "Epoch 51/100\n",
      "384/384 [==============================] - 113s 292ms/step - ard_loss: 0.0021 - loss: 0.6188 - accuracy_score: 0.8126 - val_loss: 0.6189 - val_accuracy_score: 0.8212\n",
      "Epoch 52/100\n",
      "384/384 [==============================] - 111s 288ms/step - ard_loss: 0.0021 - loss: 0.6178 - accuracy_score: 0.8118 - val_loss: 0.6175 - val_accuracy_score: 0.8132\n",
      "Epoch 53/100\n",
      "384/384 [==============================] - 115s 295ms/step - ard_loss: 0.0021 - loss: 0.6176 - accuracy_score: 0.8129 - val_loss: 0.6022 - val_accuracy_score: 0.8227\n",
      "Epoch 54/100\n",
      "384/384 [==============================] - 114s 294ms/step - ard_loss: 0.0021 - loss: 0.6262 - accuracy_score: 0.8101 - val_loss: 0.6129 - val_accuracy_score: 0.8103\n",
      "Epoch 55/100\n",
      "384/384 [==============================] - 112s 289ms/step - ard_loss: 0.0021 - loss: 0.6192 - accuracy_score: 0.8113 - val_loss: 0.6058 - val_accuracy_score: 0.8205\n",
      "Epoch 56/100\n",
      "384/384 [==============================] - 113s 291ms/step - ard_loss: 0.0021 - loss: 0.6222 - accuracy_score: 0.8115 - val_loss: 0.6077 - val_accuracy_score: 0.8205\n",
      "Epoch 57/100\n",
      "384/384 [==============================] - 111s 288ms/step - ard_loss: 0.0021 - loss: 0.6270 - accuracy_score: 0.8108 - val_loss: 0.6083 - val_accuracy_score: 0.8220\n",
      "Epoch 58/100\n",
      "384/384 [==============================] - 117s 301ms/step - ard_loss: 0.0021 - loss: 0.6282 - accuracy_score: 0.8121 - val_loss: 0.6186 - val_accuracy_score: 0.8198\n",
      "Epoch 59/100\n",
      "384/384 [==============================] - 113s 294ms/step - ard_loss: 0.0021 - loss: 0.6259 - accuracy_score: 0.8104 - val_loss: 0.6095 - val_accuracy_score: 0.8168\n",
      "Epoch 60/100\n",
      "384/384 [==============================] - 112s 289ms/step - ard_loss: 0.0021 - loss: 0.6269 - accuracy_score: 0.8074 - val_loss: 0.6060 - val_accuracy_score: 0.8227\n",
      "Epoch 61/100\n",
      "384/384 [==============================] - 116s 301ms/step - ard_loss: 0.0021 - loss: 0.6205 - accuracy_score: 0.8104 - val_loss: 0.5922 - val_accuracy_score: 0.8293\n",
      "Epoch 62/100\n",
      "384/384 [==============================] - 110s 283ms/step - ard_loss: 0.0021 - loss: 0.6214 - accuracy_score: 0.8095 - val_loss: 0.6155 - val_accuracy_score: 0.8176\n",
      "Epoch 63/100\n",
      "384/384 [==============================] - 114s 294ms/step - ard_loss: 0.0021 - loss: 0.6207 - accuracy_score: 0.8142 - val_loss: 0.6212 - val_accuracy_score: 0.8198\n",
      "Epoch 64/100\n",
      "384/384 [==============================] - 115s 297ms/step - ard_loss: 0.0021 - loss: 0.6164 - accuracy_score: 0.8121 - val_loss: 0.6129 - val_accuracy_score: 0.8198\n",
      "Epoch 65/100\n",
      "384/384 [==============================] - 113s 292ms/step - ard_loss: 0.0021 - loss: 0.6174 - accuracy_score: 0.8124 - val_loss: 0.6107 - val_accuracy_score: 0.8227\n",
      "Epoch 66/100\n",
      "384/384 [==============================] - 116s 300ms/step - ard_loss: 0.0021 - loss: 0.6224 - accuracy_score: 0.8142 - val_loss: 0.6280 - val_accuracy_score: 0.8117\n",
      "Epoch 67/100\n",
      "384/384 [==============================] - 113s 293ms/step - ard_loss: 0.0021 - loss: 0.6202 - accuracy_score: 0.8130 - val_loss: 0.6092 - val_accuracy_score: 0.8220\n",
      "Epoch 68/100\n",
      "384/384 [==============================] - 117s 304ms/step - ard_loss: 0.0021 - loss: 0.6251 - accuracy_score: 0.8077 - val_loss: 0.6182 - val_accuracy_score: 0.8154\n",
      "Epoch 69/100\n",
      "384/384 [==============================] - 112s 290ms/step - ard_loss: 0.0021 - loss: 0.6151 - accuracy_score: 0.8118 - val_loss: 0.6074 - val_accuracy_score: 0.8227\n",
      "Epoch 70/100\n",
      "384/384 [==============================] - 114s 294ms/step - ard_loss: 0.0021 - loss: 0.6302 - accuracy_score: 0.8117 - val_loss: 0.6054 - val_accuracy_score: 0.8256\n",
      "Epoch 71/100\n",
      "384/384 [==============================] - 113s 292ms/step - ard_loss: 0.0021 - loss: 0.6139 - accuracy_score: 0.8189 - val_loss: 0.6015 - val_accuracy_score: 0.8220\n",
      "Epoch 72/100\n",
      "384/384 [==============================] - 116s 299ms/step - ard_loss: 0.0021 - loss: 0.6273 - accuracy_score: 0.8097 - val_loss: 0.6070 - val_accuracy_score: 0.8220\n",
      "Epoch 73/100\n",
      "384/384 [==============================] - 117s 304ms/step - ard_loss: 0.0021 - loss: 0.6108 - accuracy_score: 0.8174 - val_loss: 0.6126 - val_accuracy_score: 0.8212\n",
      "Epoch 74/100\n",
      "384/384 [==============================] - 112s 289ms/step - ard_loss: 0.0021 - loss: 0.6170 - accuracy_score: 0.8132 - val_loss: 0.6063 - val_accuracy_score: 0.8242\n",
      "Epoch 75/100\n",
      "384/384 [==============================] - 118s 305ms/step - ard_loss: 0.0021 - loss: 0.6265 - accuracy_score: 0.8096 - val_loss: 0.6149 - val_accuracy_score: 0.8205\n",
      "Epoch 76/100\n",
      "384/384 [==============================] - 113s 293ms/step - ard_loss: 0.0021 - loss: 0.6268 - accuracy_score: 0.8101 - val_loss: 0.6082 - val_accuracy_score: 0.8168\n",
      "Epoch 77/100\n",
      "384/384 [==============================] - 117s 303ms/step - ard_loss: 0.0021 - loss: 0.6219 - accuracy_score: 0.8102 - val_loss: 0.6160 - val_accuracy_score: 0.8110\n",
      "Epoch 78/100\n",
      "384/384 [==============================] - 114s 294ms/step - ard_loss: 0.0021 - loss: 0.6156 - accuracy_score: 0.8148 - val_loss: 0.6135 - val_accuracy_score: 0.8088\n",
      "Epoch 79/100\n",
      "384/384 [==============================] - 117s 303ms/step - ard_loss: 0.0021 - loss: 0.6301 - accuracy_score: 0.8103 - val_loss: 0.6133 - val_accuracy_score: 0.8198\n",
      "Epoch 80/100\n",
      "384/384 [==============================] - 114s 294ms/step - ard_loss: 0.0021 - loss: 0.6128 - accuracy_score: 0.8121 - val_loss: 0.6176 - val_accuracy_score: 0.8139\n",
      "Epoch 81/100\n",
      "384/384 [==============================] - 114s 295ms/step - ard_loss: 0.0021 - loss: 0.6192 - accuracy_score: 0.8217 - val_loss: 0.6135 - val_accuracy_score: 0.8168\n",
      "Epoch 82/100\n",
      "384/384 [==============================] - 115s 297ms/step - ard_loss: 0.0021 - loss: 0.6229 - accuracy_score: 0.8122 - val_loss: 0.6110 - val_accuracy_score: 0.8183\n",
      "Epoch 83/100\n",
      "384/384 [==============================] - 112s 290ms/step - ard_loss: 0.0021 - loss: 0.6202 - accuracy_score: 0.8172 - val_loss: 0.6081 - val_accuracy_score: 0.8095\n",
      "Epoch 84/100\n",
      "384/384 [==============================] - 110s 284ms/step - ard_loss: 0.0021 - loss: 0.6210 - accuracy_score: 0.8155 - val_loss: 0.6102 - val_accuracy_score: 0.8205\n",
      "Epoch 85/100\n",
      "384/384 [==============================] - 114s 296ms/step - ard_loss: 0.0021 - loss: 0.6187 - accuracy_score: 0.8105 - val_loss: 0.6162 - val_accuracy_score: 0.8073\n",
      "Epoch 86/100\n",
      "384/384 [==============================] - 115s 298ms/step - ard_loss: 0.0021 - loss: 0.6116 - accuracy_score: 0.8149 - val_loss: 0.6081 - val_accuracy_score: 0.8161\n",
      "Epoch 87/100\n",
      "384/384 [==============================] - 114s 295ms/step - ard_loss: 0.0021 - loss: 0.6182 - accuracy_score: 0.8140 - val_loss: 0.6114 - val_accuracy_score: 0.8205\n",
      "Epoch 88/100\n",
      "384/384 [==============================] - 112s 291ms/step - ard_loss: 0.0021 - loss: 0.6212 - accuracy_score: 0.8136 - val_loss: 0.6054 - val_accuracy_score: 0.8227\n",
      "Epoch 89/100\n",
      "384/384 [==============================] - 114s 296ms/step - ard_loss: 0.0021 - loss: 0.6208 - accuracy_score: 0.8133 - val_loss: 0.6058 - val_accuracy_score: 0.8132\n",
      "Epoch 90/100\n",
      "384/384 [==============================] - 110s 284ms/step - ard_loss: 0.0021 - loss: 0.6260 - accuracy_score: 0.8087 - val_loss: 0.6116 - val_accuracy_score: 0.8103\n",
      "Epoch 91/100\n",
      "384/384 [==============================] - 115s 296ms/step - ard_loss: 0.0021 - loss: 0.6217 - accuracy_score: 0.8143 - val_loss: 0.6019 - val_accuracy_score: 0.8198\n",
      "Epoch 92/100\n",
      "384/384 [==============================] - 116s 301ms/step - ard_loss: 0.0021 - loss: 0.6170 - accuracy_score: 0.8200 - val_loss: 0.6100 - val_accuracy_score: 0.8125\n",
      "Epoch 93/100\n",
      "384/384 [==============================] - 114s 294ms/step - ard_loss: 0.0020 - loss: 0.6124 - accuracy_score: 0.8201 - val_loss: 0.6080 - val_accuracy_score: 0.8227\n",
      "Epoch 94/100\n",
      "384/384 [==============================] - 116s 301ms/step - ard_loss: 0.0020 - loss: 0.6146 - accuracy_score: 0.8150 - val_loss: 0.6065 - val_accuracy_score: 0.8168\n",
      "Epoch 95/100\n",
      "384/384 [==============================] - 115s 298ms/step - ard_loss: 0.0020 - loss: 0.6266 - accuracy_score: 0.8084 - val_loss: 0.6051 - val_accuracy_score: 0.8198\n",
      "Epoch 96/100\n",
      "384/384 [==============================] - 110s 285ms/step - ard_loss: 0.0020 - loss: 0.6178 - accuracy_score: 0.8088 - val_loss: 0.6076 - val_accuracy_score: 0.8220\n",
      "Epoch 97/100\n",
      "384/384 [==============================] - 115s 298ms/step - ard_loss: 0.0020 - loss: 0.6212 - accuracy_score: 0.8133 - val_loss: 0.5946 - val_accuracy_score: 0.8264\n",
      "Epoch 98/100\n",
      "384/384 [==============================] - 114s 295ms/step - ard_loss: 0.0020 - loss: 0.6198 - accuracy_score: 0.8125 - val_loss: 0.6117 - val_accuracy_score: 0.8132\n",
      "Epoch 99/100\n",
      "384/384 [==============================] - 116s 299ms/step - ard_loss: 0.0020 - loss: 0.6152 - accuracy_score: 0.8146 - val_loss: 0.6169 - val_accuracy_score: 0.8205\n",
      "Epoch 100/100\n",
      "384/384 [==============================] - 114s 296ms/step - ard_loss: 0.0020 - loss: 0.6197 - accuracy_score: 0.8147 - val_loss: 0.6195 - val_accuracy_score: 0.8117\n"
     ]
    }
   ],
   "source": [
    "kfold = KFold(n_splits=Config.SPLIT, shuffle=False)\n",
    "\n",
    "for i, (train_idx, val_idx) in enumerate(kfold.split(train_rec)):\n",
    "    \n",
    "    train_data, val_data = split_generator(train_idx, val_idx)\n",
    "    \n",
    "    print(f'fold {i} - {\"=\" * 100}')\n",
    "    \n",
    "    with strategy.scope():\n",
    "        \n",
    "        model = build_model()\n",
    "    \n",
    "    if i < len(weights_path):\n",
    "        \n",
    "        model.load_weights(weights_path[i])\n",
    "        \n",
    "    model.fit(train_data, epochs=Config.EPOCHS, validation_data=val_data, callbacks=None)\n",
    "    \n",
    "    model.save_weights(f'weights-{i}.h5')\n",
    "    \n",
    "    backend.clear_session()\n",
    "\n",
    "    # stop cv\n",
    "    if i == 0:\n",
    "        \n",
    "        break"
   ]
  },
  {
   "cell_type": "code",
   "execution_count": null,
   "id": "bdb0e95d",
   "metadata": {
    "papermill": {
     "duration": 10.379948,
     "end_time": "2021-12-22T17:39:02.853443",
     "exception": false,
     "start_time": "2021-12-22T17:38:52.473495",
     "status": "completed"
    },
    "tags": []
   },
   "outputs": [],
   "source": []
  },
  {
   "cell_type": "code",
   "execution_count": null,
   "id": "6c8c6611",
   "metadata": {
    "papermill": {
     "duration": 10.395454,
     "end_time": "2021-12-22T17:39:24.368529",
     "exception": false,
     "start_time": "2021-12-22T17:39:13.973075",
     "status": "completed"
    },
    "tags": []
   },
   "outputs": [],
   "source": []
  }
 ],
 "metadata": {
  "kernelspec": {
   "display_name": "Python 3",
   "language": "python",
   "name": "python3"
  },
  "language_info": {
   "codemirror_mode": {
    "name": "ipython",
    "version": 3
   },
   "file_extension": ".py",
   "mimetype": "text/x-python",
   "name": "python",
   "nbconvert_exporter": "python",
   "pygments_lexer": "ipython3",
   "version": "3.7.10"
  },
  "papermill": {
   "default_parameters": {},
   "duration": 11500.015578,
   "end_time": "2021-12-22T17:39:38.221680",
   "environment_variables": {},
   "exception": null,
   "input_path": "__notebook__.ipynb",
   "output_path": "__notebook__.ipynb",
   "parameters": {},
   "start_time": "2021-12-22T14:27:58.206102",
   "version": "2.3.3"
  }
 },
 "nbformat": 4,
 "nbformat_minor": 5
}
