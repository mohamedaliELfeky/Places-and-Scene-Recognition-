{
 "cells": [
  {
   "cell_type": "markdown",
   "id": "eb58375a",
   "metadata": {
    "papermill": {
     "duration": 0.018919,
     "end_time": "2021-12-23T16:30:05.939854",
     "exception": false,
     "start_time": "2021-12-23T16:30:05.920935",
     "status": "completed"
    },
    "tags": []
   },
   "source": [
    "# **Import Modules**"
   ]
  },
  {
   "cell_type": "code",
   "execution_count": 1,
   "id": "50316675",
   "metadata": {
    "execution": {
     "iopub.execute_input": "2021-12-23T16:30:06.061185Z",
     "iopub.status.busy": "2021-12-23T16:30:06.055743Z",
     "iopub.status.idle": "2021-12-23T16:30:06.065266Z",
     "shell.execute_reply": "2021-12-23T16:30:06.064676Z",
     "shell.execute_reply.started": "2021-12-22T18:33:43.010539Z"
    },
    "papermill": {
     "duration": 0.107158,
     "end_time": "2021-12-23T16:30:06.065407",
     "exception": false,
     "start_time": "2021-12-23T16:30:05.958249",
     "status": "completed"
    },
    "tags": []
   },
   "outputs": [],
   "source": [
    "import sys\n",
    "\n",
    "import os\n",
    "\n",
    "import random as pyrand\n",
    "\n",
    "os.environ['TF_CPP_MIN_LOG_LEVEL'] = '3'\n",
    "\n",
    "sys.path.insert(0, '../input/deeplearning-utils')"
   ]
  },
  {
   "cell_type": "code",
   "execution_count": 2,
   "id": "dbe06600",
   "metadata": {
    "execution": {
     "iopub.execute_input": "2021-12-23T16:30:06.103657Z",
     "iopub.status.busy": "2021-12-23T16:30:06.102982Z",
     "iopub.status.idle": "2021-12-23T16:30:11.574304Z",
     "shell.execute_reply": "2021-12-23T16:30:11.573787Z",
     "shell.execute_reply.started": "2021-12-22T18:33:43.113402Z"
    },
    "papermill": {
     "duration": 5.491893,
     "end_time": "2021-12-23T16:30:11.574433",
     "exception": false,
     "start_time": "2021-12-23T16:30:06.082540",
     "status": "completed"
    },
    "tags": []
   },
   "outputs": [],
   "source": [
    "from utils.ops import plot\n",
    "\n",
    "from utils.tf.ops import io, eval as tf_eval"
   ]
  },
  {
   "cell_type": "code",
   "execution_count": 3,
   "id": "9faf103d",
   "metadata": {
    "execution": {
     "iopub.execute_input": "2021-12-23T16:30:11.614624Z",
     "iopub.status.busy": "2021-12-23T16:30:11.614111Z",
     "iopub.status.idle": "2021-12-23T16:30:11.752546Z",
     "shell.execute_reply": "2021-12-23T16:30:11.751754Z",
     "shell.execute_reply.started": "2021-12-22T18:33:49.596518Z"
    },
    "papermill": {
     "duration": 0.160877,
     "end_time": "2021-12-23T16:30:11.752694",
     "exception": false,
     "start_time": "2021-12-23T16:30:11.591817",
     "status": "completed"
    },
    "tags": []
   },
   "outputs": [],
   "source": [
    "# This Python 3 environment comes with many helpful analytics libraries installed\n",
    "# It is defined by the kaggle/python Docker image: https://github.com/kaggle/docker-python\n",
    "# For example, here's several helpful packages to load\n",
    "\n",
    "import numpy as np # linear algebra\n",
    "import pandas as pd # data processing, CSV file I/O (e.g. pd.read_csv)\n",
    "\n",
    "# Input data files are available in the read-only \"../input/\" directory\n",
    "# For example, running this (by clicking run or pressing Shift+Enter) will list all files under the input directory\n",
    "\n",
    "import os\n",
    "\n",
    "import matplotlib.pyplot as plt\n",
    "import matplotlib.cm as cm\n",
    "\n",
    "import seaborn as sns\n",
    "\n",
    "from sklearn.model_selection import KFold\n",
    "from sklearn.metrics import accuracy_score\n",
    "\n",
    "from tqdm import tqdm"
   ]
  },
  {
   "cell_type": "code",
   "execution_count": 4,
   "id": "5b538b32",
   "metadata": {
    "execution": {
     "iopub.execute_input": "2021-12-23T16:30:11.792169Z",
     "iopub.status.busy": "2021-12-23T16:30:11.791358Z",
     "iopub.status.idle": "2021-12-23T16:30:11.795841Z",
     "shell.execute_reply": "2021-12-23T16:30:11.795284Z",
     "shell.execute_reply.started": "2021-12-22T18:33:49.773209Z"
    },
    "papermill": {
     "duration": 0.02586,
     "end_time": "2021-12-23T16:30:11.795976",
     "exception": false,
     "start_time": "2021-12-23T16:30:11.770116",
     "status": "completed"
    },
    "tags": []
   },
   "outputs": [],
   "source": [
    "from kaggle_secrets import UserSecretsClient\n",
    "from kaggle_datasets import KaggleDatasets"
   ]
  },
  {
   "cell_type": "code",
   "execution_count": 5,
   "id": "7f4e28f3",
   "metadata": {
    "execution": {
     "iopub.execute_input": "2021-12-23T16:30:11.838084Z",
     "iopub.status.busy": "2021-12-23T16:30:11.837347Z",
     "iopub.status.idle": "2021-12-23T16:30:11.945094Z",
     "shell.execute_reply": "2021-12-23T16:30:11.945516Z",
     "shell.execute_reply.started": "2021-12-22T18:33:49.783269Z"
    },
    "papermill": {
     "duration": 0.131053,
     "end_time": "2021-12-23T16:30:11.945689",
     "exception": false,
     "start_time": "2021-12-23T16:30:11.814636",
     "status": "completed"
    },
    "tags": []
   },
   "outputs": [],
   "source": [
    "import tensorflow as tf\n",
    "\n",
    "from tensorflow.keras import backend, optimizers, regularizers\n",
    "\n",
    "from tensorflow.keras.layers import *\n",
    "\n",
    "from tensorflow.keras.models import Sequential, Model\n",
    "\n",
    "# from tensorflow.keras.applications import *\n",
    "\n",
    "from tensorflow.keras.layers.experimental import preprocessing\n",
    "\n",
    "import tensorflow_addons as tfa"
   ]
  },
  {
   "cell_type": "markdown",
   "id": "b0f2d4ff",
   "metadata": {
    "papermill": {
     "duration": 0.018416,
     "end_time": "2021-12-23T16:30:11.981427",
     "exception": false,
     "start_time": "2021-12-23T16:30:11.963011",
     "status": "completed"
    },
    "tags": []
   },
   "source": [
    "# **Config**"
   ]
  },
  {
   "cell_type": "code",
   "execution_count": 6,
   "id": "e99b9c8b",
   "metadata": {
    "execution": {
     "iopub.execute_input": "2021-12-23T16:30:12.025901Z",
     "iopub.status.busy": "2021-12-23T16:30:12.024867Z",
     "iopub.status.idle": "2021-12-23T16:30:12.026713Z",
     "shell.execute_reply": "2021-12-23T16:30:12.027175Z",
     "shell.execute_reply.started": "2021-12-22T18:33:49.915126Z"
    },
    "papermill": {
     "duration": 0.026841,
     "end_time": "2021-12-23T16:30:12.027314",
     "exception": false,
     "start_time": "2021-12-23T16:30:12.000473",
     "status": "completed"
    },
    "tags": []
   },
   "outputs": [],
   "source": [
    "def set_seed(tf_seed=0, np_seed=0, py_rand=0, py_hash=0):\n",
    "\n",
    "    os.environ['PYTHONHASHSEED'] = str(py_hash)\n",
    "    pyrand.seed(py_rand)\n",
    "\n",
    "    tf.random.set_seed(tf_seed)\n",
    "    np.random.seed(np_seed)"
   ]
  },
  {
   "cell_type": "code",
   "execution_count": 7,
   "id": "a90d0456",
   "metadata": {
    "execution": {
     "iopub.execute_input": "2021-12-23T16:30:12.068747Z",
     "iopub.status.busy": "2021-12-23T16:30:12.067945Z",
     "iopub.status.idle": "2021-12-23T16:30:12.070536Z",
     "shell.execute_reply": "2021-12-23T16:30:12.070084Z",
     "shell.execute_reply.started": "2021-12-22T18:33:49.924206Z"
    },
    "papermill": {
     "duration": 0.02509,
     "end_time": "2021-12-23T16:30:12.070655",
     "exception": false,
     "start_time": "2021-12-23T16:30:12.045565",
     "status": "completed"
    },
    "tags": []
   },
   "outputs": [],
   "source": [
    "class Config:\n",
    "    \n",
    "    SEED = 2053\n",
    "    \n",
    "    IMAGE_SIZE = (224, 224)\n",
    "    \n",
    "    TRAINING = False"
   ]
  },
  {
   "cell_type": "code",
   "execution_count": 8,
   "id": "16536d07",
   "metadata": {
    "execution": {
     "iopub.execute_input": "2021-12-23T16:30:12.112753Z",
     "iopub.status.busy": "2021-12-23T16:30:12.111934Z",
     "iopub.status.idle": "2021-12-23T16:30:12.114750Z",
     "shell.execute_reply": "2021-12-23T16:30:12.114287Z",
     "shell.execute_reply.started": "2021-12-22T18:33:49.936127Z"
    },
    "papermill": {
     "duration": 0.025472,
     "end_time": "2021-12-23T16:30:12.114896",
     "exception": false,
     "start_time": "2021-12-23T16:30:12.089424",
     "status": "completed"
    },
    "tags": []
   },
   "outputs": [],
   "source": [
    "set_seed(Config.SEED)"
   ]
  },
  {
   "cell_type": "code",
   "execution_count": 9,
   "id": "2e8b1ce6",
   "metadata": {
    "execution": {
     "iopub.execute_input": "2021-12-23T16:30:12.158701Z",
     "iopub.status.busy": "2021-12-23T16:30:12.157792Z",
     "iopub.status.idle": "2021-12-23T16:30:12.166535Z",
     "shell.execute_reply": "2021-12-23T16:30:12.167011Z",
     "shell.execute_reply.started": "2021-12-22T18:33:49.945431Z"
    },
    "papermill": {
     "duration": 0.033708,
     "end_time": "2021-12-23T16:30:12.167157",
     "exception": false,
     "start_time": "2021-12-23T16:30:12.133449",
     "status": "completed"
    },
    "tags": []
   },
   "outputs": [
    {
     "name": "stdout",
     "output_type": "stream",
     "text": [
      "REPLICAS:  1\n"
     ]
    }
   ],
   "source": [
    "try:\n",
    "    \n",
    "    tpu = tf.distribute.cluster_resolver.TPUClusterResolver()\n",
    "    \n",
    "    print('Running on TPU ', tpu.master())\n",
    "    \n",
    "except ValueError:\n",
    "  \n",
    "    tpu = None\n",
    "\n",
    "if tpu is not None:\n",
    "    \n",
    "    tf.config.experimental_connect_to_cluster(tpu)\n",
    "    tf.tpu.experimental.initialize_tpu_system(tpu)\n",
    "\n",
    "    strategy = tf.distribute.experimental.TPUStrategy(tpu)\n",
    "\n",
    "else:\n",
    "    \n",
    "    strategy = tf.distribute.get_strategy()\n",
    "\n",
    "\n",
    "print(\"REPLICAS: \", strategy.num_replicas_in_sync)"
   ]
  },
  {
   "cell_type": "markdown",
   "id": "7bcac88a",
   "metadata": {
    "papermill": {
     "duration": 0.018974,
     "end_time": "2021-12-23T16:30:12.205627",
     "exception": false,
     "start_time": "2021-12-23T16:30:12.186653",
     "status": "completed"
    },
    "tags": []
   },
   "source": [
    "# **Load Data**"
   ]
  },
  {
   "cell_type": "code",
   "execution_count": 10,
   "id": "a3f271cf",
   "metadata": {
    "execution": {
     "iopub.execute_input": "2021-12-23T16:30:12.247845Z",
     "iopub.status.busy": "2021-12-23T16:30:12.246974Z",
     "iopub.status.idle": "2021-12-23T16:30:12.248952Z",
     "shell.execute_reply": "2021-12-23T16:30:12.249388Z",
     "shell.execute_reply.started": "2021-12-22T18:33:49.965727Z"
    },
    "papermill": {
     "duration": 0.025519,
     "end_time": "2021-12-23T16:30:12.249515",
     "exception": false,
     "start_time": "2021-12-23T16:30:12.223996",
     "status": "completed"
    },
    "tags": []
   },
   "outputs": [],
   "source": [
    "AUTOTUNE = tf.data.experimental.AUTOTUNE\n",
    "\n",
    "ignore_order = tf.data.Options()\n",
    "ignore_order.experimental_deterministic = False"
   ]
  },
  {
   "cell_type": "code",
   "execution_count": 11,
   "id": "67a8b5bc",
   "metadata": {
    "execution": {
     "iopub.execute_input": "2021-12-23T16:30:12.291564Z",
     "iopub.status.busy": "2021-12-23T16:30:12.291020Z",
     "iopub.status.idle": "2021-12-23T16:30:13.498498Z",
     "shell.execute_reply": "2021-12-23T16:30:13.498027Z",
     "shell.execute_reply.started": "2021-12-22T18:33:49.976457Z"
    },
    "papermill": {
     "duration": 1.230057,
     "end_time": "2021-12-23T16:30:13.498619",
     "exception": false,
     "start_time": "2021-12-23T16:30:12.268562",
     "status": "completed"
    },
    "tags": []
   },
   "outputs": [
    {
     "name": "stdout",
     "output_type": "stream",
     "text": [
      "3407\n"
     ]
    }
   ],
   "source": [
    "src_dir = '../input/ci-sc22-places-and-scene-recognition/'\n",
    "\n",
    "test_path = tf.io.gfile.glob(src_dir + '/test_images/test_images/*')\n",
    "\n",
    "print(len(test_path))"
   ]
  },
  {
   "cell_type": "code",
   "execution_count": 12,
   "id": "b84e45d3",
   "metadata": {
    "execution": {
     "iopub.execute_input": "2021-12-23T16:30:13.539947Z",
     "iopub.status.busy": "2021-12-23T16:30:13.539313Z",
     "iopub.status.idle": "2021-12-23T16:30:13.541604Z",
     "shell.execute_reply": "2021-12-23T16:30:13.542145Z",
     "shell.execute_reply.started": "2021-12-22T18:33:50.943164Z"
    },
    "papermill": {
     "duration": 0.025914,
     "end_time": "2021-12-23T16:30:13.542278",
     "exception": false,
     "start_time": "2021-12-23T16:30:13.516364",
     "status": "completed"
    },
    "tags": []
   },
   "outputs": [],
   "source": [
    "def read_test_example(i):\n",
    "    \n",
    "    image_name = os.path.split(test_path[i])[1]\n",
    "    \n",
    "    image = io.read_image(test_path[i])\n",
    "    image = tf.expand_dims(image, axis=0)\n",
    "    image = tf.image.resize(image, Config.IMAGE_SIZE)\n",
    "    image = tf.cast(image, dtype=tf.float32)\n",
    "\n",
    "    image /= 255.0\n",
    "    \n",
    "    return image_name, image"
   ]
  },
  {
   "cell_type": "markdown",
   "id": "4d8b36a9",
   "metadata": {
    "papermill": {
     "duration": 0.017995,
     "end_time": "2021-12-23T16:30:13.578398",
     "exception": false,
     "start_time": "2021-12-23T16:30:13.560403",
     "status": "completed"
    },
    "tags": []
   },
   "source": [
    "# **Build Model**"
   ]
  },
  {
   "cell_type": "code",
   "execution_count": 13,
   "id": "886a3345",
   "metadata": {
    "execution": {
     "iopub.execute_input": "2021-12-23T16:30:13.618614Z",
     "iopub.status.busy": "2021-12-23T16:30:13.617815Z",
     "iopub.status.idle": "2021-12-23T16:30:13.620288Z",
     "shell.execute_reply": "2021-12-23T16:30:13.619873Z",
     "shell.execute_reply.started": "2021-12-22T18:33:50.953721Z"
    },
    "papermill": {
     "duration": 0.024011,
     "end_time": "2021-12-23T16:30:13.620401",
     "exception": false,
     "start_time": "2021-12-23T16:30:13.596390",
     "status": "completed"
    },
    "tags": []
   },
   "outputs": [],
   "source": [
    "input_shape = (*Config.IMAGE_SIZE, 3)"
   ]
  },
  {
   "cell_type": "code",
   "execution_count": 14,
   "id": "c137b9de",
   "metadata": {
    "execution": {
     "iopub.execute_input": "2021-12-23T16:30:13.661516Z",
     "iopub.status.busy": "2021-12-23T16:30:13.661002Z",
     "iopub.status.idle": "2021-12-23T16:30:19.248033Z",
     "shell.execute_reply": "2021-12-23T16:30:19.247542Z",
     "shell.execute_reply.started": "2021-12-22T18:34:25.083929Z"
    },
    "papermill": {
     "duration": 5.610044,
     "end_time": "2021-12-23T16:30:19.248162",
     "exception": false,
     "start_time": "2021-12-23T16:30:13.638118",
     "status": "completed"
    },
    "tags": []
   },
   "outputs": [],
   "source": [
    "with strategy.scope():\n",
    "    \n",
    "    vgg16 =  tf.keras.models.load_model('../input/cisc22buildvgg16/vgg16.h5', compile=False)\n",
    "    \n",
    "    vgg16.load_weights('../input/cisc22buildvgg16/vgg16_weights_tf_dim_ordering_tf_kernels_notop.h5')\n",
    "    \n",
    "    outputs = []\n",
    "    \n",
    "    outputs.append(vgg16.get_layer('block2_pool').output)\n",
    "    outputs.append(vgg16.get_layer('block3_pool').output)\n",
    "    outputs.append(vgg16.get_layer('block4_pool').output)\n",
    "    outputs.append(vgg16.get_layer('block5_pool').output)\n",
    "    \n",
    "    backbone = Model(vgg16.inputs, outputs)"
   ]
  },
  {
   "cell_type": "code",
   "execution_count": 15,
   "id": "607dc6b0",
   "metadata": {
    "execution": {
     "iopub.execute_input": "2021-12-23T16:30:19.297018Z",
     "iopub.status.busy": "2021-12-23T16:30:19.295311Z",
     "iopub.status.idle": "2021-12-23T16:30:19.297603Z",
     "shell.execute_reply": "2021-12-23T16:30:19.298026Z",
     "shell.execute_reply.started": "2021-12-22T18:34:30.425008Z"
    },
    "papermill": {
     "duration": 0.031904,
     "end_time": "2021-12-23T16:30:19.298161",
     "exception": false,
     "start_time": "2021-12-23T16:30:19.266257",
     "status": "completed"
    },
    "tags": []
   },
   "outputs": [],
   "source": [
    "def build_model():\n",
    "    \n",
    "    backbone.trainable = False\n",
    "    \n",
    "    # ===================================================================================\n",
    "    \n",
    "    inputs = Input(shape=input_shape)\n",
    "    \n",
    "    inception = backbone(inputs)\n",
    "    \n",
    "    z0 = Conv2D(filters=512, kernel_size=(1, 1), activation='linear', kernel_regularizer=None)(inception[0])\n",
    "    z0 = GlobalAveragePooling2D()(z0)\n",
    "\n",
    "    z1 = Conv2D(filters=1024, kernel_size=(1, 1), activation='relu', kernel_regularizer=None)(inception[1])\n",
    "    z1 = Dropout(0.05)(z1)    \n",
    "    z1 = GlobalAveragePooling2D()(z1)\n",
    "    \n",
    "    z2 = Conv2D(filters=1024, kernel_size=(1, 1), activation='relu', kernel_regularizer=None)(inception[2])\n",
    "    z2 = Dropout(0.1)(z2)    \n",
    "    z2 = GlobalAveragePooling2D()(z2)\n",
    "    \n",
    "    z3 = Conv2D(filters=1024, kernel_size=(1, 1), activation='relu', kernel_regularizer=None)(inception[3])\n",
    "    z3 = Dropout(0.1)(z3)    \n",
    "    z3 = GlobalAveragePooling2D()(z3)\n",
    "    \n",
    "    z = Concatenate(axis=-1)([z0, z1, z2, z3])\n",
    "    \n",
    "    # ===================================================================================\n",
    "\n",
    "    y_logits = Dense(6, name='y_logits')(z)\n",
    "    y_proba = Activation('softmax', name='y_proba')(y_logits)\n",
    "    \n",
    "    # ===================================================================================\n",
    "\n",
    "    model = Model(inputs, y_proba)\n",
    "    \n",
    "    # ===================================================================================\n",
    "    \n",
    "    optimizer = optimizers.Adam(learning_rate=1e-4, beta_1=0.9, beta_2=0.999)\n",
    "    \n",
    "    loss = tf.losses.CategoricalCrossentropy(label_smoothing=0.01, name='categorical_crossentropy')\n",
    "    metrics = tf.metrics.CategoricalAccuracy(name='accuracy_score')\n",
    "    \n",
    "    model.compile(optimizer=optimizer, loss=loss, metrics=metrics)\n",
    "    \n",
    "    # ===================================================================================\n",
    "\n",
    "    return model"
   ]
  },
  {
   "cell_type": "markdown",
   "id": "0210481d",
   "metadata": {
    "papermill": {
     "duration": 0.017533,
     "end_time": "2021-12-23T16:30:19.333386",
     "exception": false,
     "start_time": "2021-12-23T16:30:19.315853",
     "status": "completed"
    },
    "tags": []
   },
   "source": [
    "# **Load Model**"
   ]
  },
  {
   "cell_type": "code",
   "execution_count": 16,
   "id": "6b66795d",
   "metadata": {
    "execution": {
     "iopub.execute_input": "2021-12-23T16:30:19.371664Z",
     "iopub.status.busy": "2021-12-23T16:30:19.371175Z",
     "iopub.status.idle": "2021-12-23T16:30:19.395029Z",
     "shell.execute_reply": "2021-12-23T16:30:19.394398Z",
     "shell.execute_reply.started": "2021-12-22T18:34:32.465525Z"
    },
    "papermill": {
     "duration": 0.044472,
     "end_time": "2021-12-23T16:30:19.395178",
     "exception": false,
     "start_time": "2021-12-23T16:30:19.350706",
     "status": "completed"
    },
    "tags": []
   },
   "outputs": [
    {
     "name": "stdout",
     "output_type": "stream",
     "text": [
      "1\n"
     ]
    }
   ],
   "source": [
    "weights_path = tf.io.gfile.glob('../input/cisc22placesandscenevgg16weights/weights-*.h5')\n",
    "\n",
    "print(len(weights_path))"
   ]
  },
  {
   "cell_type": "code",
   "execution_count": 17,
   "id": "fc3b1099",
   "metadata": {
    "execution": {
     "iopub.execute_input": "2021-12-23T16:30:19.438807Z",
     "iopub.status.busy": "2021-12-23T16:30:19.437539Z",
     "iopub.status.idle": "2021-12-23T16:30:20.429765Z",
     "shell.execute_reply": "2021-12-23T16:30:20.430332Z",
     "shell.execute_reply.started": "2021-12-22T18:34:33.836309Z"
    },
    "papermill": {
     "duration": 1.017023,
     "end_time": "2021-12-23T16:30:20.430502",
     "exception": false,
     "start_time": "2021-12-23T16:30:19.413479",
     "status": "completed"
    },
    "tags": []
   },
   "outputs": [],
   "source": [
    "with strategy.scope():\n",
    "\n",
    "    model = build_model()\n",
    "\n",
    "model.load_weights(weights_path[0])"
   ]
  },
  {
   "cell_type": "code",
   "execution_count": 18,
   "id": "777cb1fe",
   "metadata": {
    "execution": {
     "iopub.execute_input": "2021-12-23T16:30:20.475146Z",
     "iopub.status.busy": "2021-12-23T16:30:20.471917Z",
     "iopub.status.idle": "2021-12-23T16:30:20.486463Z",
     "shell.execute_reply": "2021-12-23T16:30:20.485749Z",
     "shell.execute_reply.started": "2021-12-22T18:34:34.816863Z"
    },
    "papermill": {
     "duration": 0.037168,
     "end_time": "2021-12-23T16:30:20.486629",
     "exception": false,
     "start_time": "2021-12-23T16:30:20.449461",
     "status": "completed"
    },
    "tags": []
   },
   "outputs": [
    {
     "name": "stdout",
     "output_type": "stream",
     "text": [
      "Model: \"model_1\"\n",
      "__________________________________________________________________________________________________\n",
      "Layer (type)                    Output Shape         Param #     Connected to                     \n",
      "==================================================================================================\n",
      "input_1 (InputLayer)            [(None, 224, 224, 3) 0                                            \n",
      "__________________________________________________________________________________________________\n",
      "model (Functional)              [(None, 56, 56, 128) 14714688    input_1[0][0]                    \n",
      "__________________________________________________________________________________________________\n",
      "conv2d_1 (Conv2D)               (None, 28, 28, 1024) 263168      model[0][1]                      \n",
      "__________________________________________________________________________________________________\n",
      "conv2d_2 (Conv2D)               (None, 14, 14, 1024) 525312      model[0][2]                      \n",
      "__________________________________________________________________________________________________\n",
      "conv2d_3 (Conv2D)               (None, 7, 7, 1024)   525312      model[0][3]                      \n",
      "__________________________________________________________________________________________________\n",
      "conv2d (Conv2D)                 (None, 56, 56, 512)  66048       model[0][0]                      \n",
      "__________________________________________________________________________________________________\n",
      "dropout (Dropout)               (None, 28, 28, 1024) 0           conv2d_1[0][0]                   \n",
      "__________________________________________________________________________________________________\n",
      "dropout_1 (Dropout)             (None, 14, 14, 1024) 0           conv2d_2[0][0]                   \n",
      "__________________________________________________________________________________________________\n",
      "dropout_2 (Dropout)             (None, 7, 7, 1024)   0           conv2d_3[0][0]                   \n",
      "__________________________________________________________________________________________________\n",
      "global_average_pooling2d (Globa (None, 512)          0           conv2d[0][0]                     \n",
      "__________________________________________________________________________________________________\n",
      "global_average_pooling2d_1 (Glo (None, 1024)         0           dropout[0][0]                    \n",
      "__________________________________________________________________________________________________\n",
      "global_average_pooling2d_2 (Glo (None, 1024)         0           dropout_1[0][0]                  \n",
      "__________________________________________________________________________________________________\n",
      "global_average_pooling2d_3 (Glo (None, 1024)         0           dropout_2[0][0]                  \n",
      "__________________________________________________________________________________________________\n",
      "concatenate (Concatenate)       (None, 3584)         0           global_average_pooling2d[0][0]   \n",
      "                                                                 global_average_pooling2d_1[0][0] \n",
      "                                                                 global_average_pooling2d_2[0][0] \n",
      "                                                                 global_average_pooling2d_3[0][0] \n",
      "__________________________________________________________________________________________________\n",
      "y_logits (Dense)                (None, 6)            21510       concatenate[0][0]                \n",
      "__________________________________________________________________________________________________\n",
      "y_proba (Activation)            (None, 6)            0           y_logits[0][0]                   \n",
      "==================================================================================================\n",
      "Total params: 16,116,038\n",
      "Trainable params: 1,401,350\n",
      "Non-trainable params: 14,714,688\n",
      "__________________________________________________________________________________________________\n"
     ]
    }
   ],
   "source": [
    "model.summary()"
   ]
  },
  {
   "cell_type": "markdown",
   "id": "2dacaa90",
   "metadata": {
    "papermill": {
     "duration": 0.020495,
     "end_time": "2021-12-23T16:30:20.528811",
     "exception": false,
     "start_time": "2021-12-23T16:30:20.508316",
     "status": "completed"
    },
    "tags": []
   },
   "source": [
    "# **Submission**"
   ]
  },
  {
   "cell_type": "code",
   "execution_count": 19,
   "id": "bd3e79c8",
   "metadata": {
    "execution": {
     "iopub.execute_input": "2021-12-23T16:30:20.577905Z",
     "iopub.status.busy": "2021-12-23T16:30:20.577064Z",
     "iopub.status.idle": "2021-12-23T16:31:35.071284Z",
     "shell.execute_reply": "2021-12-23T16:31:35.070507Z",
     "shell.execute_reply.started": "2021-12-22T18:34:36.228498Z"
    },
    "papermill": {
     "duration": 74.522118,
     "end_time": "2021-12-23T16:31:35.071429",
     "exception": false,
     "start_time": "2021-12-23T16:30:20.549311",
     "status": "completed"
    },
    "tags": []
   },
   "outputs": [
    {
     "name": "stderr",
     "output_type": "stream",
     "text": [
      "100%|██████████| 3407/3407 [01:14<00:00, 45.75it/s]\n"
     ]
    }
   ],
   "source": [
    "submission = pd.read_csv(src_dir + 'sample_submission.csv')\n",
    "\n",
    "submission.drop([0, 1], axis=0, inplace=True)\n",
    "\n",
    "for i in tqdm(range(len(test_path))):\n",
    "    \n",
    "    image_name, image = read_test_example(i)\n",
    "    \n",
    "    y = model.predict_on_batch(image).argmax(axis=-1)[0]\n",
    "    \n",
    "    submission = submission.append({'image_name': image_name, 'label': y}, ignore_index=True)"
   ]
  },
  {
   "cell_type": "code",
   "execution_count": 20,
   "id": "7647db4c",
   "metadata": {
    "execution": {
     "iopub.execute_input": "2021-12-23T16:31:35.420996Z",
     "iopub.status.busy": "2021-12-23T16:31:35.420430Z",
     "iopub.status.idle": "2021-12-23T16:31:35.433051Z",
     "shell.execute_reply": "2021-12-23T16:31:35.432555Z",
     "shell.execute_reply.started": "2021-12-22T18:34:50.294374Z"
    },
    "papermill": {
     "duration": 0.193617,
     "end_time": "2021-12-23T16:31:35.433199",
     "exception": false,
     "start_time": "2021-12-23T16:31:35.239582",
     "status": "completed"
    },
    "tags": []
   },
   "outputs": [],
   "source": [
    "submission.to_csv('submission.csv', index=False, encoding='utf-8')"
   ]
  },
  {
   "cell_type": "code",
   "execution_count": null,
   "id": "3815a9ce",
   "metadata": {
    "papermill": {
     "duration": 0.173861,
     "end_time": "2021-12-23T16:31:35.782545",
     "exception": false,
     "start_time": "2021-12-23T16:31:35.608684",
     "status": "completed"
    },
    "tags": []
   },
   "outputs": [],
   "source": []
  }
 ],
 "metadata": {
  "kernelspec": {
   "display_name": "Python 3",
   "language": "python",
   "name": "python3"
  },
  "language_info": {
   "codemirror_mode": {
    "name": "ipython",
    "version": 3
   },
   "file_extension": ".py",
   "mimetype": "text/x-python",
   "name": "python",
   "nbconvert_exporter": "python",
   "pygments_lexer": "ipython3",
   "version": "3.7.10"
  },
  "papermill": {
   "default_parameters": {},
   "duration": 99.676175,
   "end_time": "2021-12-23T16:31:38.940652",
   "environment_variables": {},
   "exception": null,
   "input_path": "__notebook__.ipynb",
   "output_path": "__notebook__.ipynb",
   "parameters": {},
   "start_time": "2021-12-23T16:29:59.264477",
   "version": "2.3.3"
  }
 },
 "nbformat": 4,
 "nbformat_minor": 5
}
