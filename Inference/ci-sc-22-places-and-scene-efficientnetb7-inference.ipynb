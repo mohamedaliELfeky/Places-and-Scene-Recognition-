{
 "cells": [
  {
   "cell_type": "markdown",
   "id": "c4b8d41d",
   "metadata": {
    "papermill": {
     "duration": 0.018354,
     "end_time": "2021-12-21T09:16:26.210594",
     "exception": false,
     "start_time": "2021-12-21T09:16:26.192240",
     "status": "completed"
    },
    "tags": []
   },
   "source": [
    "# **Import Modules**"
   ]
  },
  {
   "cell_type": "code",
   "execution_count": 1,
   "id": "7402795c",
   "metadata": {
    "execution": {
     "iopub.execute_input": "2021-12-21T09:16:26.329878Z",
     "iopub.status.busy": "2021-12-21T09:16:26.328728Z",
     "iopub.status.idle": "2021-12-21T09:16:26.332418Z",
     "shell.execute_reply": "2021-12-21T09:16:26.331888Z",
     "shell.execute_reply.started": "2021-12-20T20:53:50.892643Z"
    },
    "papermill": {
     "duration": 0.104525,
     "end_time": "2021-12-21T09:16:26.332580",
     "exception": false,
     "start_time": "2021-12-21T09:16:26.228055",
     "status": "completed"
    },
    "tags": []
   },
   "outputs": [],
   "source": [
    "import sys\n",
    "\n",
    "import os\n",
    "\n",
    "import random as pyrand\n",
    "\n",
    "os.environ['TF_CPP_MIN_LOG_LEVEL'] = '3'\n",
    "\n",
    "sys.path.insert(0, '../input/deeplearning-utils')"
   ]
  },
  {
   "cell_type": "code",
   "execution_count": 2,
   "id": "5950989f",
   "metadata": {
    "execution": {
     "iopub.execute_input": "2021-12-21T09:16:26.370327Z",
     "iopub.status.busy": "2021-12-21T09:16:26.369831Z",
     "iopub.status.idle": "2021-12-21T09:16:31.599511Z",
     "shell.execute_reply": "2021-12-21T09:16:31.599990Z",
     "shell.execute_reply.started": "2021-12-20T20:53:52.554998Z"
    },
    "papermill": {
     "duration": 5.250572,
     "end_time": "2021-12-21T09:16:31.600156",
     "exception": false,
     "start_time": "2021-12-21T09:16:26.349584",
     "status": "completed"
    },
    "tags": []
   },
   "outputs": [],
   "source": [
    "from utils.ops import plot\n",
    "\n",
    "from utils.tf.ops import io, eval as tf_eval"
   ]
  },
  {
   "cell_type": "code",
   "execution_count": 3,
   "id": "e8888153",
   "metadata": {
    "execution": {
     "iopub.execute_input": "2021-12-21T09:16:31.640741Z",
     "iopub.status.busy": "2021-12-21T09:16:31.640064Z",
     "iopub.status.idle": "2021-12-21T09:16:31.773071Z",
     "shell.execute_reply": "2021-12-21T09:16:31.772605Z",
     "shell.execute_reply.started": "2021-12-20T20:53:57.925943Z"
    },
    "papermill": {
     "duration": 0.155963,
     "end_time": "2021-12-21T09:16:31.773200",
     "exception": false,
     "start_time": "2021-12-21T09:16:31.617237",
     "status": "completed"
    },
    "tags": []
   },
   "outputs": [],
   "source": [
    "# This Python 3 environment comes with many helpful analytics libraries installed\n",
    "# It is defined by the kaggle/python Docker image: https://github.com/kaggle/docker-python\n",
    "# For example, here's several helpful packages to load\n",
    "\n",
    "import numpy as np # linear algebra\n",
    "import pandas as pd # data processing, CSV file I/O (e.g. pd.read_csv)\n",
    "\n",
    "# Input data files are available in the read-only \"../input/\" directory\n",
    "# For example, running this (by clicking run or pressing Shift+Enter) will list all files under the input directory\n",
    "\n",
    "import os\n",
    "\n",
    "import matplotlib.pyplot as plt\n",
    "import matplotlib.cm as cm\n",
    "\n",
    "import seaborn as sns\n",
    "\n",
    "from sklearn.model_selection import KFold\n",
    "from sklearn.metrics import accuracy_score\n",
    "\n",
    "from tqdm import tqdm"
   ]
  },
  {
   "cell_type": "code",
   "execution_count": 4,
   "id": "1d13b4ad",
   "metadata": {
    "execution": {
     "iopub.execute_input": "2021-12-21T09:16:31.810339Z",
     "iopub.status.busy": "2021-12-21T09:16:31.809571Z",
     "iopub.status.idle": "2021-12-21T09:16:31.815317Z",
     "shell.execute_reply": "2021-12-21T09:16:31.814893Z",
     "shell.execute_reply.started": "2021-12-20T20:53:58.063141Z"
    },
    "papermill": {
     "duration": 0.02543,
     "end_time": "2021-12-21T09:16:31.815422",
     "exception": false,
     "start_time": "2021-12-21T09:16:31.789992",
     "status": "completed"
    },
    "tags": []
   },
   "outputs": [],
   "source": [
    "from kaggle_secrets import UserSecretsClient\n",
    "from kaggle_datasets import KaggleDatasets"
   ]
  },
  {
   "cell_type": "code",
   "execution_count": 5,
   "id": "c940f1ad",
   "metadata": {
    "execution": {
     "iopub.execute_input": "2021-12-21T09:16:31.853067Z",
     "iopub.status.busy": "2021-12-21T09:16:31.852270Z",
     "iopub.status.idle": "2021-12-21T09:16:31.957180Z",
     "shell.execute_reply": "2021-12-21T09:16:31.956778Z",
     "shell.execute_reply.started": "2021-12-20T20:53:58.071656Z"
    },
    "papermill": {
     "duration": 0.123731,
     "end_time": "2021-12-21T09:16:31.957290",
     "exception": false,
     "start_time": "2021-12-21T09:16:31.833559",
     "status": "completed"
    },
    "tags": []
   },
   "outputs": [],
   "source": [
    "import tensorflow as tf\n",
    "\n",
    "from tensorflow.keras import backend, optimizers, regularizers\n",
    "\n",
    "from tensorflow.keras.layers import *\n",
    "\n",
    "from tensorflow.keras.models import Sequential, Model\n",
    "\n",
    "# from tensorflow.keras.applications import *\n",
    "\n",
    "from tensorflow.keras.layers.experimental import preprocessing\n",
    "\n",
    "import tensorflow_addons as tfa"
   ]
  },
  {
   "cell_type": "markdown",
   "id": "31a3fc72",
   "metadata": {
    "papermill": {
     "duration": 0.017091,
     "end_time": "2021-12-21T09:16:31.990950",
     "exception": false,
     "start_time": "2021-12-21T09:16:31.973859",
     "status": "completed"
    },
    "tags": []
   },
   "source": [
    "# **Config**"
   ]
  },
  {
   "cell_type": "code",
   "execution_count": 6,
   "id": "39f53c39",
   "metadata": {
    "execution": {
     "iopub.execute_input": "2021-12-21T09:16:32.029267Z",
     "iopub.status.busy": "2021-12-21T09:16:32.028573Z",
     "iopub.status.idle": "2021-12-21T09:16:32.030784Z",
     "shell.execute_reply": "2021-12-21T09:16:32.031180Z",
     "shell.execute_reply.started": "2021-12-20T20:53:58.1774Z"
    },
    "papermill": {
     "duration": 0.02372,
     "end_time": "2021-12-21T09:16:32.031300",
     "exception": false,
     "start_time": "2021-12-21T09:16:32.007580",
     "status": "completed"
    },
    "tags": []
   },
   "outputs": [],
   "source": [
    "def set_seed(tf_seed=0, np_seed=0, py_rand=0, py_hash=0):\n",
    "\n",
    "    os.environ['PYTHONHASHSEED'] = str(py_hash)\n",
    "    pyrand.seed(py_rand)\n",
    "\n",
    "    tf.random.set_seed(tf_seed)\n",
    "    np.random.seed(np_seed)"
   ]
  },
  {
   "cell_type": "code",
   "execution_count": 7,
   "id": "7739a080",
   "metadata": {
    "execution": {
     "iopub.execute_input": "2021-12-21T09:16:32.068771Z",
     "iopub.status.busy": "2021-12-21T09:16:32.068033Z",
     "iopub.status.idle": "2021-12-21T09:16:32.070402Z",
     "shell.execute_reply": "2021-12-21T09:16:32.070020Z",
     "shell.execute_reply.started": "2021-12-20T20:53:58.186419Z"
    },
    "papermill": {
     "duration": 0.022784,
     "end_time": "2021-12-21T09:16:32.070523",
     "exception": false,
     "start_time": "2021-12-21T09:16:32.047739",
     "status": "completed"
    },
    "tags": []
   },
   "outputs": [],
   "source": [
    "class Config:\n",
    "    \n",
    "    SEED = 2053\n",
    "    \n",
    "    IMAGE_SIZE = (224, 224)\n",
    "    \n",
    "    TRAINING = False"
   ]
  },
  {
   "cell_type": "code",
   "execution_count": 8,
   "id": "691d4d18",
   "metadata": {
    "execution": {
     "iopub.execute_input": "2021-12-21T09:16:32.107515Z",
     "iopub.status.busy": "2021-12-21T09:16:32.106880Z",
     "iopub.status.idle": "2021-12-21T09:16:32.109449Z",
     "shell.execute_reply": "2021-12-21T09:16:32.109057Z",
     "shell.execute_reply.started": "2021-12-20T20:53:58.192709Z"
    },
    "papermill": {
     "duration": 0.022573,
     "end_time": "2021-12-21T09:16:32.109582",
     "exception": false,
     "start_time": "2021-12-21T09:16:32.087009",
     "status": "completed"
    },
    "tags": []
   },
   "outputs": [],
   "source": [
    "set_seed(Config.SEED)"
   ]
  },
  {
   "cell_type": "code",
   "execution_count": 9,
   "id": "5109dc07",
   "metadata": {
    "execution": {
     "iopub.execute_input": "2021-12-21T09:16:32.147897Z",
     "iopub.status.busy": "2021-12-21T09:16:32.147304Z",
     "iopub.status.idle": "2021-12-21T09:16:32.154453Z",
     "shell.execute_reply": "2021-12-21T09:16:32.155056Z",
     "shell.execute_reply.started": "2021-12-20T20:53:58.200034Z"
    },
    "papermill": {
     "duration": 0.029189,
     "end_time": "2021-12-21T09:16:32.155177",
     "exception": false,
     "start_time": "2021-12-21T09:16:32.125988",
     "status": "completed"
    },
    "tags": []
   },
   "outputs": [
    {
     "name": "stdout",
     "output_type": "stream",
     "text": [
      "REPLICAS:  1\n"
     ]
    }
   ],
   "source": [
    "try:\n",
    "    \n",
    "    tpu = tf.distribute.cluster_resolver.TPUClusterResolver()\n",
    "    \n",
    "    print('Running on TPU ', tpu.master())\n",
    "    \n",
    "except ValueError:\n",
    "  \n",
    "    tpu = None\n",
    "\n",
    "if tpu is not None:\n",
    "    \n",
    "    tf.config.experimental_connect_to_cluster(tpu)\n",
    "    tf.tpu.experimental.initialize_tpu_system(tpu)\n",
    "\n",
    "    strategy = tf.distribute.experimental.TPUStrategy(tpu)\n",
    "\n",
    "else:\n",
    "    \n",
    "    strategy = tf.distribute.get_strategy()\n",
    "\n",
    "\n",
    "print(\"REPLICAS: \", strategy.num_replicas_in_sync)"
   ]
  },
  {
   "cell_type": "markdown",
   "id": "c3d79552",
   "metadata": {
    "papermill": {
     "duration": 0.016816,
     "end_time": "2021-12-21T09:16:32.188959",
     "exception": false,
     "start_time": "2021-12-21T09:16:32.172143",
     "status": "completed"
    },
    "tags": []
   },
   "source": [
    "# **Load Data**"
   ]
  },
  {
   "cell_type": "code",
   "execution_count": 10,
   "id": "1315a2f6",
   "metadata": {
    "execution": {
     "iopub.execute_input": "2021-12-21T09:16:32.226911Z",
     "iopub.status.busy": "2021-12-21T09:16:32.226178Z",
     "iopub.status.idle": "2021-12-21T09:16:32.228158Z",
     "shell.execute_reply": "2021-12-21T09:16:32.228579Z",
     "shell.execute_reply.started": "2021-12-20T20:53:58.216295Z"
    },
    "papermill": {
     "duration": 0.022812,
     "end_time": "2021-12-21T09:16:32.228709",
     "exception": false,
     "start_time": "2021-12-21T09:16:32.205897",
     "status": "completed"
    },
    "tags": []
   },
   "outputs": [],
   "source": [
    "AUTOTUNE = tf.data.experimental.AUTOTUNE\n",
    "\n",
    "ignore_order = tf.data.Options()\n",
    "ignore_order.experimental_deterministic = False"
   ]
  },
  {
   "cell_type": "code",
   "execution_count": 11,
   "id": "d89a02a7",
   "metadata": {
    "execution": {
     "iopub.execute_input": "2021-12-21T09:16:32.266099Z",
     "iopub.status.busy": "2021-12-21T09:16:32.265601Z",
     "iopub.status.idle": "2021-12-21T09:16:34.552963Z",
     "shell.execute_reply": "2021-12-21T09:16:34.552112Z",
     "shell.execute_reply.started": "2021-12-20T20:53:58.223946Z"
    },
    "papermill": {
     "duration": 2.307317,
     "end_time": "2021-12-21T09:16:34.553105",
     "exception": false,
     "start_time": "2021-12-21T09:16:32.245788",
     "status": "completed"
    },
    "tags": []
   },
   "outputs": [
    {
     "name": "stdout",
     "output_type": "stream",
     "text": [
      "3407\n"
     ]
    }
   ],
   "source": [
    "src_dir = '../input/ci-sc22-places-and-scene-recognition/'\n",
    "\n",
    "test_path = tf.io.gfile.glob(src_dir + '/test_images/test_images/*')\n",
    "\n",
    "print(len(test_path))"
   ]
  },
  {
   "cell_type": "code",
   "execution_count": 12,
   "id": "97199684",
   "metadata": {
    "execution": {
     "iopub.execute_input": "2021-12-21T09:16:34.594210Z",
     "iopub.status.busy": "2021-12-21T09:16:34.593390Z",
     "iopub.status.idle": "2021-12-21T09:16:34.595821Z",
     "shell.execute_reply": "2021-12-21T09:16:34.595384Z",
     "shell.execute_reply.started": "2021-12-20T20:54:00.230799Z"
    },
    "papermill": {
     "duration": 0.025017,
     "end_time": "2021-12-21T09:16:34.595929",
     "exception": false,
     "start_time": "2021-12-21T09:16:34.570912",
     "status": "completed"
    },
    "tags": []
   },
   "outputs": [],
   "source": [
    "def read_test_example(i):\n",
    "    \n",
    "    image_name = os.path.split(test_path[i])[1]\n",
    "    \n",
    "    image = io.read_image(test_path[i])\n",
    "    image = tf.expand_dims(image, axis=0)\n",
    "    image = tf.image.resize(image, Config.IMAGE_SIZE)\n",
    "    image = tf.cast(image, dtype=tf.float32)\n",
    "\n",
    "    #     image /= 255.0\n",
    "    \n",
    "    return image_name, image"
   ]
  },
  {
   "cell_type": "markdown",
   "id": "2446a4bb",
   "metadata": {
    "papermill": {
     "duration": 0.016976,
     "end_time": "2021-12-21T09:16:34.630096",
     "exception": false,
     "start_time": "2021-12-21T09:16:34.613120",
     "status": "completed"
    },
    "tags": []
   },
   "source": [
    "# **Build Model**"
   ]
  },
  {
   "cell_type": "code",
   "execution_count": 13,
   "id": "f73429c6",
   "metadata": {
    "execution": {
     "iopub.execute_input": "2021-12-21T09:16:34.668127Z",
     "iopub.status.busy": "2021-12-21T09:16:34.667356Z",
     "iopub.status.idle": "2021-12-21T09:16:34.669261Z",
     "shell.execute_reply": "2021-12-21T09:16:34.669647Z",
     "shell.execute_reply.started": "2021-12-20T20:54:00.238699Z"
    },
    "papermill": {
     "duration": 0.022672,
     "end_time": "2021-12-21T09:16:34.669775",
     "exception": false,
     "start_time": "2021-12-21T09:16:34.647103",
     "status": "completed"
    },
    "tags": []
   },
   "outputs": [],
   "source": [
    "input_shape = (*Config.IMAGE_SIZE, 3)"
   ]
  },
  {
   "cell_type": "code",
   "execution_count": 14,
   "id": "251c0d1e",
   "metadata": {
    "execution": {
     "iopub.execute_input": "2021-12-21T09:16:34.708366Z",
     "iopub.status.busy": "2021-12-21T09:16:34.707874Z",
     "iopub.status.idle": "2021-12-21T09:16:53.465980Z",
     "shell.execute_reply": "2021-12-21T09:16:53.466447Z",
     "shell.execute_reply.started": "2021-12-20T20:54:37.640413Z"
    },
    "papermill": {
     "duration": 18.779732,
     "end_time": "2021-12-21T09:16:53.466637",
     "exception": false,
     "start_time": "2021-12-21T09:16:34.686905",
     "status": "completed"
    },
    "tags": []
   },
   "outputs": [],
   "source": [
    "with strategy.scope():\n",
    "    \n",
    "    efficientnet = tf.keras.models.load_model('../input/cisc22buildefficientnetbn/efficientnetb7.h5', compile=False)\n",
    "    \n",
    "    efficientnet.load_weights('../input/cisc22buildefficientnetbn/noisy_student_efficientnet-b7.h5')\n",
    "    \n",
    "    backbone = Model(efficientnet.inputs, efficientnet.get_layer('block3g_add').output)"
   ]
  },
  {
   "cell_type": "code",
   "execution_count": 15,
   "id": "d3d4acf0",
   "metadata": {
    "execution": {
     "iopub.execute_input": "2021-12-21T09:16:53.511568Z",
     "iopub.status.busy": "2021-12-21T09:16:53.510693Z",
     "iopub.status.idle": "2021-12-21T09:16:53.512451Z",
     "shell.execute_reply": "2021-12-21T09:16:53.512919Z",
     "shell.execute_reply.started": "2021-12-20T20:55:04.512314Z"
    },
    "papermill": {
     "duration": 0.028508,
     "end_time": "2021-12-21T09:16:53.513050",
     "exception": false,
     "start_time": "2021-12-21T09:16:53.484542",
     "status": "completed"
    },
    "tags": []
   },
   "outputs": [],
   "source": [
    "def build_model():\n",
    "    \n",
    "    backbone.trainable = False\n",
    "    \n",
    "    # ===================================================================================\n",
    "    \n",
    "    inputs = Input(shape=input_shape)\n",
    "    \n",
    "    z = backbone(inputs)\n",
    "    \n",
    "    # use: activation = 'linear' or 'swish'\n",
    "    z = Conv2D(filters=1024, kernel_size=(1, 1), activation='relu', kernel_regularizer=None)(z)\n",
    "    z = GlobalAveragePooling2D()(z)\n",
    "\n",
    "    \n",
    "    # ===================================================================================\n",
    "\n",
    "    y_logits = Dense(6, name='y_logits')(z)\n",
    "    y_proba = Activation('softmax', name='y_proba')(y_logits)\n",
    "    \n",
    "    # ===================================================================================\n",
    "\n",
    "    model = Model(inputs, y_proba)\n",
    "    \n",
    "    # ===================================================================================\n",
    "    \n",
    "    optimizer = optimizers.Adam(learning_rate=1e-4, beta_1=0.9, beta_2=0.999)\n",
    "    \n",
    "    loss = tf.losses.CategoricalCrossentropy(label_smoothing=0.01, name='categorical_crossentropy')\n",
    "    metrics = tf.metrics.CategoricalAccuracy(name='accuracy_score')\n",
    "    \n",
    "    model.compile(optimizer=optimizer, loss=loss, metrics=metrics)\n",
    "    \n",
    "    # ===================================================================================\n",
    "\n",
    "    return model"
   ]
  },
  {
   "cell_type": "markdown",
   "id": "d0e5d5d0",
   "metadata": {
    "papermill": {
     "duration": 0.017569,
     "end_time": "2021-12-21T09:16:53.548083",
     "exception": false,
     "start_time": "2021-12-21T09:16:53.530514",
     "status": "completed"
    },
    "tags": []
   },
   "source": [
    "# **Load Model**"
   ]
  },
  {
   "cell_type": "code",
   "execution_count": 16,
   "id": "29341f85",
   "metadata": {
    "execution": {
     "iopub.execute_input": "2021-12-21T09:16:53.586761Z",
     "iopub.status.busy": "2021-12-21T09:16:53.586176Z",
     "iopub.status.idle": "2021-12-21T09:16:53.596291Z",
     "shell.execute_reply": "2021-12-21T09:16:53.596684Z",
     "shell.execute_reply.started": "2021-12-20T20:55:09.816507Z"
    },
    "papermill": {
     "duration": 0.031232,
     "end_time": "2021-12-21T09:16:53.596827",
     "exception": false,
     "start_time": "2021-12-21T09:16:53.565595",
     "status": "completed"
    },
    "tags": []
   },
   "outputs": [
    {
     "name": "stdout",
     "output_type": "stream",
     "text": [
      "1\n"
     ]
    }
   ],
   "source": [
    "weights_path = tf.io.gfile.glob('../input/cisc22placesandscenepretrainedtrainv0/weights-*.h5')\n",
    "\n",
    "print(len(weights_path))"
   ]
  },
  {
   "cell_type": "code",
   "execution_count": 17,
   "id": "e3617ddc",
   "metadata": {
    "execution": {
     "iopub.execute_input": "2021-12-21T09:16:53.639915Z",
     "iopub.status.busy": "2021-12-21T09:16:53.639144Z",
     "iopub.status.idle": "2021-12-21T09:16:54.538292Z",
     "shell.execute_reply": "2021-12-21T09:16:54.537813Z",
     "shell.execute_reply.started": "2021-12-20T20:55:10.05804Z"
    },
    "papermill": {
     "duration": 0.924226,
     "end_time": "2021-12-21T09:16:54.538424",
     "exception": false,
     "start_time": "2021-12-21T09:16:53.614198",
     "status": "completed"
    },
    "tags": []
   },
   "outputs": [],
   "source": [
    "with strategy.scope():\n",
    "\n",
    "    model = build_model()\n",
    "\n",
    "model.load_weights(weights_path[0])"
   ]
  },
  {
   "cell_type": "code",
   "execution_count": 18,
   "id": "2cd31b8c",
   "metadata": {
    "execution": {
     "iopub.execute_input": "2021-12-21T09:16:54.591230Z",
     "iopub.status.busy": "2021-12-21T09:16:54.584022Z",
     "iopub.status.idle": "2021-12-21T09:16:54.595912Z",
     "shell.execute_reply": "2021-12-21T09:16:54.596585Z",
     "shell.execute_reply.started": "2021-12-20T20:55:10.955115Z"
    },
    "papermill": {
     "duration": 0.040576,
     "end_time": "2021-12-21T09:16:54.596715",
     "exception": false,
     "start_time": "2021-12-21T09:16:54.556139",
     "status": "completed"
    },
    "tags": []
   },
   "outputs": [
    {
     "name": "stdout",
     "output_type": "stream",
     "text": [
      "Model: \"model_1\"\n",
      "_________________________________________________________________\n",
      "Layer (type)                 Output Shape              Param #   \n",
      "=================================================================\n",
      "input_1 (InputLayer)         [(None, 224, 224, 3)]     0         \n",
      "_________________________________________________________________\n",
      "model (Functional)           (None, 7, 7, 80)          1005128   \n",
      "_________________________________________________________________\n",
      "conv2d (Conv2D)              (None, 7, 7, 1024)        82944     \n",
      "_________________________________________________________________\n",
      "global_average_pooling2d (Gl (None, 1024)              0         \n",
      "_________________________________________________________________\n",
      "y_logits (Dense)             (None, 6)                 6150      \n",
      "_________________________________________________________________\n",
      "y_proba (Activation)         (None, 6)                 0         \n",
      "=================================================================\n",
      "Total params: 1,094,222\n",
      "Trainable params: 89,094\n",
      "Non-trainable params: 1,005,128\n",
      "_________________________________________________________________\n"
     ]
    }
   ],
   "source": [
    "model.summary()"
   ]
  },
  {
   "cell_type": "markdown",
   "id": "69371331",
   "metadata": {
    "papermill": {
     "duration": 0.017494,
     "end_time": "2021-12-21T09:16:54.632278",
     "exception": false,
     "start_time": "2021-12-21T09:16:54.614784",
     "status": "completed"
    },
    "tags": []
   },
   "source": [
    "# **Submission**"
   ]
  },
  {
   "cell_type": "code",
   "execution_count": 19,
   "id": "b252c8be",
   "metadata": {
    "execution": {
     "iopub.execute_input": "2021-12-21T09:16:54.673102Z",
     "iopub.status.busy": "2021-12-21T09:16:54.672536Z",
     "iopub.status.idle": "2021-12-21T09:18:14.204082Z",
     "shell.execute_reply": "2021-12-21T09:18:14.203610Z",
     "shell.execute_reply.started": "2021-12-20T20:55:16.479409Z"
    },
    "papermill": {
     "duration": 79.554319,
     "end_time": "2021-12-21T09:18:14.204208",
     "exception": false,
     "start_time": "2021-12-21T09:16:54.649889",
     "status": "completed"
    },
    "tags": []
   },
   "outputs": [
    {
     "name": "stderr",
     "output_type": "stream",
     "text": [
      "100%|██████████| 3407/3407 [01:19<00:00, 42.85it/s]\n"
     ]
    }
   ],
   "source": [
    "submission = pd.read_csv(src_dir + 'sample_submission.csv')\n",
    "\n",
    "submission.drop([0, 1], axis=0, inplace=True)\n",
    "\n",
    "for i in tqdm(range(len(test_path))):\n",
    "    \n",
    "    image_name, image = read_test_example(i)\n",
    "    \n",
    "    y = model.predict_on_batch(image).argmax(axis=-1)[0]\n",
    "    \n",
    "    submission = submission.append({'image_name': image_name, 'label': y}, ignore_index=True)"
   ]
  },
  {
   "cell_type": "code",
   "execution_count": 20,
   "id": "f7d4bf06",
   "metadata": {
    "execution": {
     "iopub.execute_input": "2021-12-21T09:18:14.574079Z",
     "iopub.status.busy": "2021-12-21T09:18:14.573257Z",
     "iopub.status.idle": "2021-12-21T09:18:14.584880Z",
     "shell.execute_reply": "2021-12-21T09:18:14.584429Z",
     "shell.execute_reply.started": "2021-12-20T20:56:35.124934Z"
    },
    "papermill": {
     "duration": 0.198658,
     "end_time": "2021-12-21T09:18:14.585004",
     "exception": false,
     "start_time": "2021-12-21T09:18:14.386346",
     "status": "completed"
    },
    "tags": []
   },
   "outputs": [],
   "source": [
    "submission.to_csv('submission.csv', index=False, encoding='utf-8')"
   ]
  },
  {
   "cell_type": "code",
   "execution_count": null,
   "id": "4e320236",
   "metadata": {
    "papermill": {
     "duration": 0.181065,
     "end_time": "2021-12-21T09:18:14.947115",
     "exception": false,
     "start_time": "2021-12-21T09:18:14.766050",
     "status": "completed"
    },
    "tags": []
   },
   "outputs": [],
   "source": []
  }
 ],
 "metadata": {
  "kernelspec": {
   "display_name": "Python 3",
   "language": "python",
   "name": "python3"
  },
  "language_info": {
   "codemirror_mode": {
    "name": "ipython",
    "version": 3
   },
   "file_extension": ".py",
   "mimetype": "text/x-python",
   "name": "python",
   "nbconvert_exporter": "python",
   "pygments_lexer": "ipython3",
   "version": "3.7.10"
  },
  "papermill": {
   "default_parameters": {},
   "duration": 118.637203,
   "end_time": "2021-12-21T09:18:18.346300",
   "environment_variables": {},
   "exception": null,
   "input_path": "__notebook__.ipynb",
   "output_path": "__notebook__.ipynb",
   "parameters": {},
   "start_time": "2021-12-21T09:16:19.709097",
   "version": "2.3.3"
  }
 },
 "nbformat": 4,
 "nbformat_minor": 5
}
